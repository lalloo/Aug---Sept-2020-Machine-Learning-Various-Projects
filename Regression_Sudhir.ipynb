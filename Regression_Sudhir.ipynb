{
  "nbformat": 4,
  "nbformat_minor": 0,
  "metadata": {
    "colab": {
      "name": "Regression_Sudhir.ipynb",
      "provenance": [],
      "collapsed_sections": []
    },
    "kernelspec": {
      "name": "python3",
      "display_name": "Python 3"
    }
  },
  "cells": [
    {
      "cell_type": "code",
      "metadata": {
        "id": "-jGa4o0lYxH_",
        "outputId": "5972bf6e-8633-466f-dbaa-d1b655c48269",
        "colab": {
          "base_uri": "https://localhost:8080/",
          "height": 70
        }
      },
      "source": [
        "import numpy as np\n",
        "import matplotlib.pyplot as plt\n",
        "import pandas as pd\n",
        "import seaborn as sns\n"
      ],
      "execution_count": null,
      "outputs": [
        {
          "output_type": "stream",
          "text": [
            "/usr/local/lib/python3.6/dist-packages/statsmodels/tools/_testing.py:19: FutureWarning: pandas.util.testing is deprecated. Use the functions in the public API at pandas.testing instead.\n",
            "  import pandas.util.testing as tm\n"
          ],
          "name": "stderr"
        }
      ]
    },
    {
      "cell_type": "code",
      "metadata": {
        "id": "gvBQA4GoZEWy"
      },
      "source": [
        "from google.colab import files"
      ],
      "execution_count": null,
      "outputs": []
    },
    {
      "cell_type": "code",
      "metadata": {
        "id": "ZML81xJfZcft",
        "outputId": "f3e051cb-b204-442a-e8db-76b846035794",
        "colab": {
          "resources": {
            "http://localhost:8080/nbextensions/google.colab/files.js": {
              "data": "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",
              "ok": true,
              "headers": [
                [
                  "content-type",
                  "application/javascript"
                ]
              ],
              "status": 200,
              "status_text": ""
            }
          },
          "base_uri": "https://localhost:8080/",
          "height": 102
        }
      },
      "source": [
        "file_1 = files.upload()"
      ],
      "execution_count": null,
      "outputs": [
        {
          "output_type": "display_data",
          "data": {
            "text/html": [
              "\n",
              "     <input type=\"file\" id=\"files-7b3ce121-5ad0-49c5-b1a5-7a85752398fe\" name=\"files[]\" multiple disabled\n",
              "        style=\"border:none\" />\n",
              "     <output id=\"result-7b3ce121-5ad0-49c5-b1a5-7a85752398fe\">\n",
              "      Upload widget is only available when the cell has been executed in the\n",
              "      current browser session. Please rerun this cell to enable.\n",
              "      </output>\n",
              "      <script src=\"/nbextensions/google.colab/files.js\"></script> "
            ],
            "text/plain": [
              "<IPython.core.display.HTML object>"
            ]
          },
          "metadata": {
            "tags": []
          }
        },
        {
          "output_type": "stream",
          "text": [
            "Saving Movie_classification.csv to Movie_classification.csv\n",
            "Saving Movie_regression.csv to Movie_regression.csv\n"
          ],
          "name": "stdout"
        }
      ]
    },
    {
      "cell_type": "code",
      "metadata": {
        "id": "pQMtSsAHZjOd"
      },
      "source": [
        "df = pd.read_csv('/content/Movie_regression.csv', header=0)"
      ],
      "execution_count": null,
      "outputs": []
    },
    {
      "cell_type": "code",
      "metadata": {
        "id": "laWr6JdqZ2aE",
        "outputId": "2b0e8558-5986-4768-826b-1206e78ca442",
        "colab": {
          "base_uri": "https://localhost:8080/",
          "height": 227
        }
      },
      "source": [
        "df.head()"
      ],
      "execution_count": null,
      "outputs": [
        {
          "output_type": "execute_result",
          "data": {
            "text/html": [
              "<div>\n",
              "<style scoped>\n",
              "    .dataframe tbody tr th:only-of-type {\n",
              "        vertical-align: middle;\n",
              "    }\n",
              "\n",
              "    .dataframe tbody tr th {\n",
              "        vertical-align: top;\n",
              "    }\n",
              "\n",
              "    .dataframe thead th {\n",
              "        text-align: right;\n",
              "    }\n",
              "</style>\n",
              "<table border=\"1\" class=\"dataframe\">\n",
              "  <thead>\n",
              "    <tr style=\"text-align: right;\">\n",
              "      <th></th>\n",
              "      <th>Marketing expense</th>\n",
              "      <th>Production expense</th>\n",
              "      <th>Multiplex coverage</th>\n",
              "      <th>Budget</th>\n",
              "      <th>Movie_length</th>\n",
              "      <th>Lead_ Actor_Rating</th>\n",
              "      <th>Lead_Actress_rating</th>\n",
              "      <th>Director_rating</th>\n",
              "      <th>Producer_rating</th>\n",
              "      <th>Critic_rating</th>\n",
              "      <th>Trailer_views</th>\n",
              "      <th>3D_available</th>\n",
              "      <th>Time_taken</th>\n",
              "      <th>Twitter_hastags</th>\n",
              "      <th>Genre</th>\n",
              "      <th>Avg_age_actors</th>\n",
              "      <th>Num_multiplex</th>\n",
              "      <th>Collection</th>\n",
              "    </tr>\n",
              "  </thead>\n",
              "  <tbody>\n",
              "    <tr>\n",
              "      <th>0</th>\n",
              "      <td>20.1264</td>\n",
              "      <td>59.62</td>\n",
              "      <td>0.462</td>\n",
              "      <td>36524.125</td>\n",
              "      <td>138.7</td>\n",
              "      <td>7.825</td>\n",
              "      <td>8.095</td>\n",
              "      <td>7.910</td>\n",
              "      <td>7.995</td>\n",
              "      <td>7.94</td>\n",
              "      <td>527367</td>\n",
              "      <td>YES</td>\n",
              "      <td>109.60</td>\n",
              "      <td>223.840</td>\n",
              "      <td>Thriller</td>\n",
              "      <td>23</td>\n",
              "      <td>494</td>\n",
              "      <td>48000</td>\n",
              "    </tr>\n",
              "    <tr>\n",
              "      <th>1</th>\n",
              "      <td>20.5462</td>\n",
              "      <td>69.14</td>\n",
              "      <td>0.531</td>\n",
              "      <td>35668.655</td>\n",
              "      <td>152.4</td>\n",
              "      <td>7.505</td>\n",
              "      <td>7.650</td>\n",
              "      <td>7.440</td>\n",
              "      <td>7.470</td>\n",
              "      <td>7.44</td>\n",
              "      <td>494055</td>\n",
              "      <td>NO</td>\n",
              "      <td>146.64</td>\n",
              "      <td>243.456</td>\n",
              "      <td>Drama</td>\n",
              "      <td>42</td>\n",
              "      <td>462</td>\n",
              "      <td>43200</td>\n",
              "    </tr>\n",
              "    <tr>\n",
              "      <th>2</th>\n",
              "      <td>20.5458</td>\n",
              "      <td>69.14</td>\n",
              "      <td>0.531</td>\n",
              "      <td>39912.675</td>\n",
              "      <td>134.6</td>\n",
              "      <td>7.485</td>\n",
              "      <td>7.570</td>\n",
              "      <td>7.495</td>\n",
              "      <td>7.515</td>\n",
              "      <td>7.44</td>\n",
              "      <td>547051</td>\n",
              "      <td>NO</td>\n",
              "      <td>147.88</td>\n",
              "      <td>2022.400</td>\n",
              "      <td>Comedy</td>\n",
              "      <td>38</td>\n",
              "      <td>458</td>\n",
              "      <td>69400</td>\n",
              "    </tr>\n",
              "    <tr>\n",
              "      <th>3</th>\n",
              "      <td>20.6474</td>\n",
              "      <td>59.36</td>\n",
              "      <td>0.542</td>\n",
              "      <td>38873.890</td>\n",
              "      <td>119.3</td>\n",
              "      <td>6.895</td>\n",
              "      <td>7.035</td>\n",
              "      <td>6.920</td>\n",
              "      <td>7.020</td>\n",
              "      <td>8.26</td>\n",
              "      <td>516279</td>\n",
              "      <td>YES</td>\n",
              "      <td>185.36</td>\n",
              "      <td>225.344</td>\n",
              "      <td>Drama</td>\n",
              "      <td>45</td>\n",
              "      <td>472</td>\n",
              "      <td>66800</td>\n",
              "    </tr>\n",
              "    <tr>\n",
              "      <th>4</th>\n",
              "      <td>21.3810</td>\n",
              "      <td>59.36</td>\n",
              "      <td>0.542</td>\n",
              "      <td>39701.585</td>\n",
              "      <td>127.7</td>\n",
              "      <td>6.920</td>\n",
              "      <td>7.070</td>\n",
              "      <td>6.815</td>\n",
              "      <td>7.070</td>\n",
              "      <td>8.26</td>\n",
              "      <td>531448</td>\n",
              "      <td>NO</td>\n",
              "      <td>176.48</td>\n",
              "      <td>225.792</td>\n",
              "      <td>Drama</td>\n",
              "      <td>55</td>\n",
              "      <td>395</td>\n",
              "      <td>72400</td>\n",
              "    </tr>\n",
              "  </tbody>\n",
              "</table>\n",
              "</div>"
            ],
            "text/plain": [
              "   Marketing expense  Production expense  ...  Num_multiplex  Collection\n",
              "0            20.1264               59.62  ...            494       48000\n",
              "1            20.5462               69.14  ...            462       43200\n",
              "2            20.5458               69.14  ...            458       69400\n",
              "3            20.6474               59.36  ...            472       66800\n",
              "4            21.3810               59.36  ...            395       72400\n",
              "\n",
              "[5 rows x 18 columns]"
            ]
          },
          "metadata": {
            "tags": []
          },
          "execution_count": 5
        }
      ]
    },
    {
      "cell_type": "code",
      "metadata": {
        "id": "o9H-_k_EbkxP",
        "outputId": "22563967-4318-4454-ce07-7a10101822d4",
        "colab": {
          "base_uri": "https://localhost:8080/",
          "height": 423
        }
      },
      "source": [
        "df.info()"
      ],
      "execution_count": null,
      "outputs": [
        {
          "output_type": "stream",
          "text": [
            "<class 'pandas.core.frame.DataFrame'>\n",
            "RangeIndex: 506 entries, 0 to 505\n",
            "Data columns (total 18 columns):\n",
            " #   Column               Non-Null Count  Dtype  \n",
            "---  ------               --------------  -----  \n",
            " 0   Marketing expense    506 non-null    float64\n",
            " 1   Production expense   506 non-null    float64\n",
            " 2   Multiplex coverage   506 non-null    float64\n",
            " 3   Budget               506 non-null    float64\n",
            " 4   Movie_length         506 non-null    float64\n",
            " 5   Lead_ Actor_Rating   506 non-null    float64\n",
            " 6   Lead_Actress_rating  506 non-null    float64\n",
            " 7   Director_rating      506 non-null    float64\n",
            " 8   Producer_rating      506 non-null    float64\n",
            " 9   Critic_rating        506 non-null    float64\n",
            " 10  Trailer_views        506 non-null    int64  \n",
            " 11  3D_available         506 non-null    object \n",
            " 12  Time_taken           494 non-null    float64\n",
            " 13  Twitter_hastags      506 non-null    float64\n",
            " 14  Genre                506 non-null    object \n",
            " 15  Avg_age_actors       506 non-null    int64  \n",
            " 16  Num_multiplex        506 non-null    int64  \n",
            " 17  Collection           506 non-null    int64  \n",
            "dtypes: float64(12), int64(4), object(2)\n",
            "memory usage: 71.3+ KB\n"
          ],
          "name": "stdout"
        }
      ]
    },
    {
      "cell_type": "code",
      "metadata": {
        "id": "lRq76I53c_j8",
        "outputId": "d16e6fce-62b6-4e66-af49-57494a89f409",
        "colab": {
          "base_uri": "https://localhost:8080/",
          "height": 33
        }
      },
      "source": [
        "len(df)"
      ],
      "execution_count": null,
      "outputs": [
        {
          "output_type": "execute_result",
          "data": {
            "text/plain": [
              "506"
            ]
          },
          "metadata": {
            "tags": []
          },
          "execution_count": 7
        }
      ]
    },
    {
      "cell_type": "code",
      "metadata": {
        "id": "SxSYuVkFdKze",
        "outputId": "6760cbdc-4c98-42a0-e2a8-bec07cf39fa7",
        "colab": {
          "base_uri": "https://localhost:8080/",
          "height": 33
        }
      },
      "source": [
        "df['Time_taken'].mean()"
      ],
      "execution_count": null,
      "outputs": [
        {
          "output_type": "execute_result",
          "data": {
            "text/plain": [
              "157.39149797570855"
            ]
          },
          "metadata": {
            "tags": []
          },
          "execution_count": 8
        }
      ]
    },
    {
      "cell_type": "code",
      "metadata": {
        "id": "I7FstIB9d-Dz"
      },
      "source": [
        "df['Time_taken'] = df['Time_taken'].fillna(value= df['Time_taken'].mean())"
      ],
      "execution_count": null,
      "outputs": []
    },
    {
      "cell_type": "code",
      "metadata": {
        "id": "go-mF2OeepVd",
        "outputId": "f966096b-4b05-40e9-8944-3c646d425759",
        "colab": {
          "base_uri": "https://localhost:8080/",
          "height": 423
        }
      },
      "source": [
        "df.info()"
      ],
      "execution_count": null,
      "outputs": [
        {
          "output_type": "stream",
          "text": [
            "<class 'pandas.core.frame.DataFrame'>\n",
            "RangeIndex: 506 entries, 0 to 505\n",
            "Data columns (total 18 columns):\n",
            " #   Column               Non-Null Count  Dtype  \n",
            "---  ------               --------------  -----  \n",
            " 0   Marketing expense    506 non-null    float64\n",
            " 1   Production expense   506 non-null    float64\n",
            " 2   Multiplex coverage   506 non-null    float64\n",
            " 3   Budget               506 non-null    float64\n",
            " 4   Movie_length         506 non-null    float64\n",
            " 5   Lead_ Actor_Rating   506 non-null    float64\n",
            " 6   Lead_Actress_rating  506 non-null    float64\n",
            " 7   Director_rating      506 non-null    float64\n",
            " 8   Producer_rating      506 non-null    float64\n",
            " 9   Critic_rating        506 non-null    float64\n",
            " 10  Trailer_views        506 non-null    int64  \n",
            " 11  3D_available         506 non-null    object \n",
            " 12  Time_taken           506 non-null    float64\n",
            " 13  Twitter_hastags      506 non-null    float64\n",
            " 14  Genre                506 non-null    object \n",
            " 15  Avg_age_actors       506 non-null    int64  \n",
            " 16  Num_multiplex        506 non-null    int64  \n",
            " 17  Collection           506 non-null    int64  \n",
            "dtypes: float64(12), int64(4), object(2)\n",
            "memory usage: 71.3+ KB\n"
          ],
          "name": "stdout"
        }
      ]
    },
    {
      "cell_type": "code",
      "metadata": {
        "id": "kEsweQFXevGr",
        "outputId": "93231768-7277-4a83-9b89-6620728b8797",
        "colab": {
          "base_uri": "https://localhost:8080/",
          "height": 423
        }
      },
      "source": [
        "df.info()"
      ],
      "execution_count": null,
      "outputs": [
        {
          "output_type": "stream",
          "text": [
            "<class 'pandas.core.frame.DataFrame'>\n",
            "RangeIndex: 506 entries, 0 to 505\n",
            "Data columns (total 18 columns):\n",
            " #   Column               Non-Null Count  Dtype  \n",
            "---  ------               --------------  -----  \n",
            " 0   Marketing expense    506 non-null    float64\n",
            " 1   Production expense   506 non-null    float64\n",
            " 2   Multiplex coverage   506 non-null    float64\n",
            " 3   Budget               506 non-null    float64\n",
            " 4   Movie_length         506 non-null    float64\n",
            " 5   Lead_ Actor_Rating   506 non-null    float64\n",
            " 6   Lead_Actress_rating  506 non-null    float64\n",
            " 7   Director_rating      506 non-null    float64\n",
            " 8   Producer_rating      506 non-null    float64\n",
            " 9   Critic_rating        506 non-null    float64\n",
            " 10  Trailer_views        506 non-null    int64  \n",
            " 11  3D_available         506 non-null    object \n",
            " 12  Time_taken           506 non-null    float64\n",
            " 13  Twitter_hastags      506 non-null    float64\n",
            " 14  Genre                506 non-null    object \n",
            " 15  Avg_age_actors       506 non-null    int64  \n",
            " 16  Num_multiplex        506 non-null    int64  \n",
            " 17  Collection           506 non-null    int64  \n",
            "dtypes: float64(12), int64(4), object(2)\n",
            "memory usage: 71.3+ KB\n"
          ],
          "name": "stdout"
        }
      ]
    },
    {
      "cell_type": "code",
      "metadata": {
        "id": "TfBHpdNEglL_",
        "outputId": "7b21ccbe-c60a-4707-bac6-9250371d9e89",
        "colab": {
          "base_uri": "https://localhost:8080/",
          "height": 212
        }
      },
      "source": [
        "df['Time_taken']"
      ],
      "execution_count": null,
      "outputs": [
        {
          "output_type": "execute_result",
          "data": {
            "text/plain": [
              "0      109.60\n",
              "1      146.64\n",
              "2      147.88\n",
              "3      185.36\n",
              "4      176.48\n",
              "        ...  \n",
              "501    186.96\n",
              "502    132.24\n",
              "503    109.56\n",
              "504    158.80\n",
              "505    205.60\n",
              "Name: Time_taken, Length: 506, dtype: float64"
            ]
          },
          "metadata": {
            "tags": []
          },
          "execution_count": 12
        }
      ]
    },
    {
      "cell_type": "code",
      "metadata": {
        "id": "3jJruEfUhYEE",
        "outputId": "0da275da-ad56-489a-f44f-4689033ba1de",
        "colab": {
          "base_uri": "https://localhost:8080/",
          "height": 115
        }
      },
      "source": [
        "df['3D_available'].head()"
      ],
      "execution_count": null,
      "outputs": [
        {
          "output_type": "execute_result",
          "data": {
            "text/plain": [
              "0    YES\n",
              "1     NO\n",
              "2     NO\n",
              "3    YES\n",
              "4     NO\n",
              "Name: 3D_available, dtype: object"
            ]
          },
          "metadata": {
            "tags": []
          },
          "execution_count": 13
        }
      ]
    },
    {
      "cell_type": "code",
      "metadata": {
        "id": "lMAy1_G6kcjP",
        "outputId": "dbd8d21e-2da6-4820-94d7-140f530b7109",
        "colab": {
          "base_uri": "https://localhost:8080/",
          "height": 115
        }
      },
      "source": [
        "df['Genre'].head()"
      ],
      "execution_count": null,
      "outputs": [
        {
          "output_type": "execute_result",
          "data": {
            "text/plain": [
              "0    Thriller\n",
              "1       Drama\n",
              "2      Comedy\n",
              "3       Drama\n",
              "4       Drama\n",
              "Name: Genre, dtype: object"
            ]
          },
          "metadata": {
            "tags": []
          },
          "execution_count": 14
        }
      ]
    },
    {
      "cell_type": "code",
      "metadata": {
        "id": "pIWtKfp2khco"
      },
      "source": [
        "df = pd.get_dummies(df,columns=['3D_available','Genre'],drop_first=True)"
      ],
      "execution_count": null,
      "outputs": []
    },
    {
      "cell_type": "code",
      "metadata": {
        "id": "u4jtnQNllPhY",
        "outputId": "7a417d4a-01c7-4525-e0ec-16fc9ade7abb",
        "colab": {
          "base_uri": "https://localhost:8080/",
          "height": 227
        }
      },
      "source": [
        "df.head()"
      ],
      "execution_count": null,
      "outputs": [
        {
          "output_type": "execute_result",
          "data": {
            "text/html": [
              "<div>\n",
              "<style scoped>\n",
              "    .dataframe tbody tr th:only-of-type {\n",
              "        vertical-align: middle;\n",
              "    }\n",
              "\n",
              "    .dataframe tbody tr th {\n",
              "        vertical-align: top;\n",
              "    }\n",
              "\n",
              "    .dataframe thead th {\n",
              "        text-align: right;\n",
              "    }\n",
              "</style>\n",
              "<table border=\"1\" class=\"dataframe\">\n",
              "  <thead>\n",
              "    <tr style=\"text-align: right;\">\n",
              "      <th></th>\n",
              "      <th>Marketing expense</th>\n",
              "      <th>Production expense</th>\n",
              "      <th>Multiplex coverage</th>\n",
              "      <th>Budget</th>\n",
              "      <th>Movie_length</th>\n",
              "      <th>Lead_ Actor_Rating</th>\n",
              "      <th>Lead_Actress_rating</th>\n",
              "      <th>Director_rating</th>\n",
              "      <th>Producer_rating</th>\n",
              "      <th>Critic_rating</th>\n",
              "      <th>Trailer_views</th>\n",
              "      <th>Time_taken</th>\n",
              "      <th>Twitter_hastags</th>\n",
              "      <th>Avg_age_actors</th>\n",
              "      <th>Num_multiplex</th>\n",
              "      <th>Collection</th>\n",
              "      <th>3D_available_YES</th>\n",
              "      <th>Genre_Comedy</th>\n",
              "      <th>Genre_Drama</th>\n",
              "      <th>Genre_Thriller</th>\n",
              "    </tr>\n",
              "  </thead>\n",
              "  <tbody>\n",
              "    <tr>\n",
              "      <th>0</th>\n",
              "      <td>20.1264</td>\n",
              "      <td>59.62</td>\n",
              "      <td>0.462</td>\n",
              "      <td>36524.125</td>\n",
              "      <td>138.7</td>\n",
              "      <td>7.825</td>\n",
              "      <td>8.095</td>\n",
              "      <td>7.910</td>\n",
              "      <td>7.995</td>\n",
              "      <td>7.94</td>\n",
              "      <td>527367</td>\n",
              "      <td>109.60</td>\n",
              "      <td>223.840</td>\n",
              "      <td>23</td>\n",
              "      <td>494</td>\n",
              "      <td>48000</td>\n",
              "      <td>1</td>\n",
              "      <td>0</td>\n",
              "      <td>0</td>\n",
              "      <td>1</td>\n",
              "    </tr>\n",
              "    <tr>\n",
              "      <th>1</th>\n",
              "      <td>20.5462</td>\n",
              "      <td>69.14</td>\n",
              "      <td>0.531</td>\n",
              "      <td>35668.655</td>\n",
              "      <td>152.4</td>\n",
              "      <td>7.505</td>\n",
              "      <td>7.650</td>\n",
              "      <td>7.440</td>\n",
              "      <td>7.470</td>\n",
              "      <td>7.44</td>\n",
              "      <td>494055</td>\n",
              "      <td>146.64</td>\n",
              "      <td>243.456</td>\n",
              "      <td>42</td>\n",
              "      <td>462</td>\n",
              "      <td>43200</td>\n",
              "      <td>0</td>\n",
              "      <td>0</td>\n",
              "      <td>1</td>\n",
              "      <td>0</td>\n",
              "    </tr>\n",
              "    <tr>\n",
              "      <th>2</th>\n",
              "      <td>20.5458</td>\n",
              "      <td>69.14</td>\n",
              "      <td>0.531</td>\n",
              "      <td>39912.675</td>\n",
              "      <td>134.6</td>\n",
              "      <td>7.485</td>\n",
              "      <td>7.570</td>\n",
              "      <td>7.495</td>\n",
              "      <td>7.515</td>\n",
              "      <td>7.44</td>\n",
              "      <td>547051</td>\n",
              "      <td>147.88</td>\n",
              "      <td>2022.400</td>\n",
              "      <td>38</td>\n",
              "      <td>458</td>\n",
              "      <td>69400</td>\n",
              "      <td>0</td>\n",
              "      <td>1</td>\n",
              "      <td>0</td>\n",
              "      <td>0</td>\n",
              "    </tr>\n",
              "    <tr>\n",
              "      <th>3</th>\n",
              "      <td>20.6474</td>\n",
              "      <td>59.36</td>\n",
              "      <td>0.542</td>\n",
              "      <td>38873.890</td>\n",
              "      <td>119.3</td>\n",
              "      <td>6.895</td>\n",
              "      <td>7.035</td>\n",
              "      <td>6.920</td>\n",
              "      <td>7.020</td>\n",
              "      <td>8.26</td>\n",
              "      <td>516279</td>\n",
              "      <td>185.36</td>\n",
              "      <td>225.344</td>\n",
              "      <td>45</td>\n",
              "      <td>472</td>\n",
              "      <td>66800</td>\n",
              "      <td>1</td>\n",
              "      <td>0</td>\n",
              "      <td>1</td>\n",
              "      <td>0</td>\n",
              "    </tr>\n",
              "    <tr>\n",
              "      <th>4</th>\n",
              "      <td>21.3810</td>\n",
              "      <td>59.36</td>\n",
              "      <td>0.542</td>\n",
              "      <td>39701.585</td>\n",
              "      <td>127.7</td>\n",
              "      <td>6.920</td>\n",
              "      <td>7.070</td>\n",
              "      <td>6.815</td>\n",
              "      <td>7.070</td>\n",
              "      <td>8.26</td>\n",
              "      <td>531448</td>\n",
              "      <td>176.48</td>\n",
              "      <td>225.792</td>\n",
              "      <td>55</td>\n",
              "      <td>395</td>\n",
              "      <td>72400</td>\n",
              "      <td>0</td>\n",
              "      <td>0</td>\n",
              "      <td>1</td>\n",
              "      <td>0</td>\n",
              "    </tr>\n",
              "  </tbody>\n",
              "</table>\n",
              "</div>"
            ],
            "text/plain": [
              "   Marketing expense  Production expense  ...  Genre_Drama  Genre_Thriller\n",
              "0            20.1264               59.62  ...            0               1\n",
              "1            20.5462               69.14  ...            1               0\n",
              "2            20.5458               69.14  ...            0               0\n",
              "3            20.6474               59.36  ...            1               0\n",
              "4            21.3810               59.36  ...            1               0\n",
              "\n",
              "[5 rows x 20 columns]"
            ]
          },
          "metadata": {
            "tags": []
          },
          "execution_count": 16
        }
      ]
    },
    {
      "cell_type": "code",
      "metadata": {
        "id": "pgtmXMgJlQuC",
        "outputId": "148cd8cc-1d92-43f8-f349-71d815aab3c5",
        "colab": {
          "base_uri": "https://localhost:8080/",
          "height": 427
        }
      },
      "source": [
        "df"
      ],
      "execution_count": null,
      "outputs": [
        {
          "output_type": "execute_result",
          "data": {
            "text/html": [
              "<div>\n",
              "<style scoped>\n",
              "    .dataframe tbody tr th:only-of-type {\n",
              "        vertical-align: middle;\n",
              "    }\n",
              "\n",
              "    .dataframe tbody tr th {\n",
              "        vertical-align: top;\n",
              "    }\n",
              "\n",
              "    .dataframe thead th {\n",
              "        text-align: right;\n",
              "    }\n",
              "</style>\n",
              "<table border=\"1\" class=\"dataframe\">\n",
              "  <thead>\n",
              "    <tr style=\"text-align: right;\">\n",
              "      <th></th>\n",
              "      <th>Marketing expense</th>\n",
              "      <th>Production expense</th>\n",
              "      <th>Multiplex coverage</th>\n",
              "      <th>Budget</th>\n",
              "      <th>Movie_length</th>\n",
              "      <th>Lead_ Actor_Rating</th>\n",
              "      <th>Lead_Actress_rating</th>\n",
              "      <th>Director_rating</th>\n",
              "      <th>Producer_rating</th>\n",
              "      <th>Critic_rating</th>\n",
              "      <th>Trailer_views</th>\n",
              "      <th>Time_taken</th>\n",
              "      <th>Twitter_hastags</th>\n",
              "      <th>Avg_age_actors</th>\n",
              "      <th>Num_multiplex</th>\n",
              "      <th>Collection</th>\n",
              "      <th>3D_available_YES</th>\n",
              "      <th>Genre_Comedy</th>\n",
              "      <th>Genre_Drama</th>\n",
              "      <th>Genre_Thriller</th>\n",
              "    </tr>\n",
              "  </thead>\n",
              "  <tbody>\n",
              "    <tr>\n",
              "      <th>0</th>\n",
              "      <td>20.1264</td>\n",
              "      <td>59.62</td>\n",
              "      <td>0.462</td>\n",
              "      <td>36524.125</td>\n",
              "      <td>138.7</td>\n",
              "      <td>7.825</td>\n",
              "      <td>8.095</td>\n",
              "      <td>7.910</td>\n",
              "      <td>7.995</td>\n",
              "      <td>7.94</td>\n",
              "      <td>527367</td>\n",
              "      <td>109.60</td>\n",
              "      <td>223.840</td>\n",
              "      <td>23</td>\n",
              "      <td>494</td>\n",
              "      <td>48000</td>\n",
              "      <td>1</td>\n",
              "      <td>0</td>\n",
              "      <td>0</td>\n",
              "      <td>1</td>\n",
              "    </tr>\n",
              "    <tr>\n",
              "      <th>1</th>\n",
              "      <td>20.5462</td>\n",
              "      <td>69.14</td>\n",
              "      <td>0.531</td>\n",
              "      <td>35668.655</td>\n",
              "      <td>152.4</td>\n",
              "      <td>7.505</td>\n",
              "      <td>7.650</td>\n",
              "      <td>7.440</td>\n",
              "      <td>7.470</td>\n",
              "      <td>7.44</td>\n",
              "      <td>494055</td>\n",
              "      <td>146.64</td>\n",
              "      <td>243.456</td>\n",
              "      <td>42</td>\n",
              "      <td>462</td>\n",
              "      <td>43200</td>\n",
              "      <td>0</td>\n",
              "      <td>0</td>\n",
              "      <td>1</td>\n",
              "      <td>0</td>\n",
              "    </tr>\n",
              "    <tr>\n",
              "      <th>2</th>\n",
              "      <td>20.5458</td>\n",
              "      <td>69.14</td>\n",
              "      <td>0.531</td>\n",
              "      <td>39912.675</td>\n",
              "      <td>134.6</td>\n",
              "      <td>7.485</td>\n",
              "      <td>7.570</td>\n",
              "      <td>7.495</td>\n",
              "      <td>7.515</td>\n",
              "      <td>7.44</td>\n",
              "      <td>547051</td>\n",
              "      <td>147.88</td>\n",
              "      <td>2022.400</td>\n",
              "      <td>38</td>\n",
              "      <td>458</td>\n",
              "      <td>69400</td>\n",
              "      <td>0</td>\n",
              "      <td>1</td>\n",
              "      <td>0</td>\n",
              "      <td>0</td>\n",
              "    </tr>\n",
              "    <tr>\n",
              "      <th>3</th>\n",
              "      <td>20.6474</td>\n",
              "      <td>59.36</td>\n",
              "      <td>0.542</td>\n",
              "      <td>38873.890</td>\n",
              "      <td>119.3</td>\n",
              "      <td>6.895</td>\n",
              "      <td>7.035</td>\n",
              "      <td>6.920</td>\n",
              "      <td>7.020</td>\n",
              "      <td>8.26</td>\n",
              "      <td>516279</td>\n",
              "      <td>185.36</td>\n",
              "      <td>225.344</td>\n",
              "      <td>45</td>\n",
              "      <td>472</td>\n",
              "      <td>66800</td>\n",
              "      <td>1</td>\n",
              "      <td>0</td>\n",
              "      <td>1</td>\n",
              "      <td>0</td>\n",
              "    </tr>\n",
              "    <tr>\n",
              "      <th>4</th>\n",
              "      <td>21.3810</td>\n",
              "      <td>59.36</td>\n",
              "      <td>0.542</td>\n",
              "      <td>39701.585</td>\n",
              "      <td>127.7</td>\n",
              "      <td>6.920</td>\n",
              "      <td>7.070</td>\n",
              "      <td>6.815</td>\n",
              "      <td>7.070</td>\n",
              "      <td>8.26</td>\n",
              "      <td>531448</td>\n",
              "      <td>176.48</td>\n",
              "      <td>225.792</td>\n",
              "      <td>55</td>\n",
              "      <td>395</td>\n",
              "      <td>72400</td>\n",
              "      <td>0</td>\n",
              "      <td>0</td>\n",
              "      <td>1</td>\n",
              "      <td>0</td>\n",
              "    </tr>\n",
              "    <tr>\n",
              "      <th>...</th>\n",
              "      <td>...</td>\n",
              "      <td>...</td>\n",
              "      <td>...</td>\n",
              "      <td>...</td>\n",
              "      <td>...</td>\n",
              "      <td>...</td>\n",
              "      <td>...</td>\n",
              "      <td>...</td>\n",
              "      <td>...</td>\n",
              "      <td>...</td>\n",
              "      <td>...</td>\n",
              "      <td>...</td>\n",
              "      <td>...</td>\n",
              "      <td>...</td>\n",
              "      <td>...</td>\n",
              "      <td>...</td>\n",
              "      <td>...</td>\n",
              "      <td>...</td>\n",
              "      <td>...</td>\n",
              "      <td>...</td>\n",
              "    </tr>\n",
              "    <tr>\n",
              "      <th>501</th>\n",
              "      <td>21.2526</td>\n",
              "      <td>78.86</td>\n",
              "      <td>0.427</td>\n",
              "      <td>36624.115</td>\n",
              "      <td>142.6</td>\n",
              "      <td>8.680</td>\n",
              "      <td>8.775</td>\n",
              "      <td>8.620</td>\n",
              "      <td>8.970</td>\n",
              "      <td>6.80</td>\n",
              "      <td>492480</td>\n",
              "      <td>186.96</td>\n",
              "      <td>243.584</td>\n",
              "      <td>27</td>\n",
              "      <td>561</td>\n",
              "      <td>44800</td>\n",
              "      <td>0</td>\n",
              "      <td>0</td>\n",
              "      <td>0</td>\n",
              "      <td>0</td>\n",
              "    </tr>\n",
              "    <tr>\n",
              "      <th>502</th>\n",
              "      <td>20.9054</td>\n",
              "      <td>78.86</td>\n",
              "      <td>0.427</td>\n",
              "      <td>33996.600</td>\n",
              "      <td>150.2</td>\n",
              "      <td>8.780</td>\n",
              "      <td>8.945</td>\n",
              "      <td>8.770</td>\n",
              "      <td>8.930</td>\n",
              "      <td>7.80</td>\n",
              "      <td>482875</td>\n",
              "      <td>132.24</td>\n",
              "      <td>263.296</td>\n",
              "      <td>20</td>\n",
              "      <td>600</td>\n",
              "      <td>41200</td>\n",
              "      <td>1</td>\n",
              "      <td>0</td>\n",
              "      <td>0</td>\n",
              "      <td>0</td>\n",
              "    </tr>\n",
              "    <tr>\n",
              "      <th>503</th>\n",
              "      <td>21.2152</td>\n",
              "      <td>78.86</td>\n",
              "      <td>0.427</td>\n",
              "      <td>38751.680</td>\n",
              "      <td>164.5</td>\n",
              "      <td>8.830</td>\n",
              "      <td>8.970</td>\n",
              "      <td>8.855</td>\n",
              "      <td>9.010</td>\n",
              "      <td>7.80</td>\n",
              "      <td>532239</td>\n",
              "      <td>109.56</td>\n",
              "      <td>243.824</td>\n",
              "      <td>31</td>\n",
              "      <td>576</td>\n",
              "      <td>47800</td>\n",
              "      <td>0</td>\n",
              "      <td>1</td>\n",
              "      <td>0</td>\n",
              "      <td>0</td>\n",
              "    </tr>\n",
              "    <tr>\n",
              "      <th>504</th>\n",
              "      <td>22.1918</td>\n",
              "      <td>78.86</td>\n",
              "      <td>0.427</td>\n",
              "      <td>37740.670</td>\n",
              "      <td>162.8</td>\n",
              "      <td>8.730</td>\n",
              "      <td>8.845</td>\n",
              "      <td>8.800</td>\n",
              "      <td>8.845</td>\n",
              "      <td>6.80</td>\n",
              "      <td>496077</td>\n",
              "      <td>158.80</td>\n",
              "      <td>303.520</td>\n",
              "      <td>47</td>\n",
              "      <td>607</td>\n",
              "      <td>44000</td>\n",
              "      <td>1</td>\n",
              "      <td>1</td>\n",
              "      <td>0</td>\n",
              "      <td>0</td>\n",
              "    </tr>\n",
              "    <tr>\n",
              "      <th>505</th>\n",
              "      <td>20.9482</td>\n",
              "      <td>78.86</td>\n",
              "      <td>0.427</td>\n",
              "      <td>33496.650</td>\n",
              "      <td>154.3</td>\n",
              "      <td>8.640</td>\n",
              "      <td>8.880</td>\n",
              "      <td>8.680</td>\n",
              "      <td>8.790</td>\n",
              "      <td>6.80</td>\n",
              "      <td>518438</td>\n",
              "      <td>205.60</td>\n",
              "      <td>203.040</td>\n",
              "      <td>45</td>\n",
              "      <td>604</td>\n",
              "      <td>38000</td>\n",
              "      <td>1</td>\n",
              "      <td>1</td>\n",
              "      <td>0</td>\n",
              "      <td>0</td>\n",
              "    </tr>\n",
              "  </tbody>\n",
              "</table>\n",
              "<p>506 rows × 20 columns</p>\n",
              "</div>"
            ],
            "text/plain": [
              "     Marketing expense  Production expense  ...  Genre_Drama  Genre_Thriller\n",
              "0              20.1264               59.62  ...            0               1\n",
              "1              20.5462               69.14  ...            1               0\n",
              "2              20.5458               69.14  ...            0               0\n",
              "3              20.6474               59.36  ...            1               0\n",
              "4              21.3810               59.36  ...            1               0\n",
              "..                 ...                 ...  ...          ...             ...\n",
              "501            21.2526               78.86  ...            0               0\n",
              "502            20.9054               78.86  ...            0               0\n",
              "503            21.2152               78.86  ...            0               0\n",
              "504            22.1918               78.86  ...            0               0\n",
              "505            20.9482               78.86  ...            0               0\n",
              "\n",
              "[506 rows x 20 columns]"
            ]
          },
          "metadata": {
            "tags": []
          },
          "execution_count": 17
        }
      ]
    },
    {
      "cell_type": "code",
      "metadata": {
        "id": "HziykKTYlhiy"
      },
      "source": [
        "X = df.drop(columns='Collection', axis=1)"
      ],
      "execution_count": null,
      "outputs": []
    },
    {
      "cell_type": "code",
      "metadata": {
        "id": "81nYpAdPmgp4",
        "outputId": "b928b140-86b7-4e98-d7b4-45ba676f9da7",
        "colab": {
          "base_uri": "https://localhost:8080/",
          "height": 227
        }
      },
      "source": [
        "X.head()"
      ],
      "execution_count": null,
      "outputs": [
        {
          "output_type": "execute_result",
          "data": {
            "text/html": [
              "<div>\n",
              "<style scoped>\n",
              "    .dataframe tbody tr th:only-of-type {\n",
              "        vertical-align: middle;\n",
              "    }\n",
              "\n",
              "    .dataframe tbody tr th {\n",
              "        vertical-align: top;\n",
              "    }\n",
              "\n",
              "    .dataframe thead th {\n",
              "        text-align: right;\n",
              "    }\n",
              "</style>\n",
              "<table border=\"1\" class=\"dataframe\">\n",
              "  <thead>\n",
              "    <tr style=\"text-align: right;\">\n",
              "      <th></th>\n",
              "      <th>Marketing expense</th>\n",
              "      <th>Production expense</th>\n",
              "      <th>Multiplex coverage</th>\n",
              "      <th>Budget</th>\n",
              "      <th>Movie_length</th>\n",
              "      <th>Lead_ Actor_Rating</th>\n",
              "      <th>Lead_Actress_rating</th>\n",
              "      <th>Director_rating</th>\n",
              "      <th>Producer_rating</th>\n",
              "      <th>Critic_rating</th>\n",
              "      <th>Trailer_views</th>\n",
              "      <th>Time_taken</th>\n",
              "      <th>Twitter_hastags</th>\n",
              "      <th>Avg_age_actors</th>\n",
              "      <th>Num_multiplex</th>\n",
              "      <th>3D_available_YES</th>\n",
              "      <th>Genre_Comedy</th>\n",
              "      <th>Genre_Drama</th>\n",
              "      <th>Genre_Thriller</th>\n",
              "    </tr>\n",
              "  </thead>\n",
              "  <tbody>\n",
              "    <tr>\n",
              "      <th>0</th>\n",
              "      <td>20.1264</td>\n",
              "      <td>59.62</td>\n",
              "      <td>0.462</td>\n",
              "      <td>36524.125</td>\n",
              "      <td>138.7</td>\n",
              "      <td>7.825</td>\n",
              "      <td>8.095</td>\n",
              "      <td>7.910</td>\n",
              "      <td>7.995</td>\n",
              "      <td>7.94</td>\n",
              "      <td>527367</td>\n",
              "      <td>109.60</td>\n",
              "      <td>223.840</td>\n",
              "      <td>23</td>\n",
              "      <td>494</td>\n",
              "      <td>1</td>\n",
              "      <td>0</td>\n",
              "      <td>0</td>\n",
              "      <td>1</td>\n",
              "    </tr>\n",
              "    <tr>\n",
              "      <th>1</th>\n",
              "      <td>20.5462</td>\n",
              "      <td>69.14</td>\n",
              "      <td>0.531</td>\n",
              "      <td>35668.655</td>\n",
              "      <td>152.4</td>\n",
              "      <td>7.505</td>\n",
              "      <td>7.650</td>\n",
              "      <td>7.440</td>\n",
              "      <td>7.470</td>\n",
              "      <td>7.44</td>\n",
              "      <td>494055</td>\n",
              "      <td>146.64</td>\n",
              "      <td>243.456</td>\n",
              "      <td>42</td>\n",
              "      <td>462</td>\n",
              "      <td>0</td>\n",
              "      <td>0</td>\n",
              "      <td>1</td>\n",
              "      <td>0</td>\n",
              "    </tr>\n",
              "    <tr>\n",
              "      <th>2</th>\n",
              "      <td>20.5458</td>\n",
              "      <td>69.14</td>\n",
              "      <td>0.531</td>\n",
              "      <td>39912.675</td>\n",
              "      <td>134.6</td>\n",
              "      <td>7.485</td>\n",
              "      <td>7.570</td>\n",
              "      <td>7.495</td>\n",
              "      <td>7.515</td>\n",
              "      <td>7.44</td>\n",
              "      <td>547051</td>\n",
              "      <td>147.88</td>\n",
              "      <td>2022.400</td>\n",
              "      <td>38</td>\n",
              "      <td>458</td>\n",
              "      <td>0</td>\n",
              "      <td>1</td>\n",
              "      <td>0</td>\n",
              "      <td>0</td>\n",
              "    </tr>\n",
              "    <tr>\n",
              "      <th>3</th>\n",
              "      <td>20.6474</td>\n",
              "      <td>59.36</td>\n",
              "      <td>0.542</td>\n",
              "      <td>38873.890</td>\n",
              "      <td>119.3</td>\n",
              "      <td>6.895</td>\n",
              "      <td>7.035</td>\n",
              "      <td>6.920</td>\n",
              "      <td>7.020</td>\n",
              "      <td>8.26</td>\n",
              "      <td>516279</td>\n",
              "      <td>185.36</td>\n",
              "      <td>225.344</td>\n",
              "      <td>45</td>\n",
              "      <td>472</td>\n",
              "      <td>1</td>\n",
              "      <td>0</td>\n",
              "      <td>1</td>\n",
              "      <td>0</td>\n",
              "    </tr>\n",
              "    <tr>\n",
              "      <th>4</th>\n",
              "      <td>21.3810</td>\n",
              "      <td>59.36</td>\n",
              "      <td>0.542</td>\n",
              "      <td>39701.585</td>\n",
              "      <td>127.7</td>\n",
              "      <td>6.920</td>\n",
              "      <td>7.070</td>\n",
              "      <td>6.815</td>\n",
              "      <td>7.070</td>\n",
              "      <td>8.26</td>\n",
              "      <td>531448</td>\n",
              "      <td>176.48</td>\n",
              "      <td>225.792</td>\n",
              "      <td>55</td>\n",
              "      <td>395</td>\n",
              "      <td>0</td>\n",
              "      <td>0</td>\n",
              "      <td>1</td>\n",
              "      <td>0</td>\n",
              "    </tr>\n",
              "  </tbody>\n",
              "</table>\n",
              "</div>"
            ],
            "text/plain": [
              "   Marketing expense  Production expense  ...  Genre_Drama  Genre_Thriller\n",
              "0            20.1264               59.62  ...            0               1\n",
              "1            20.5462               69.14  ...            1               0\n",
              "2            20.5458               69.14  ...            0               0\n",
              "3            20.6474               59.36  ...            1               0\n",
              "4            21.3810               59.36  ...            1               0\n",
              "\n",
              "[5 rows x 19 columns]"
            ]
          },
          "metadata": {
            "tags": []
          },
          "execution_count": 19
        }
      ]
    },
    {
      "cell_type": "code",
      "metadata": {
        "id": "u8y9MbkcmiZG"
      },
      "source": [
        "y = df['Collection']"
      ],
      "execution_count": null,
      "outputs": []
    },
    {
      "cell_type": "code",
      "metadata": {
        "id": "p01_JV7ImrEW",
        "outputId": "b8900119-9183-45dc-91cc-eeda63c1aeb4",
        "colab": {
          "base_uri": "https://localhost:8080/",
          "height": 212
        }
      },
      "source": [
        "y"
      ],
      "execution_count": null,
      "outputs": [
        {
          "output_type": "execute_result",
          "data": {
            "text/plain": [
              "0      48000\n",
              "1      43200\n",
              "2      69400\n",
              "3      66800\n",
              "4      72400\n",
              "       ...  \n",
              "501    44800\n",
              "502    41200\n",
              "503    47800\n",
              "504    44000\n",
              "505    38000\n",
              "Name: Collection, Length: 506, dtype: int64"
            ]
          },
          "metadata": {
            "tags": []
          },
          "execution_count": 21
        }
      ]
    },
    {
      "cell_type": "code",
      "metadata": {
        "id": "CEPhT1_smr-K"
      },
      "source": [
        "from sklearn.model_selection import train_test_split"
      ],
      "execution_count": null,
      "outputs": []
    },
    {
      "cell_type": "code",
      "metadata": {
        "id": "Zwvix3SBmyZ4"
      },
      "source": [
        "x_train, x_test , y_train , y_test = train_test_split(X,y , test_size=0.2, random_state=0)"
      ],
      "execution_count": null,
      "outputs": []
    },
    {
      "cell_type": "code",
      "metadata": {
        "id": "ovUSP5UjtAQR",
        "outputId": "909c4c9c-3365-4554-9b91-c4bfdb8c7ac3",
        "colab": {
          "base_uri": "https://localhost:8080/",
          "height": 33
        }
      },
      "source": [
        "x_train.shape, x_test.shape"
      ],
      "execution_count": null,
      "outputs": [
        {
          "output_type": "execute_result",
          "data": {
            "text/plain": [
              "((404, 19), (102, 19))"
            ]
          },
          "metadata": {
            "tags": []
          },
          "execution_count": 31
        }
      ]
    },
    {
      "cell_type": "code",
      "metadata": {
        "id": "E6-pTYRcxLQz",
        "outputId": "89c9beb8-3e9a-40c3-aaf1-f0aeecb81073",
        "colab": {
          "base_uri": "https://localhost:8080/",
          "height": 227
        }
      },
      "source": [
        "x_train.head()"
      ],
      "execution_count": null,
      "outputs": [
        {
          "output_type": "execute_result",
          "data": {
            "text/html": [
              "<div>\n",
              "<style scoped>\n",
              "    .dataframe tbody tr th:only-of-type {\n",
              "        vertical-align: middle;\n",
              "    }\n",
              "\n",
              "    .dataframe tbody tr th {\n",
              "        vertical-align: top;\n",
              "    }\n",
              "\n",
              "    .dataframe thead th {\n",
              "        text-align: right;\n",
              "    }\n",
              "</style>\n",
              "<table border=\"1\" class=\"dataframe\">\n",
              "  <thead>\n",
              "    <tr style=\"text-align: right;\">\n",
              "      <th></th>\n",
              "      <th>Marketing expense</th>\n",
              "      <th>Production expense</th>\n",
              "      <th>Multiplex coverage</th>\n",
              "      <th>Budget</th>\n",
              "      <th>Movie_length</th>\n",
              "      <th>Lead_ Actor_Rating</th>\n",
              "      <th>Lead_Actress_rating</th>\n",
              "      <th>Director_rating</th>\n",
              "      <th>Producer_rating</th>\n",
              "      <th>Critic_rating</th>\n",
              "      <th>Trailer_views</th>\n",
              "      <th>Time_taken</th>\n",
              "      <th>Twitter_hastags</th>\n",
              "      <th>Avg_age_actors</th>\n",
              "      <th>Num_multiplex</th>\n",
              "      <th>3D_available_YES</th>\n",
              "      <th>Genre_Comedy</th>\n",
              "      <th>Genre_Drama</th>\n",
              "      <th>Genre_Thriller</th>\n",
              "    </tr>\n",
              "  </thead>\n",
              "  <tbody>\n",
              "    <tr>\n",
              "      <th>220</th>\n",
              "      <td>27.1618</td>\n",
              "      <td>67.40</td>\n",
              "      <td>0.493</td>\n",
              "      <td>38612.805</td>\n",
              "      <td>162.0</td>\n",
              "      <td>8.485</td>\n",
              "      <td>8.640</td>\n",
              "      <td>8.485</td>\n",
              "      <td>8.670</td>\n",
              "      <td>8.52</td>\n",
              "      <td>480270</td>\n",
              "      <td>174.68</td>\n",
              "      <td>224.272</td>\n",
              "      <td>23</td>\n",
              "      <td>536</td>\n",
              "      <td>0</td>\n",
              "      <td>0</td>\n",
              "      <td>0</td>\n",
              "      <td>1</td>\n",
              "    </tr>\n",
              "    <tr>\n",
              "      <th>71</th>\n",
              "      <td>23.1752</td>\n",
              "      <td>76.62</td>\n",
              "      <td>0.587</td>\n",
              "      <td>33113.355</td>\n",
              "      <td>91.0</td>\n",
              "      <td>7.280</td>\n",
              "      <td>7.400</td>\n",
              "      <td>7.290</td>\n",
              "      <td>7.455</td>\n",
              "      <td>8.16</td>\n",
              "      <td>491978</td>\n",
              "      <td>200.68</td>\n",
              "      <td>263.472</td>\n",
              "      <td>46</td>\n",
              "      <td>400</td>\n",
              "      <td>0</td>\n",
              "      <td>0</td>\n",
              "      <td>0</td>\n",
              "      <td>0</td>\n",
              "    </tr>\n",
              "    <tr>\n",
              "      <th>240</th>\n",
              "      <td>22.2658</td>\n",
              "      <td>64.86</td>\n",
              "      <td>0.572</td>\n",
              "      <td>38312.835</td>\n",
              "      <td>127.8</td>\n",
              "      <td>6.755</td>\n",
              "      <td>6.935</td>\n",
              "      <td>6.800</td>\n",
              "      <td>6.840</td>\n",
              "      <td>8.68</td>\n",
              "      <td>470107</td>\n",
              "      <td>204.80</td>\n",
              "      <td>224.320</td>\n",
              "      <td>24</td>\n",
              "      <td>387</td>\n",
              "      <td>1</td>\n",
              "      <td>1</td>\n",
              "      <td>0</td>\n",
              "      <td>0</td>\n",
              "    </tr>\n",
              "    <tr>\n",
              "      <th>6</th>\n",
              "      <td>21.7658</td>\n",
              "      <td>70.74</td>\n",
              "      <td>0.476</td>\n",
              "      <td>33396.660</td>\n",
              "      <td>140.1</td>\n",
              "      <td>7.065</td>\n",
              "      <td>7.265</td>\n",
              "      <td>7.150</td>\n",
              "      <td>7.400</td>\n",
              "      <td>8.96</td>\n",
              "      <td>459241</td>\n",
              "      <td>139.16</td>\n",
              "      <td>243.664</td>\n",
              "      <td>41</td>\n",
              "      <td>522</td>\n",
              "      <td>1</td>\n",
              "      <td>0</td>\n",
              "      <td>0</td>\n",
              "      <td>1</td>\n",
              "    </tr>\n",
              "    <tr>\n",
              "      <th>417</th>\n",
              "      <td>538.8120</td>\n",
              "      <td>91.20</td>\n",
              "      <td>0.321</td>\n",
              "      <td>29463.720</td>\n",
              "      <td>162.6</td>\n",
              "      <td>9.135</td>\n",
              "      <td>9.305</td>\n",
              "      <td>9.095</td>\n",
              "      <td>9.165</td>\n",
              "      <td>6.96</td>\n",
              "      <td>302776</td>\n",
              "      <td>172.16</td>\n",
              "      <td>301.664</td>\n",
              "      <td>60</td>\n",
              "      <td>589</td>\n",
              "      <td>1</td>\n",
              "      <td>0</td>\n",
              "      <td>0</td>\n",
              "      <td>0</td>\n",
              "    </tr>\n",
              "  </tbody>\n",
              "</table>\n",
              "</div>"
            ],
            "text/plain": [
              "     Marketing expense  Production expense  ...  Genre_Drama  Genre_Thriller\n",
              "220            27.1618               67.40  ...            0               1\n",
              "71             23.1752               76.62  ...            0               0\n",
              "240            22.2658               64.86  ...            0               0\n",
              "6              21.7658               70.74  ...            0               1\n",
              "417           538.8120               91.20  ...            0               0\n",
              "\n",
              "[5 rows x 19 columns]"
            ]
          },
          "metadata": {
            "tags": []
          },
          "execution_count": 37
        }
      ]
    },
    {
      "cell_type": "code",
      "metadata": {
        "id": "PGGZSyDAtJnl"
      },
      "source": [
        "from sklearn import tree"
      ],
      "execution_count": null,
      "outputs": []
    },
    {
      "cell_type": "code",
      "metadata": {
        "id": "e3Xf24ENwqXp"
      },
      "source": [
        "regtree = tree.DecisionTreeRegressor(max_depth=3)\n"
      ],
      "execution_count": null,
      "outputs": []
    },
    {
      "cell_type": "code",
      "metadata": {
        "id": "kxg5Foe8w7Eo",
        "outputId": "d33e2d67-1fd9-43cf-c7c3-b1bfd75d5792",
        "colab": {
          "base_uri": "https://localhost:8080/",
          "height": 115
        }
      },
      "source": [
        "regtree.fit(x_train, y_train)"
      ],
      "execution_count": null,
      "outputs": [
        {
          "output_type": "execute_result",
          "data": {
            "text/plain": [
              "DecisionTreeRegressor(ccp_alpha=0.0, criterion='mse', max_depth=3,\n",
              "                      max_features=None, max_leaf_nodes=None,\n",
              "                      min_impurity_decrease=0.0, min_impurity_split=None,\n",
              "                      min_samples_leaf=1, min_samples_split=2,\n",
              "                      min_weight_fraction_leaf=0.0, presort='deprecated',\n",
              "                      random_state=None, splitter='best')"
            ]
          },
          "metadata": {
            "tags": []
          },
          "execution_count": 40
        }
      ]
    },
    {
      "cell_type": "code",
      "metadata": {
        "id": "29wD6TiuzZyI"
      },
      "source": [
        "y_train_pred = regtree.predict(x_train)\n"
      ],
      "execution_count": null,
      "outputs": []
    },
    {
      "cell_type": "code",
      "metadata": {
        "id": "W33FJru22ZvP"
      },
      "source": [
        "y_test_pred = regtree.predict(x_test)"
      ],
      "execution_count": null,
      "outputs": []
    },
    {
      "cell_type": "code",
      "metadata": {
        "id": "ep8j4WvE0iqG",
        "outputId": "5c74a28f-ae00-4fdd-d1f3-4c88f3107d7a",
        "colab": {
          "base_uri": "https://localhost:8080/",
          "height": 1000
        }
      },
      "source": [
        "y_train_pred"
      ],
      "execution_count": null,
      "outputs": [
        {
          "output_type": "execute_result",
          "data": {
            "text/plain": [
              "array([ 65183.33333333,  46187.35632184,  65183.33333333,  46187.35632184,\n",
              "        23514.28571429,  35137.77777778,  46187.35632184,  46187.35632184,\n",
              "        65183.33333333,  23514.28571429,  35137.77777778,  35137.77777778,\n",
              "        35137.77777778,  35137.77777778,  23514.28571429,  46187.35632184,\n",
              "        23514.28571429,  91860.86956522,  46187.35632184,  23514.28571429,\n",
              "        35137.77777778,  46187.35632184,  46187.35632184,  35137.77777778,\n",
              "        65183.33333333,  35137.77777778,  46187.35632184,  65183.33333333,\n",
              "        23514.28571429,  23514.28571429,  35137.77777778,  35137.77777778,\n",
              "        23514.28571429,  65183.33333333,  46187.35632184,  35137.77777778,\n",
              "        46187.35632184,  23514.28571429,  23514.28571429,  46187.35632184,\n",
              "        65183.33333333,  46187.35632184,  46187.35632184,  35137.77777778,\n",
              "        65183.33333333,  65183.33333333,  23514.28571429,  23514.28571429,\n",
              "        46187.35632184,  46187.35632184,  35137.77777778,  46187.35632184,\n",
              "        35137.77777778,  46187.35632184,  35137.77777778,  35137.77777778,\n",
              "        46187.35632184,  35137.77777778,  23514.28571429,  46187.35632184,\n",
              "        65183.33333333,  65183.33333333,  65183.33333333,  46187.35632184,\n",
              "        46187.35632184,  46187.35632184,  46187.35632184,  23514.28571429,\n",
              "        46187.35632184,  23514.28571429,  35137.77777778,  46187.35632184,\n",
              "        35137.77777778,  23514.28571429,  35137.77777778,  35137.77777778,\n",
              "        65183.33333333,  46187.35632184,  23514.28571429,  23514.28571429,\n",
              "        46187.35632184,  46187.35632184,  35137.77777778,  46187.35632184,\n",
              "        46187.35632184,  46187.35632184,  91860.86956522,  35137.77777778,\n",
              "        23514.28571429,  65183.33333333,  65183.33333333,  46187.35632184,\n",
              "        91860.86956522,  46187.35632184,  46187.35632184,  35137.77777778,\n",
              "        46187.35632184,  91860.86956522,  46187.35632184,  46187.35632184,\n",
              "        91860.86956522,  65183.33333333,  35137.77777778,  46187.35632184,\n",
              "        35137.77777778,  46187.35632184,  46187.35632184,  46187.35632184,\n",
              "        46187.35632184,  46187.35632184,  23514.28571429,  46187.35632184,\n",
              "        46187.35632184,  23514.28571429,  35137.77777778,  46187.35632184,\n",
              "        23514.28571429,  65183.33333333,  23514.28571429,  35137.77777778,\n",
              "        35137.77777778,  35137.77777778,  46187.35632184,  46187.35632184,\n",
              "        35137.77777778,  46187.35632184,  46187.35632184,  46187.35632184,\n",
              "        35137.77777778,  46187.35632184,  46187.35632184,  65183.33333333,\n",
              "        35137.77777778,  46187.35632184,  23514.28571429,  46187.35632184,\n",
              "        65183.33333333,  35137.77777778,  43800.        ,  46187.35632184,\n",
              "        46187.35632184,  35137.77777778,  65183.33333333,  46187.35632184,\n",
              "        46187.35632184,  35137.77777778,  65183.33333333,  35137.77777778,\n",
              "        23514.28571429,  23514.28571429,  23514.28571429,  91860.86956522,\n",
              "        35137.77777778,  35137.77777778,  65183.33333333,  46187.35632184,\n",
              "        35137.77777778,  65183.33333333,  46187.35632184,  46187.35632184,\n",
              "        35137.77777778,  46187.35632184,  46187.35632184,  23514.28571429,\n",
              "        46187.35632184,  46187.35632184,  46187.35632184,  23514.28571429,\n",
              "        46187.35632184,  35137.77777778,  35137.77777778,  46187.35632184,\n",
              "        35137.77777778,  46187.35632184,  23514.28571429,  35137.77777778,\n",
              "        35137.77777778,  35137.77777778,  46187.35632184,  46187.35632184,\n",
              "        46187.35632184,  46187.35632184,  23514.28571429,  65183.33333333,\n",
              "        35137.77777778,  91860.86956522,  46187.35632184,  65183.33333333,\n",
              "        46187.35632184,  35137.77777778,  35137.77777778,  46187.35632184,\n",
              "        35137.77777778,  46187.35632184,  91860.86956522,  46187.35632184,\n",
              "        23514.28571429,  65183.33333333,  46187.35632184,  46187.35632184,\n",
              "        46187.35632184,  35137.77777778,  46187.35632184,  46187.35632184,\n",
              "        46187.35632184,  23514.28571429,  46187.35632184,  91860.86956522,\n",
              "        91860.86956522,  46187.35632184,  65183.33333333,  46187.35632184,\n",
              "        35137.77777778,  35137.77777778,  46187.35632184,  46187.35632184,\n",
              "        46187.35632184,  35137.77777778,  23514.28571429,  35137.77777778,\n",
              "        65183.33333333,  65183.33333333,  46187.35632184,  35137.77777778,\n",
              "        46187.35632184,  23514.28571429,  46187.35632184,  46187.35632184,\n",
              "        23514.28571429,  46187.35632184,  46187.35632184,  46187.35632184,\n",
              "        46187.35632184,  91860.86956522,  23514.28571429,  65183.33333333,\n",
              "        46187.35632184,  46187.35632184,  91860.86956522,  46187.35632184,\n",
              "        46187.35632184,  46187.35632184,  28800.        ,  46187.35632184,\n",
              "        65183.33333333,  46187.35632184,  35137.77777778,  65183.33333333,\n",
              "        28800.        ,  46187.35632184,  65183.33333333,  65183.33333333,\n",
              "        46187.35632184,  28800.        ,  35137.77777778,  65183.33333333,\n",
              "        46187.35632184,  35137.77777778,  46187.35632184,  46187.35632184,\n",
              "        46187.35632184,  46187.35632184,  35137.77777778,  23514.28571429,\n",
              "        23514.28571429,  23514.28571429,  35137.77777778,  65183.33333333,\n",
              "        46187.35632184,  23514.28571429,  46187.35632184,  46187.35632184,\n",
              "        35137.77777778,  46187.35632184,  23514.28571429,  46187.35632184,\n",
              "        46187.35632184, 100000.        ,  46187.35632184,  91860.86956522,\n",
              "        65183.33333333,  65183.33333333,  46187.35632184,  65183.33333333,\n",
              "       100000.        ,  91860.86956522,  46187.35632184,  46187.35632184,\n",
              "        46187.35632184,  23514.28571429,  46187.35632184,  46187.35632184,\n",
              "        46187.35632184,  35137.77777778,  65183.33333333,  23514.28571429,\n",
              "        23514.28571429,  35137.77777778,  46187.35632184,  65183.33333333,\n",
              "        35137.77777778,  35137.77777778,  46187.35632184,  91860.86956522,\n",
              "        23514.28571429,  35137.77777778,  23514.28571429,  46187.35632184,\n",
              "        91860.86956522,  46187.35632184,  91860.86956522,  46187.35632184,\n",
              "        46187.35632184,  35137.77777778,  23514.28571429,  35137.77777778,\n",
              "        35137.77777778,  23514.28571429,  46187.35632184,  46187.35632184,\n",
              "        91860.86956522,  46187.35632184,  46187.35632184,  65183.33333333,\n",
              "        46187.35632184,  23514.28571429,  46187.35632184,  91860.86956522,\n",
              "        23514.28571429,  35137.77777778,  46187.35632184,  35137.77777778,\n",
              "        23514.28571429,  35137.77777778,  91860.86956522,  23514.28571429,\n",
              "        46187.35632184,  23514.28571429,  46187.35632184,  23514.28571429,\n",
              "        23514.28571429,  46187.35632184,  65183.33333333,  46187.35632184,\n",
              "        46187.35632184,  65183.33333333,  91860.86956522,  46187.35632184,\n",
              "        46187.35632184,  91860.86956522,  35137.77777778,  35137.77777778,\n",
              "        35137.77777778,  46187.35632184,  35137.77777778,  23514.28571429,\n",
              "        46187.35632184,  23514.28571429,  23514.28571429,  46187.35632184,\n",
              "        35137.77777778,  46187.35632184,  35137.77777778,  46187.35632184,\n",
              "        65183.33333333,  46187.35632184,  23514.28571429,  23514.28571429,\n",
              "        46187.35632184,  65183.33333333,  46187.35632184,  46187.35632184,\n",
              "        35137.77777778,  23514.28571429,  46187.35632184,  46187.35632184,\n",
              "        46187.35632184,  35137.77777778,  46187.35632184,  46187.35632184,\n",
              "        35137.77777778,  46187.35632184,  35137.77777778,  46187.35632184,\n",
              "        46187.35632184,  46187.35632184,  23514.28571429,  65183.33333333,\n",
              "        35137.77777778,  46187.35632184,  46187.35632184,  46187.35632184,\n",
              "        46187.35632184,  46187.35632184,  35137.77777778,  35137.77777778,\n",
              "        35137.77777778,  91860.86956522,  46187.35632184,  46187.35632184,\n",
              "        65183.33333333,  46187.35632184,  35137.77777778,  35137.77777778])"
            ]
          },
          "metadata": {
            "tags": []
          },
          "execution_count": 53
        }
      ]
    },
    {
      "cell_type": "code",
      "metadata": {
        "id": "OZYK2hsyzxiZ"
      },
      "source": [
        "from sklearn.metrics import mean_squared_error, r2_score"
      ],
      "execution_count": null,
      "outputs": []
    },
    {
      "cell_type": "code",
      "metadata": {
        "id": "xEfNfojy0X9E",
        "outputId": "58ddb69b-7499-449d-d672-6e7b1252f51d",
        "colab": {
          "base_uri": "https://localhost:8080/",
          "height": 33
        }
      },
      "source": [
        "mean_squared_error(y_test, y_test_pred)"
      ],
      "execution_count": null,
      "outputs": [
        {
          "output_type": "execute_result",
          "data": {
            "text/plain": [
              "133822721.29403791"
            ]
          },
          "metadata": {
            "tags": []
          },
          "execution_count": 55
        }
      ]
    },
    {
      "cell_type": "code",
      "metadata": {
        "id": "tKud5i-U0e8D",
        "outputId": "42910912-ee5d-4c25-dd65-22d3b0e1f18d",
        "colab": {
          "base_uri": "https://localhost:8080/",
          "height": 33
        }
      },
      "source": [
        "y_train_pred[0], y_train[0]"
      ],
      "execution_count": null,
      "outputs": [
        {
          "output_type": "execute_result",
          "data": {
            "text/plain": [
              "(65183.333333333336, 48000)"
            ]
          },
          "metadata": {
            "tags": []
          },
          "execution_count": 56
        }
      ]
    },
    {
      "cell_type": "code",
      "metadata": {
        "id": "7g9JNuxB2U8j",
        "outputId": "ae8851ed-ae9f-4f6e-8fdc-e20af0f458cc",
        "colab": {
          "base_uri": "https://localhost:8080/",
          "height": 33
        }
      },
      "source": [
        "r2_score(y_test,y_test_pred)"
      ],
      "execution_count": null,
      "outputs": [
        {
          "output_type": "execute_result",
          "data": {
            "text/plain": [
              "0.5843041891011781"
            ]
          },
          "metadata": {
            "tags": []
          },
          "execution_count": 59
        }
      ]
    },
    {
      "cell_type": "code",
      "metadata": {
        "id": "0J44bc0r27-j",
        "outputId": "6874ba7a-5229-48f2-ff36-cd4e06278b2e",
        "colab": {
          "base_uri": "https://localhost:8080/",
          "height": 33
        }
      },
      "source": [
        "r2_score(y_train, y_train_pred)"
      ],
      "execution_count": null,
      "outputs": [
        {
          "output_type": "execute_result",
          "data": {
            "text/plain": [
              "0.8364651040556869"
            ]
          },
          "metadata": {
            "tags": []
          },
          "execution_count": 60
        }
      ]
    },
    {
      "cell_type": "code",
      "metadata": {
        "id": "6gkSpX_f3J7L",
        "outputId": "23700db1-3e36-4fd1-a783-cbe482d0c295",
        "colab": {
          "base_uri": "https://localhost:8080/",
          "height": 33
        }
      },
      "source": [
        "y_test_pred[0]"
      ],
      "execution_count": null,
      "outputs": [
        {
          "output_type": "execute_result",
          "data": {
            "text/plain": [
              "46187.35632183908"
            ]
          },
          "metadata": {
            "tags": []
          },
          "execution_count": 62
        }
      ]
    },
    {
      "cell_type": "code",
      "metadata": {
        "id": "Kibjm5433kcF"
      },
      "source": [
        ""
      ],
      "execution_count": null,
      "outputs": []
    },
    {
      "cell_type": "code",
      "metadata": {
        "id": "kOfNOhnz3oPt"
      },
      "source": [
        ""
      ],
      "execution_count": null,
      "outputs": []
    }
  ]
}