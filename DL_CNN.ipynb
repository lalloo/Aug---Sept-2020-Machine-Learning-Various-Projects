{
 "cells": [
  {
   "cell_type": "markdown",
   "metadata": {
    "id": "ko1dQvaYNvYb"
   },
   "source": [
    "#Import the Libraries"
   ]
  },
  {
   "cell_type": "code",
   "execution_count": 2,
   "metadata": {
    "id": "UiKskNd8N1oe"
   },
   "outputs": [],
   "source": [
    "import pandas as pd\n",
    "import numpy as np\n",
    "import tensorflow as tf\n",
    "from keras.preprocessing.image import ImageDataGenerator"
   ]
  },
  {
   "cell_type": "code",
   "execution_count": 3,
   "metadata": {
    "colab": {
     "base_uri": "https://localhost:8080/",
     "height": 33
    },
    "id": "gy-8gsCrN_KS",
    "outputId": "299a0548-146d-4d31-9912-cab4965edfff"
   },
   "outputs": [
    {
     "name": "stdout",
     "output_type": "stream",
     "text": [
      "Version: 2.3.1\n"
     ]
    }
   ],
   "source": [
    "print(\"Version:\",tf.__version__)"
   ]
  },
  {
   "cell_type": "markdown",
   "metadata": {
    "id": "4EFlmf21MYLo"
   },
   "source": [
    "#DATA PREPROCESSING"
   ]
  },
  {
   "cell_type": "markdown",
   "metadata": {
    "id": "5VYapRovM6bd"
   },
   "source": [
    "Preprocessing the training set"
   ]
  },
  {
   "cell_type": "code",
   "execution_count": 4,
   "metadata": {
    "id": "yAtsWvJlM5I5"
   },
   "outputs": [],
   "source": [
    "train_datagen = ImageDataGenerator(\n",
    "        rescale=1./255,\n",
    "        shear_range=0.2,\n",
    "        zoom_range=0.2,\n",
    "        horizontal_flip=True)"
   ]
  },
  {
   "cell_type": "code",
   "execution_count": 5,
   "metadata": {
    "colab": {
     "base_uri": "https://localhost:8080/",
     "height": 393
    },
    "id": "H4NaK9f_V38C",
    "outputId": "fac4bc91-3bca-4be2-f01f-00065207d99c"
   },
   "outputs": [
    {
     "name": "stdout",
     "output_type": "stream",
     "text": [
      "Found 8000 images belonging to 2 classes.\n"
     ]
    }
   ],
   "source": [
    "training_set = train_datagen.flow_from_directory(\n",
    "        'dataset/training_set',\n",
    "        target_size=(64, 64),\n",
    "        batch_size=32,\n",
    "        class_mode='binary')"
   ]
  },
  {
   "cell_type": "markdown",
   "metadata": {
    "id": "9fqinxT6bZy0"
   },
   "source": [
    "Preprocessing the Test Set"
   ]
  },
  {
   "cell_type": "code",
   "execution_count": 6,
   "metadata": {
    "id": "0nYww_Cfa3po"
   },
   "outputs": [],
   "source": [
    "test_datagen = ImageDataGenerator(rescale=1./255)"
   ]
  },
  {
   "cell_type": "code",
   "execution_count": 7,
   "metadata": {
    "id": "E6Qe0R_5uwNg"
   },
   "outputs": [
    {
     "name": "stdout",
     "output_type": "stream",
     "text": [
      "Found 2000 images belonging to 2 classes.\n"
     ]
    }
   ],
   "source": [
    "test_set = test_datagen.flow_from_directory(\n",
    "        'dataset/test_set',\n",
    "        target_size=(64, 64),\n",
    "        batch_size=32,\n",
    "        class_mode='binary')"
   ]
  },
  {
   "cell_type": "markdown",
   "metadata": {
    "id": "4wf2wJI9vf4M"
   },
   "source": [
    "# Building the CNN"
   ]
  },
  {
   "cell_type": "markdown",
   "metadata": {
    "id": "vcI3z94Vvq8u"
   },
   "source": [
    "Initialising the CNN\n"
   ]
  },
  {
   "cell_type": "code",
   "execution_count": 8,
   "metadata": {
    "id": "ONyN_zTbvh8A"
   },
   "outputs": [],
   "source": [
    "cnn = tf.keras.models.Sequential()"
   ]
  },
  {
   "cell_type": "markdown",
   "metadata": {
    "id": "glavAXbQwZsY"
   },
   "source": [
    "Step 1 Convolution"
   ]
  },
  {
   "cell_type": "code",
   "execution_count": 9,
   "metadata": {
    "id": "7Va3QywMwebb"
   },
   "outputs": [],
   "source": [
    "cnn.add(tf.keras.layers.Conv2D(filters=32, kernel_size=3, activation='relu', input_shape=[64,64,3]))"
   ]
  },
  {
   "cell_type": "markdown",
   "metadata": {
    "id": "4tg3JIMuyciB"
   },
   "source": [
    "Step 2 Pooling"
   ]
  },
  {
   "cell_type": "code",
   "execution_count": 10,
   "metadata": {
    "id": "JRlbVnTzyePi"
   },
   "outputs": [],
   "source": [
    "cnn.add(tf.keras.layers.MaxPool2D(pool_size=2,strides=2))"
   ]
  },
  {
   "cell_type": "markdown",
   "metadata": {
    "id": "_l2C-yfXzk3J"
   },
   "source": [
    "Adding second Convolutional Layer with Max Pooling"
   ]
  },
  {
   "cell_type": "code",
   "execution_count": 11,
   "metadata": {
    "id": "acm2dcbGzmmF"
   },
   "outputs": [],
   "source": [
    "cnn.add(tf.keras.layers.Conv2D(filters=32, kernel_size=3, activation='relu'))"
   ]
  },
  {
   "cell_type": "code",
   "execution_count": 12,
   "metadata": {
    "id": "nAjKFkqjzwL-"
   },
   "outputs": [],
   "source": [
    "cnn.add(tf.keras.layers.MaxPool2D(pool_size=2,strides=2))"
   ]
  },
  {
   "cell_type": "markdown",
   "metadata": {
    "id": "po3HhBbPz90_"
   },
   "source": [
    "# Step 3 Flattening"
   ]
  },
  {
   "cell_type": "code",
   "execution_count": 13,
   "metadata": {
    "id": "huIGD-ib0ASZ"
   },
   "outputs": [],
   "source": [
    "cnn.add(tf.keras.layers.Flatten())"
   ]
  },
  {
   "cell_type": "code",
   "execution_count": null,
   "metadata": {
    "id": "Azy0fQ060Nok"
   },
   "outputs": [],
   "source": []
  },
  {
   "cell_type": "markdown",
   "metadata": {
    "id": "_FxH6i-V0Qxk"
   },
   "source": [
    "# Step 4 Full Connection"
   ]
  },
  {
   "cell_type": "code",
   "execution_count": 14,
   "metadata": {
    "id": "dJbtV5g00TIM"
   },
   "outputs": [],
   "source": [
    "cnn.add(tf.keras.layers.Dense(units=128, activation='relu',))"
   ]
  },
  {
   "cell_type": "code",
   "execution_count": null,
   "metadata": {
    "id": "HWC2zlLK02J1"
   },
   "outputs": [],
   "source": []
  },
  {
   "cell_type": "markdown",
   "metadata": {
    "id": "pW2JIY6-03CW"
   },
   "source": [
    "# Step 5 OUTPUT LAYER"
   ]
  },
  {
   "cell_type": "code",
   "execution_count": 15,
   "metadata": {
    "id": "E87iUR5X07FK"
   },
   "outputs": [],
   "source": [
    "cnn.add(tf.keras.layers.Dense(units=1, activation='sigmoid'))"
   ]
  },
  {
   "cell_type": "code",
   "execution_count": null,
   "metadata": {
    "id": "cSSmA44S1KEN"
   },
   "outputs": [],
   "source": []
  },
  {
   "cell_type": "markdown",
   "metadata": {
    "id": "tK7sqpsu1oT9"
   },
   "source": [
    "# Making Predictions and Single Prediction"
   ]
  },
  {
   "cell_type": "markdown",
   "metadata": {
    "id": "rDLHyvHn33s4"
   },
   "source": [
    "Compiling the CNN"
   ]
  },
  {
   "cell_type": "code",
   "execution_count": 16,
   "metadata": {
    "id": "uje6bka_1sJ2"
   },
   "outputs": [],
   "source": [
    "cnn.compile(optimizer='adam', loss='binary_crossentropy',metrics=['accuracy'])"
   ]
  },
  {
   "cell_type": "markdown",
   "metadata": {
    "id": "gdC0WQE53_9_"
   },
   "source": [
    "Training the CNN"
   ]
  },
  {
   "cell_type": "code",
   "execution_count": 17,
   "metadata": {
    "id": "EPmEjESb3ygI"
   },
   "outputs": [
    {
     "name": "stdout",
     "output_type": "stream",
     "text": [
      "Epoch 1/25\n",
      "250/250 [==============================] - 250s 1s/step - loss: 0.6689 - accuracy: 0.5813 - val_loss: 0.6130 - val_accuracy: 0.6720\n",
      "Epoch 2/25\n",
      "250/250 [==============================] - 80s 321ms/step - loss: 0.6012 - accuracy: 0.6729 - val_loss: 0.5835 - val_accuracy: 0.7005\n",
      "Epoch 3/25\n",
      "250/250 [==============================] - 50s 201ms/step - loss: 0.5705 - accuracy: 0.7001 - val_loss: 0.5288 - val_accuracy: 0.7440\n",
      "Epoch 4/25\n",
      "250/250 [==============================] - 51s 206ms/step - loss: 0.5262 - accuracy: 0.7389 - val_loss: 0.5330 - val_accuracy: 0.7365\n",
      "Epoch 5/25\n",
      "250/250 [==============================] - 53s 213ms/step - loss: 0.5018 - accuracy: 0.7556 - val_loss: 0.5059 - val_accuracy: 0.7500\n",
      "Epoch 6/25\n",
      "250/250 [==============================] - 130s 519ms/step - loss: 0.4785 - accuracy: 0.7665 - val_loss: 0.4682 - val_accuracy: 0.7810\n",
      "Epoch 7/25\n",
      "250/250 [==============================] - 53s 213ms/step - loss: 0.4569 - accuracy: 0.7851 - val_loss: 0.5122 - val_accuracy: 0.7615\n",
      "Epoch 8/25\n",
      "250/250 [==============================] - 53s 213ms/step - loss: 0.4498 - accuracy: 0.7872 - val_loss: 0.5606 - val_accuracy: 0.7390\n",
      "Epoch 9/25\n",
      "250/250 [==============================] - 57s 229ms/step - loss: 0.4323 - accuracy: 0.7944 - val_loss: 0.4588 - val_accuracy: 0.7915\n",
      "Epoch 10/25\n",
      "250/250 [==============================] - 56s 225ms/step - loss: 0.4251 - accuracy: 0.8030 - val_loss: 0.4731 - val_accuracy: 0.7810\n",
      "Epoch 11/25\n",
      "250/250 [==============================] - 57s 227ms/step - loss: 0.4043 - accuracy: 0.8158 - val_loss: 0.4538 - val_accuracy: 0.7910\n",
      "Epoch 12/25\n",
      "250/250 [==============================] - 57s 228ms/step - loss: 0.3906 - accuracy: 0.8163 - val_loss: 0.4265 - val_accuracy: 0.8085\n",
      "Epoch 13/25\n",
      "250/250 [==============================] - 57s 227ms/step - loss: 0.3846 - accuracy: 0.8236 - val_loss: 0.4354 - val_accuracy: 0.8040\n",
      "Epoch 14/25\n",
      "250/250 [==============================] - 57s 228ms/step - loss: 0.3656 - accuracy: 0.8329 - val_loss: 0.4412 - val_accuracy: 0.8115\n",
      "Epoch 15/25\n",
      "250/250 [==============================] - 57s 228ms/step - loss: 0.3553 - accuracy: 0.8360 - val_loss: 0.4634 - val_accuracy: 0.8035\n",
      "Epoch 16/25\n",
      "250/250 [==============================] - 56s 225ms/step - loss: 0.3484 - accuracy: 0.8464 - val_loss: 0.4723 - val_accuracy: 0.7990\n",
      "Epoch 17/25\n",
      "250/250 [==============================] - 59s 234ms/step - loss: 0.3399 - accuracy: 0.8444 - val_loss: 0.5028 - val_accuracy: 0.8010\n",
      "Epoch 18/25\n",
      "250/250 [==============================] - 57s 228ms/step - loss: 0.3240 - accuracy: 0.8566 - val_loss: 0.4613 - val_accuracy: 0.8120\n",
      "Epoch 19/25\n",
      "250/250 [==============================] - 57s 226ms/step - loss: 0.3162 - accuracy: 0.8618 - val_loss: 0.4589 - val_accuracy: 0.8175\n",
      "Epoch 20/25\n",
      "250/250 [==============================] - 57s 228ms/step - loss: 0.3117 - accuracy: 0.8644 - val_loss: 0.4665 - val_accuracy: 0.8000\n",
      "Epoch 21/25\n",
      "250/250 [==============================] - 57s 226ms/step - loss: 0.2942 - accuracy: 0.8710 - val_loss: 0.4526 - val_accuracy: 0.8160\n",
      "Epoch 22/25\n",
      "250/250 [==============================] - 57s 227ms/step - loss: 0.2901 - accuracy: 0.8740 - val_loss: 0.5110 - val_accuracy: 0.8065\n",
      "Epoch 23/25\n",
      "250/250 [==============================] - 57s 228ms/step - loss: 0.2783 - accuracy: 0.8796 - val_loss: 0.4491 - val_accuracy: 0.8135\n",
      "Epoch 24/25\n",
      "250/250 [==============================] - 57s 228ms/step - loss: 0.2623 - accuracy: 0.8840 - val_loss: 0.4613 - val_accuracy: 0.8175\n",
      "Epoch 25/25\n",
      "250/250 [==============================] - 58s 232ms/step - loss: 0.2507 - accuracy: 0.8951 - val_loss: 0.5069 - val_accuracy: 0.8010\n"
     ]
    },
    {
     "data": {
      "text/plain": [
       "<tensorflow.python.keras.callbacks.History at 0x1dcb1b387c0>"
      ]
     },
     "execution_count": 17,
     "metadata": {},
     "output_type": "execute_result"
    }
   ],
   "source": [
    "cnn.fit(x= training_set, validation_data=test_set, epochs= 25)"
   ]
  },
  {
   "cell_type": "markdown",
   "metadata": {
    "id": "nvexxj5EkjyI"
   },
   "source": [
    "Making Single Predictions"
   ]
  },
  {
   "cell_type": "code",
   "execution_count": 21,
   "metadata": {
    "id": "ZxfFO20jkmVH"
   },
   "outputs": [
    {
     "name": "stdout",
     "output_type": "stream",
     "text": [
      "dog\n"
     ]
    }
   ],
   "source": [
    "import numpy as np\n",
    "from keras.preprocessing import image\n",
    "test_image = image.load_img('dataset/single_prediction/cat_or_dog_1.jpg', target_size = (64,64) )\n",
    "test_image = image.img_to_array(test_image)\n",
    "test_image = np.expand_dims(test_image,axis=0)\n",
    "result = cnn.predict(test_image)\n",
    "training_set.class_indices\n",
    "if result[0][0]==1:\n",
    "  prediction = 'dog'\n",
    "else:\n",
    "  prediction = 'cat'\n",
    "\n",
    "print(prediction)"
   ]
  },
  {
   "cell_type": "code",
   "execution_count": null,
   "metadata": {},
   "outputs": [],
   "source": []
  }
 ],
 "metadata": {
  "colab": {
   "collapsed_sections": [
    "4EFlmf21MYLo",
    "4wf2wJI9vf4M",
    "_FxH6i-V0Qxk",
    "pW2JIY6-03CW"
   ],
   "name": "DL_CNN.ipynb",
   "provenance": []
  },
  "kernelspec": {
   "display_name": "Python 3",
   "language": "python",
   "name": "python3"
  },
  "language_info": {
   "codemirror_mode": {
    "name": "ipython",
    "version": 3
   },
   "file_extension": ".py",
   "mimetype": "text/x-python",
   "name": "python",
   "nbconvert_exporter": "python",
   "pygments_lexer": "ipython3",
   "version": "3.8.3"
  }
 },
 "nbformat": 4,
 "nbformat_minor": 1
}
