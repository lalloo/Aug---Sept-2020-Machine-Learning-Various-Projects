{
  "nbformat": 4,
  "nbformat_minor": 0,
  "metadata": {
    "colab": {
      "name": "Project3CNN.ipynb",
      "provenance": [],
      "collapsed_sections": []
    },
    "kernelspec": {
      "name": "python3",
      "display_name": "Python 3"
    }
  },
  "cells": [
    {
      "cell_type": "code",
      "metadata": {
        "id": "c3QZaOU3dhxm",
        "colab_type": "code",
        "colab": {}
      },
      "source": [
        ""
      ],
      "execution_count": null,
      "outputs": []
    },
    {
      "cell_type": "code",
      "metadata": {
        "id": "PGZ9AX5lY6TU",
        "colab_type": "code",
        "colab": {}
      },
      "source": [
        "#import data set\n",
        "from tensorflow.keras.datasets import cifar10"
      ],
      "execution_count": null,
      "outputs": []
    },
    {
      "cell_type": "code",
      "metadata": {
        "id": "w9VICnNiZshM",
        "colab_type": "code",
        "colab": {}
      },
      "source": [
        "import tensorflow as tf\n",
        "import numpy as np\n",
        "import pandas as pd\n",
        "import matplotlib.pyplot as plt\n"
      ],
      "execution_count": null,
      "outputs": []
    },
    {
      "cell_type": "code",
      "metadata": {
        "id": "ktoS5NK1ZvZd",
        "colab_type": "code",
        "colab": {}
      },
      "source": [
        "(x_train, y_train), (x_test,y_test) = cifar10.load_data()"
      ],
      "execution_count": null,
      "outputs": []
    },
    {
      "cell_type": "code",
      "metadata": {
        "id": "r-vgl-O-cIzb",
        "colab_type": "code",
        "colab": {}
      },
      "source": [
        "class_names = ['0 airplane' ,'1 automobile','2 bird','3 cat','4 deer','5 dog','6 frog', '7 horse', '8 ship', '9 truck']"
      ],
      "execution_count": null,
      "outputs": []
    },
    {
      "cell_type": "code",
      "metadata": {
        "id": "RhK0hiHjd5qf",
        "colab_type": "code",
        "colab": {
          "base_uri": "https://localhost:8080/",
          "height": 34
        },
        "outputId": "adb3a2be-f8f2-4b1f-f620-e183fdf5fbc0"
      },
      "source": [
        "print(class_names[9])"
      ],
      "execution_count": null,
      "outputs": [
        {
          "output_type": "stream",
          "text": [
            "9 truck\n"
          ],
          "name": "stdout"
        }
      ]
    },
    {
      "cell_type": "code",
      "metadata": {
        "id": "kAy3hgPceLMQ",
        "colab_type": "code",
        "colab": {
          "base_uri": "https://localhost:8080/",
          "height": 34
        },
        "outputId": "5476ff4a-c148-4b1d-ba29-02f92c430817"
      },
      "source": [
        "x_train.max(), x_train.min(), x_train.mean() #rang of images max and min)"
      ],
      "execution_count": null,
      "outputs": [
        {
          "output_type": "execute_result",
          "data": {
            "text/plain": [
              "(255, 0, 120.70756512369792)"
            ]
          },
          "metadata": {
            "tags": []
          },
          "execution_count": 6
        }
      ]
    },
    {
      "cell_type": "code",
      "metadata": {
        "id": "9FEaQIQie1u5",
        "colab_type": "code",
        "colab": {
          "base_uri": "https://localhost:8080/",
          "height": 34
        },
        "outputId": "4096c2ae-3aca-4c18-cd1a-893c4409fb8e"
      },
      "source": [
        "y_train.max(), y_train.min() #the 10 classes"
      ],
      "execution_count": null,
      "outputs": [
        {
          "output_type": "execute_result",
          "data": {
            "text/plain": [
              "(9, 0)"
            ]
          },
          "metadata": {
            "tags": []
          },
          "execution_count": 7
        }
      ]
    },
    {
      "cell_type": "code",
      "metadata": {
        "id": "PAlhytXLfCtA",
        "colab_type": "code",
        "colab": {}
      },
      "source": [
        "#normalize the images\n",
        "x_train = x_train/255.0\n",
        "x_test = x_test/255.0"
      ],
      "execution_count": null,
      "outputs": []
    },
    {
      "cell_type": "code",
      "metadata": {
        "id": "yyzRUTAkf19R",
        "colab_type": "code",
        "colab": {
          "base_uri": "https://localhost:8080/",
          "height": 34
        },
        "outputId": "0f6f45ce-aab1-4b50-d971-878d22359294"
      },
      "source": [
        "x_train.max() , x_train.min()"
      ],
      "execution_count": null,
      "outputs": [
        {
          "output_type": "execute_result",
          "data": {
            "text/plain": [
              "(1.0, 0.0)"
            ]
          },
          "metadata": {
            "tags": []
          },
          "execution_count": 9
        }
      ]
    },
    {
      "cell_type": "code",
      "metadata": {
        "id": "uqbfYGnxf4hu",
        "colab_type": "code",
        "colab": {
          "base_uri": "https://localhost:8080/",
          "height": 34
        },
        "outputId": "833acd09-1d95-4b44-c011-32615d4162cf"
      },
      "source": [
        "x_train.shape, x_test.shape"
      ],
      "execution_count": null,
      "outputs": [
        {
          "output_type": "execute_result",
          "data": {
            "text/plain": [
              "((50000, 32, 32, 3), (10000, 32, 32, 3))"
            ]
          },
          "metadata": {
            "tags": []
          },
          "execution_count": 10
        }
      ]
    },
    {
      "cell_type": "code",
      "metadata": {
        "id": "f9VpBX5ogDEQ",
        "colab_type": "code",
        "colab": {
          "base_uri": "https://localhost:8080/",
          "height": 283
        },
        "outputId": "ec13a5c5-bc37-4e99-cfc1-46888c434e73"
      },
      "source": [
        "plt.imshow(x_train[0])"
      ],
      "execution_count": null,
      "outputs": [
        {
          "output_type": "execute_result",
          "data": {
            "text/plain": [
              "<matplotlib.image.AxesImage at 0x7f37ebb331d0>"
            ]
          },
          "metadata": {
            "tags": []
          },
          "execution_count": 11
        },
        {
          "output_type": "display_data",
          "data": {
            "image/png": "[encoded data removed]",
            "text/plain": [
              "<Figure size 432x288 with 1 Axes>"
            ]
          },
          "metadata": {
            "tags": [],
            "needs_background": "light"
          }
        }
      ]
    },
    {
      "cell_type": "code",
      "metadata": {
        "id": "02ELXibWgNJ5",
        "colab_type": "code",
        "colab": {
          "base_uri": "https://localhost:8080/",
          "height": 34
        },
        "outputId": "1927cce9-cc2a-4b0c-da2a-49f03a0a60d8"
      },
      "source": [
        "y_train[0]"
      ],
      "execution_count": null,
      "outputs": [
        {
          "output_type": "execute_result",
          "data": {
            "text/plain": [
              "array([6], dtype=uint8)"
            ]
          },
          "metadata": {
            "tags": []
          },
          "execution_count": 12
        }
      ]
    },
    {
      "cell_type": "code",
      "metadata": {
        "id": "f_3IrZQigRav",
        "colab_type": "code",
        "colab": {
          "base_uri": "https://localhost:8080/",
          "height": 35
        },
        "outputId": "1c6778c3-a313-43f9-affd-b3e40ab889da"
      },
      "source": [
        "class_names[6]"
      ],
      "execution_count": null,
      "outputs": [
        {
          "output_type": "execute_result",
          "data": {
            "application/vnd.google.colaboratory.intrinsic+json": {
              "type": "string"
            },
            "text/plain": [
              "'6 frog'"
            ]
          },
          "metadata": {
            "tags": []
          },
          "execution_count": 13
        }
      ]
    },
    {
      "cell_type": "code",
      "metadata": {
        "id": "-mNa_Jh4gWTP",
        "colab_type": "code",
        "colab": {}
      },
      "source": [
        "#define the object\n",
        "model = tf.keras.models.Sequential()"
      ],
      "execution_count": null,
      "outputs": []
    },
    {
      "cell_type": "code",
      "metadata": {
        "id": "y5CnaGJ6tm2W",
        "colab_type": "code",
        "colab": {}
      },
      "source": [
        "#add first convulutional layer\n",
        "#1. No of filters (kernel) =32\n",
        "#2 Kernel size = 3\n",
        "#3 padding = same\n",
        "#4 activation function = ReLu\n",
        "#5 Input shape = 32,32,3"
      ],
      "execution_count": null,
      "outputs": []
    },
    {
      "cell_type": "code",
      "metadata": {
        "id": "gh8hS9Q52LRe",
        "colab_type": "code",
        "colab": {}
      },
      "source": [
        "#ADD FIRST CNN LAYER\n",
        "model.add(tf.keras.layers.Conv2D(filters=32, kernel_size=3, padding='same',activation='relu', input_shape=[32,32,3]))"
      ],
      "execution_count": null,
      "outputs": []
    },
    {
      "cell_type": "code",
      "metadata": {
        "id": "2BgPgWme5k9y",
        "colab_type": "code",
        "colab": {}
      },
      "source": [
        "#add second convulutional layer\n",
        "#1. No of filters (kernel) =32\n",
        "#2 Kernel size = 3\n",
        "#3 padding = same\n",
        "#4 activation function = ReLu\n",
        "#5 OUT! Input shape = 32,32,3 ( dont specify shape in second layer!! )\n",
        "model.add(tf.keras.layers.Conv2D(filters=32, kernel_size=3, padding='same',activation='relu'))"
      ],
      "execution_count": null,
      "outputs": []
    },
    {
      "cell_type": "code",
      "metadata": {
        "id": "9hfmHQxf6kGU",
        "colab_type": "code",
        "colab": {}
      },
      "source": [
        "#MAX POOL PARAMETERS\n",
        "# pool size = 2\n",
        "# strides = 2\n",
        "# padding = valid\n",
        "model.add(tf.keras.layers.MaxPool2D(pool_size=2,strides=2, padding='valid'))"
      ],
      "execution_count": null,
      "outputs": []
    },
    {
      "cell_type": "code",
      "metadata": {
        "id": "MZEKpMc_7ZyV",
        "colab_type": "code",
        "colab": {}
      },
      "source": [
        "#adding the third CNN layer\n",
        "#1. No of filters (kernel) =64\n",
        "#2 Kernel size = 3\n",
        "#3 padding = same\n",
        "#4 activation function = ReLu\n",
        "model.add(tf.keras.layers.Conv2D(filters=64, kernel_size=3, padding='same',activation='relu'))"
      ],
      "execution_count": null,
      "outputs": []
    },
    {
      "cell_type": "code",
      "metadata": {
        "id": "ZxAYJ2Eh8AfA",
        "colab_type": "code",
        "colab": {}
      },
      "source": [
        "#adding 4th CNN and MAX pool\n",
        "#add second convulutional layer\n",
        "#1. No of filters (kernel) = 64\n",
        "#2 Kernel size = 3\n",
        "#3 padding = same\n",
        "#4 activation function = ReLu\n",
        "#5 OUT! Input shape = 32,32,3 ( dont specify shape in second layer!! )\n",
        "model.add(tf.keras.layers.Conv2D(filters=64, kernel_size=3, padding='same',activation='relu'))\n",
        "\n",
        "#MAX POOL PARAMETERS\n",
        "# pool size = 2\n",
        "# strides = 2\n",
        "# padding = valid\n",
        "model.add(tf.keras.layers.MaxPool2D(pool_size=2,strides=2, padding='valid'))"
      ],
      "execution_count": null,
      "outputs": []
    },
    {
      "cell_type": "code",
      "metadata": {
        "id": "0yCadC8j9J92",
        "colab_type": "code",
        "colab": {}
      },
      "source": [
        "#add drop out layer\n",
        "model.add(tf.keras.layers.Dropout(0.4))"
      ],
      "execution_count": null,
      "outputs": []
    },
    {
      "cell_type": "code",
      "metadata": {
        "id": "V456fIZP9c-7",
        "colab_type": "code",
        "colab": {}
      },
      "source": [
        "#Add the flattening layer ( converting an array into vector)\n",
        "model.add(tf.keras.layers.Flatten())"
      ],
      "execution_count": null,
      "outputs": []
    },
    {
      "cell_type": "code",
      "metadata": {
        "id": "19PkMm-T9l6_",
        "colab_type": "code",
        "colab": {}
      },
      "source": [
        "#add the first dense layers\n",
        "model.add(tf.keras.layers.Dense(units=128, activation='relu'))"
      ],
      "execution_count": null,
      "outputs": []
    },
    {
      "cell_type": "code",
      "metadata": {
        "id": "UX7hmIg795u4",
        "colab_type": "code",
        "colab": {}
      },
      "source": [
        "#second dense layer which is output layer mulitple output so softmax\n",
        "model.add(tf.keras.layers.Dense(units=10, activation='softmax'))"
      ],
      "execution_count": null,
      "outputs": []
    },
    {
      "cell_type": "code",
      "metadata": {
        "id": "CY7jhkUf-UIW",
        "colab_type": "code",
        "colab": {
          "base_uri": "https://localhost:8080/",
          "height": 514
        },
        "outputId": "9e42c77a-277e-47a0-8f9a-6e63f10691a1"
      },
      "source": [
        "model.summary()"
      ],
      "execution_count": null,
      "outputs": [
        {
          "output_type": "stream",
          "text": [
            "Model: \"sequential\"\n",
            "_________________________________________________________________\n",
            "Layer (type)                 Output Shape              Param #   \n",
            "=================================================================\n",
            "conv2d (Conv2D)              (None, 32, 32, 32)        896       \n",
            "_________________________________________________________________\n",
            "conv2d_1 (Conv2D)            (None, 32, 32, 32)        9248      \n",
            "_________________________________________________________________\n",
            "max_pooling2d (MaxPooling2D) (None, 16, 16, 32)        0         \n",
            "_________________________________________________________________\n",
            "conv2d_2 (Conv2D)            (None, 16, 16, 64)        18496     \n",
            "_________________________________________________________________\n",
            "conv2d_3 (Conv2D)            (None, 16, 16, 64)        36928     \n",
            "_________________________________________________________________\n",
            "max_pooling2d_1 (MaxPooling2 (None, 8, 8, 64)          0         \n",
            "_________________________________________________________________\n",
            "dropout (Dropout)            (None, 8, 8, 64)          0         \n",
            "_________________________________________________________________\n",
            "flatten (Flatten)            (None, 4096)              0         \n",
            "_________________________________________________________________\n",
            "dense (Dense)                (None, 128)               524416    \n",
            "_________________________________________________________________\n",
            "dense_1 (Dense)              (None, 10)                1290      \n",
            "=================================================================\n",
            "Total params: 591,274\n",
            "Trainable params: 591,274\n",
            "Non-trainable params: 0\n",
            "_________________________________________________________________\n"
          ],
          "name": "stdout"
        }
      ]
    },
    {
      "cell_type": "code",
      "metadata": {
        "id": "M_ey7xF1-bBu",
        "colab_type": "code",
        "colab": {}
      },
      "source": [
        "#compile the model\n",
        "model.compile(optimizer='adam', loss='sparse_categorical_crossentropy' , metrics=['sparse_categorical_accuracy'])"
      ],
      "execution_count": null,
      "outputs": []
    },
    {
      "cell_type": "code",
      "metadata": {
        "id": "m41TOaX_AcXR",
        "colab_type": "code",
        "colab": {
          "base_uri": "https://localhost:8080/",
          "height": 410
        },
        "outputId": "73bd37f9-623a-43e4-ffaf-1163e53660a1"
      },
      "source": [
        "model.fit(x_train, y_train, batch_size=10, epochs=10)"
      ],
      "execution_count": null,
      "outputs": [
        {
          "output_type": "stream",
          "text": [
            "Epoch 1/10\n",
            "5000/5000 [==============================] - 253s 51ms/step - loss: 1.3838 - sparse_categorical_accuracy: 0.5019\n",
            "Epoch 2/10\n",
            "5000/5000 [==============================] - 255s 51ms/step - loss: 1.0061 - sparse_categorical_accuracy: 0.6433\n",
            "Epoch 3/10\n",
            "5000/5000 [==============================] - 257s 51ms/step - loss: 0.8617 - sparse_categorical_accuracy: 0.6958\n",
            "Epoch 4/10\n",
            "5000/5000 [==============================] - 252s 50ms/step - loss: 0.7759 - sparse_categorical_accuracy: 0.7264\n",
            "Epoch 5/10\n",
            "5000/5000 [==============================] - 255s 51ms/step - loss: 0.7096 - sparse_categorical_accuracy: 0.7495\n",
            "Epoch 6/10\n",
            "5000/5000 [==============================] - 256s 51ms/step - loss: 0.6593 - sparse_categorical_accuracy: 0.7652\n",
            "Epoch 7/10\n",
            "5000/5000 [==============================] - 254s 51ms/step - loss: 0.6097 - sparse_categorical_accuracy: 0.7835\n",
            "Epoch 8/10\n",
            "5000/5000 [==============================] - 263s 53ms/step - loss: 0.5775 - sparse_categorical_accuracy: 0.7948\n",
            "Epoch 9/10\n",
            "5000/5000 [==============================] - 255s 51ms/step - loss: 0.5492 - sparse_categorical_accuracy: 0.8033\n",
            "Epoch 10/10\n",
            "5000/5000 [==============================] - 254s 51ms/step - loss: 0.5207 - sparse_categorical_accuracy: 0.8171\n"
          ],
          "name": "stdout"
        },
        {
          "output_type": "execute_result",
          "data": {
            "text/plain": [
              "<tensorflow.python.keras.callbacks.History at 0x7f37dd3d7fd0>"
            ]
          },
          "metadata": {
            "tags": []
          },
          "execution_count": 30
        }
      ]
    },
    {
      "cell_type": "code",
      "metadata": {
        "id": "YldsNLpiA3Rf",
        "colab_type": "code",
        "colab": {
          "base_uri": "https://localhost:8080/",
          "height": 54
        },
        "outputId": "636cc48e-a6d1-440f-91b3-d7f5570cefe6"
      },
      "source": [
        "test_loss, test_acc = model.evaluate(x_test, y_test)"
      ],
      "execution_count": null,
      "outputs": [
        {
          "output_type": "stream",
          "text": [
            "313/313 [==============================] - 12s 37ms/step - loss: 0.7528 - sparse_categorical_accuracy: 0.7485\n"
          ],
          "name": "stdout"
        }
      ]
    },
    {
      "cell_type": "code",
      "metadata": {
        "id": "vuVMy37mLeEt",
        "colab_type": "code",
        "colab": {
          "base_uri": "https://localhost:8080/",
          "height": 34
        },
        "outputId": "7c8d8ad8-b417-4f6b-e2a8-5ee5ddd95863"
      },
      "source": [
        "print(\"Accuracy\", test_acc, \"Loss\", test_loss)"
      ],
      "execution_count": null,
      "outputs": [
        {
          "output_type": "stream",
          "text": [
            "Accuracy 0.7484999895095825 Loss 0.7527797818183899\n"
          ],
          "name": "stdout"
        }
      ]
    },
    {
      "cell_type": "code",
      "metadata": {
        "id": "-pTfkQouLtFZ",
        "colab_type": "code",
        "colab": {}
      },
      "source": [
        "y_pred = model.predict_classes(x_test)"
      ],
      "execution_count": null,
      "outputs": []
    },
    {
      "cell_type": "code",
      "metadata": {
        "id": "zqRAoJmAL98X",
        "colab_type": "code",
        "colab": {
          "base_uri": "https://localhost:8080/",
          "height": 70
        },
        "outputId": "aaf0ecc5-73f7-4804-d5eb-154d2dd82e0f"
      },
      "source": [
        "print(y_pred[100]), print(y_test[100])"
      ],
      "execution_count": null,
      "outputs": [
        {
          "output_type": "stream",
          "text": [
            "4\n",
            "[4]\n"
          ],
          "name": "stdout"
        },
        {
          "output_type": "execute_result",
          "data": {
            "text/plain": [
              "(None, None)"
            ]
          },
          "metadata": {
            "tags": []
          },
          "execution_count": 46
        }
      ]
    },
    {
      "cell_type": "code",
      "metadata": {
        "id": "b6OtcGPDMNV8",
        "colab_type": "code",
        "colab": {
          "base_uri": "https://localhost:8080/",
          "height": 34
        },
        "outputId": "29d353a8-3b14-4bb4-9469-2e96457cdd9d"
      },
      "source": [
        "print(class_names[y_preed[100]])"
      ],
      "execution_count": null,
      "outputs": [
        {
          "output_type": "stream",
          "text": [
            "4 deer\n"
          ],
          "name": "stdout"
        }
      ]
    },
    {
      "cell_type": "code",
      "metadata": {
        "id": "up2BtFSTMb8l",
        "colab_type": "code",
        "colab": {}
      },
      "source": [
        "#confusion metrics\n",
        "from sklearn.metrics import confusion_matrix, accuracy_score"
      ],
      "execution_count": null,
      "outputs": []
    },
    {
      "cell_type": "code",
      "metadata": {
        "id": "eTMxhUQDNF7g",
        "colab_type": "code",
        "colab": {}
      },
      "source": [
        "cm = confusion_matrix(y_test, y_pred)"
      ],
      "execution_count": null,
      "outputs": []
    },
    {
      "cell_type": "code",
      "metadata": {
        "id": "BP9U84ZtNKyr",
        "colab_type": "code",
        "colab": {
          "base_uri": "https://localhost:8080/",
          "height": 194
        },
        "outputId": "dbae0f4d-26d6-49a1-a9e3-2c62346eebbe"
      },
      "source": [
        "print(cm)"
      ],
      "execution_count": null,
      "outputs": [
        {
          "output_type": "stream",
          "text": [
            "[[772  10  38  28  25   8   8   4  75  32]\n",
            " [ 20 840   4   8   3   5   8   1  28  83]\n",
            " [ 70   3 596 103  84  68  46  11  14   5]\n",
            " [ 16   1  58 623  55 157  52  20   8  10]\n",
            " [ 20   1  53  78 722  39  53  23   8   3]\n",
            " [ 12   1  42 182  24 687  22  22   1   7]\n",
            " [  7   1  52  80  28  18 807   1   3   3]\n",
            " [ 13   3  34  72  72  79   4 710   2  11]\n",
            " [ 53   7  14  18   8   4   1   1 860  34]\n",
            " [ 27  37   6  25   3   5   4   4  21 868]]\n"
          ],
          "name": "stdout"
        }
      ]
    },
    {
      "cell_type": "code",
      "metadata": {
        "id": "642JVQjnNpw7",
        "colab_type": "code",
        "colab": {}
      },
      "source": [
        "acc_cm = accuracy_score(y_test, y_pred)"
      ],
      "execution_count": null,
      "outputs": []
    },
    {
      "cell_type": "code",
      "metadata": {
        "id": "teHlZZZxNgFO",
        "colab_type": "code",
        "colab": {
          "base_uri": "https://localhost:8080/",
          "height": 34
        },
        "outputId": "1a64f73b-84d2-4ed7-8dcc-b514eed9b48b"
      },
      "source": [
        "print(acc_cm)"
      ],
      "execution_count": null,
      "outputs": [
        {
          "output_type": "stream",
          "text": [
            "0.7485\n"
          ],
          "name": "stdout"
        }
      ]
    },
    {
      "cell_type": "code",
      "metadata": {
        "id": "zr4_KlwJNvyN",
        "colab_type": "code",
        "colab": {}
      },
      "source": [
        ""
      ],
      "execution_count": null,
      "outputs": []
    }
  ]
}