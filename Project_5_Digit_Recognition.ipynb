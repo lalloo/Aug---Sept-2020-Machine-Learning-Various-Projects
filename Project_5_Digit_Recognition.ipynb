{
  "nbformat": 4,
  "nbformat_minor": 0,
  "metadata": {
    "colab": {
      "name": "Project 5 Digit Recognition.ipynb",
      "provenance": [],
      "collapsed_sections": []
    },
    "kernelspec": {
      "name": "python3",
      "display_name": "Python 3"
    }
  },
  "cells": [
    {
      "cell_type": "code",
      "metadata": {
        "id": "rkYcR249Q37D",
        "colab_type": "code",
        "colab": {}
      },
      "source": [
        "import tensorflow as tf\n",
        "import numpy as np\n",
        "import pandas as pd\n",
        "import matplotlib.pyplot as plt\n"
      ],
      "execution_count": 1,
      "outputs": []
    },
    {
      "cell_type": "code",
      "metadata": {
        "id": "p9BrmALWSEAA",
        "colab_type": "code",
        "colab": {}
      },
      "source": [
        "from tensorflow.keras.datasets import mnist"
      ],
      "execution_count": 2,
      "outputs": []
    },
    {
      "cell_type": "code",
      "metadata": {
        "id": "_Inb3vB9Uc1h",
        "colab_type": "code",
        "colab": {}
      },
      "source": [
        "(x_train, y_train), (x_test, y_test) = mnist.load_data()"
      ],
      "execution_count": 3,
      "outputs": []
    },
    {
      "cell_type": "code",
      "metadata": {
        "id": "udDZLsCkU5GQ",
        "colab_type": "code",
        "colab": {
          "base_uri": "https://localhost:8080/",
          "height": 282
        },
        "outputId": "032636ee-f3b8-471c-9bf2-ae5cea57388a"
      },
      "source": [
        "plt.imshow(x_train[0])"
      ],
      "execution_count": 4,
      "outputs": [
        {
          "output_type": "execute_result",
          "data": {
            "text/plain": [
              "<matplotlib.image.AxesImage at 0x7fc8cb186f28>"
            ]
          },
          "metadata": {
            "tags": []
          },
          "execution_count": 4
        },
        {
          "output_type": "display_data",
          "data": {
            "image/png": "[encoded data removed]",
            "text/plain": [
              "<Figure size 432x288 with 1 Axes>"
            ]
          },
          "metadata": {
            "tags": [],
            "needs_background": "light"
          }
        }
      ]
    },
    {
      "cell_type": "code",
      "metadata": {
        "id": "VIyU9pR6U_Jt",
        "colab_type": "code",
        "colab": {
          "base_uri": "https://localhost:8080/",
          "height": 34
        },
        "outputId": "266a6d46-b0c3-44df-989d-77966d3f35e7"
      },
      "source": [
        "y_train[0]"
      ],
      "execution_count": 5,
      "outputs": [
        {
          "output_type": "execute_result",
          "data": {
            "text/plain": [
              "5"
            ]
          },
          "metadata": {
            "tags": []
          },
          "execution_count": 5
        }
      ]
    },
    {
      "cell_type": "code",
      "metadata": {
        "id": "CzwWhDgEVCua",
        "colab_type": "code",
        "colab": {
          "base_uri": "https://localhost:8080/",
          "height": 34
        },
        "outputId": "a3916112-b849-4e59-ab3f-b94201c3b073"
      },
      "source": [
        "x_train.shape, y_train.shape"
      ],
      "execution_count": 6,
      "outputs": [
        {
          "output_type": "execute_result",
          "data": {
            "text/plain": [
              "((60000, 28, 28), (60000,))"
            ]
          },
          "metadata": {
            "tags": []
          },
          "execution_count": 6
        }
      ]
    },
    {
      "cell_type": "code",
      "metadata": {
        "id": "M3aQ8qnkVIjm",
        "colab_type": "code",
        "colab": {
          "base_uri": "https://localhost:8080/",
          "height": 34
        },
        "outputId": "1c0c7e63-19ea-47c3-b410-34e8817975be"
      },
      "source": [
        "x_test.shape, y_test.shape"
      ],
      "execution_count": 7,
      "outputs": [
        {
          "output_type": "execute_result",
          "data": {
            "text/plain": [
              "((10000, 28, 28), (10000,))"
            ]
          },
          "metadata": {
            "tags": []
          },
          "execution_count": 7
        }
      ]
    },
    {
      "cell_type": "code",
      "metadata": {
        "id": "vk2HxO-mVPQA",
        "colab_type": "code",
        "colab": {
          "base_uri": "https://localhost:8080/",
          "height": 34
        },
        "outputId": "898fe755-2cde-4285-8ae9-f2c541d1d278"
      },
      "source": [
        "x_train.min(), x_train.max()"
      ],
      "execution_count": 8,
      "outputs": [
        {
          "output_type": "execute_result",
          "data": {
            "text/plain": [
              "(0, 255)"
            ]
          },
          "metadata": {
            "tags": []
          },
          "execution_count": 8
        }
      ]
    },
    {
      "cell_type": "code",
      "metadata": {
        "id": "ZRkGDe8xVYZM",
        "colab_type": "code",
        "colab": {
          "base_uri": "https://localhost:8080/",
          "height": 34
        },
        "outputId": "57729b41-bab6-4c8a-f5e5-708f09ae6471"
      },
      "source": [
        "y_train.min(), y_train.max()"
      ],
      "execution_count": 9,
      "outputs": [
        {
          "output_type": "execute_result",
          "data": {
            "text/plain": [
              "(0, 9)"
            ]
          },
          "metadata": {
            "tags": []
          },
          "execution_count": 9
        }
      ]
    },
    {
      "cell_type": "code",
      "metadata": {
        "id": "_UqZNnQTVgqH",
        "colab_type": "code",
        "colab": {}
      },
      "source": [
        "x_train = x_train/255.0\n",
        "x_test = x_test/255.0"
      ],
      "execution_count": 10,
      "outputs": []
    },
    {
      "cell_type": "code",
      "metadata": {
        "id": "vwEisNfeV3dC",
        "colab_type": "code",
        "colab": {
          "base_uri": "https://localhost:8080/",
          "height": 34
        },
        "outputId": "ebd3f824-b454-46a5-cc5e-c99b9dbde585"
      },
      "source": [
        "x_train.min(), x_train.max()"
      ],
      "execution_count": 11,
      "outputs": [
        {
          "output_type": "execute_result",
          "data": {
            "text/plain": [
              "(0.0, 1.0)"
            ]
          },
          "metadata": {
            "tags": []
          },
          "execution_count": 11
        }
      ]
    },
    {
      "cell_type": "code",
      "metadata": {
        "id": "Wo_j6SN_WOxe",
        "colab_type": "code",
        "colab": {
          "base_uri": "https://localhost:8080/",
          "height": 34
        },
        "outputId": "8530c209-789a-47d6-dcd5-92889dee34da"
      },
      "source": [
        "x_test.min(), x_test.max()"
      ],
      "execution_count": 12,
      "outputs": [
        {
          "output_type": "execute_result",
          "data": {
            "text/plain": [
              "(0.0, 1.0)"
            ]
          },
          "metadata": {
            "tags": []
          },
          "execution_count": 12
        }
      ]
    },
    {
      "cell_type": "code",
      "metadata": {
        "id": "vVqivOsacXK1",
        "colab_type": "code",
        "colab": {}
      },
      "source": [
        "x_train = x_train.reshape(60000,28,28,1)\n",
        "x_test = x_test.reshape(10000,28,28,1)"
      ],
      "execution_count": 13,
      "outputs": []
    },
    {
      "cell_type": "code",
      "metadata": {
        "id": "kqWvjfM6cz_H",
        "colab_type": "code",
        "colab": {
          "base_uri": "https://localhost:8080/",
          "height": 34
        },
        "outputId": "60f2dbbd-d0cc-402b-d5be-f5c3e211883b"
      },
      "source": [
        "x_train.shape , x_test.shape"
      ],
      "execution_count": 14,
      "outputs": [
        {
          "output_type": "execute_result",
          "data": {
            "text/plain": [
              "((60000, 28, 28, 1), (10000, 28, 28, 1))"
            ]
          },
          "metadata": {
            "tags": []
          },
          "execution_count": 14
        }
      ]
    },
    {
      "cell_type": "code",
      "metadata": {
        "id": "RJY5NR5BWT8q",
        "colab_type": "code",
        "colab": {}
      },
      "source": [
        "#buil the model - first define the object\n",
        "model = tf.keras.models.Sequential()"
      ],
      "execution_count": 15,
      "outputs": []
    },
    {
      "cell_type": "code",
      "metadata": {
        "id": "bwyqhbFqbtfw",
        "colab_type": "code",
        "colab": {}
      },
      "source": [
        "#add first convolutional layer\n",
        "model.add(tf.keras.layers.Conv2D(filters=32, kernel_size=(3,3), activation='relu', input_shape=(28,28,1)))"
      ],
      "execution_count": 16,
      "outputs": []
    },
    {
      "cell_type": "code",
      "metadata": {
        "id": "crKaY4ARlkFI",
        "colab_type": "code",
        "colab": {}
      },
      "source": [
        "#add second layer\n",
        "model.add(tf.keras.layers.Conv2D(filters=64, kernel_size=(3,3), activation='relu'))"
      ],
      "execution_count": 17,
      "outputs": []
    },
    {
      "cell_type": "code",
      "metadata": {
        "id": "zkek8_rxlwFS",
        "colab_type": "code",
        "colab": {}
      },
      "source": [
        "#adding maxpool layer\n",
        "model.add(tf.keras.layers.MaxPool2D(pool_size=(2,2)))"
      ],
      "execution_count": 18,
      "outputs": []
    },
    {
      "cell_type": "code",
      "metadata": {
        "id": "e3ztRIW_mHRe",
        "colab_type": "code",
        "colab": {}
      },
      "source": [
        "#add drop out layer\n",
        "model.add(tf.keras.layers.Dropout(0.4))"
      ],
      "execution_count": 19,
      "outputs": []
    },
    {
      "cell_type": "code",
      "metadata": {
        "id": "xt1pDbk4m9u1",
        "colab_type": "code",
        "colab": {}
      },
      "source": [
        "#flatten layer\n",
        "model.add(tf.keras.layers.Flatten())\n"
      ],
      "execution_count": 20,
      "outputs": []
    },
    {
      "cell_type": "code",
      "metadata": {
        "id": "z-TuSIxvnEus",
        "colab_type": "code",
        "colab": {}
      },
      "source": [
        "#fully connected layer\n",
        "model.add(tf.keras.layers.Dense(units=128, activation='relu'))\n",
        "\n"
      ],
      "execution_count": 21,
      "outputs": []
    },
    {
      "cell_type": "code",
      "metadata": {
        "id": "M63aXP2fnf9b",
        "colab_type": "code",
        "colab": {}
      },
      "source": [
        "model.add(tf.keras.layers.Dense(units=10, activation='softmax'))"
      ],
      "execution_count": 22,
      "outputs": []
    },
    {
      "cell_type": "code",
      "metadata": {
        "id": "KITkn3oPoL9J",
        "colab_type": "code",
        "colab": {
          "base_uri": "https://localhost:8080/",
          "height": 391
        },
        "outputId": "93440b63-a75f-40cb-ffce-f6bc93f22f2a"
      },
      "source": [
        "model.summary()"
      ],
      "execution_count": 23,
      "outputs": [
        {
          "output_type": "stream",
          "text": [
            "Model: \"sequential\"\n",
            "_________________________________________________________________\n",
            "Layer (type)                 Output Shape              Param #   \n",
            "=================================================================\n",
            "conv2d (Conv2D)              (None, 26, 26, 32)        320       \n",
            "_________________________________________________________________\n",
            "conv2d_1 (Conv2D)            (None, 24, 24, 64)        18496     \n",
            "_________________________________________________________________\n",
            "max_pooling2d (MaxPooling2D) (None, 12, 12, 64)        0         \n",
            "_________________________________________________________________\n",
            "dropout (Dropout)            (None, 12, 12, 64)        0         \n",
            "_________________________________________________________________\n",
            "flatten (Flatten)            (None, 9216)              0         \n",
            "_________________________________________________________________\n",
            "dense (Dense)                (None, 128)               1179776   \n",
            "_________________________________________________________________\n",
            "dense_1 (Dense)              (None, 10)                1290      \n",
            "=================================================================\n",
            "Total params: 1,199,882\n",
            "Trainable params: 1,199,882\n",
            "Non-trainable params: 0\n",
            "_________________________________________________________________\n"
          ],
          "name": "stdout"
        }
      ]
    },
    {
      "cell_type": "code",
      "metadata": {
        "id": "eA9hYSApoRPw",
        "colab_type": "code",
        "colab": {}
      },
      "source": [
        "model.compile(optimizer='adam', loss='sparse_categorical_crossentropy', metrics=['sparse_categorical_accuracy'])"
      ],
      "execution_count": 24,
      "outputs": []
    },
    {
      "cell_type": "code",
      "metadata": {
        "id": "c_3PN7HlpJqf",
        "colab_type": "code",
        "colab": {
          "base_uri": "https://localhost:8080/",
          "height": 377
        },
        "outputId": "c2129d2f-984f-4b7d-fa52-6f4e6afdcf29"
      },
      "source": [
        "#train the model\n",
        "modelhist = model.fit(x_train, y_train, batch_size=128, epochs=10, validation_data=(x_test, y_test))"
      ],
      "execution_count": 37,
      "outputs": [
        {
          "output_type": "stream",
          "text": [
            "Epoch 1/10\n",
            "469/469 [==============================] - 140s 299ms/step - loss: 0.0106 - sparse_categorical_accuracy: 0.9963 - val_loss: 0.0318 - val_sparse_categorical_accuracy: 0.9912\n",
            "Epoch 2/10\n",
            "469/469 [==============================] - 142s 302ms/step - loss: 0.0071 - sparse_categorical_accuracy: 0.9976 - val_loss: 0.0279 - val_sparse_categorical_accuracy: 0.9916\n",
            "Epoch 3/10\n",
            "469/469 [==============================] - 141s 301ms/step - loss: 0.0077 - sparse_categorical_accuracy: 0.9975 - val_loss: 0.0365 - val_sparse_categorical_accuracy: 0.9909\n",
            "Epoch 4/10\n",
            "469/469 [==============================] - 141s 301ms/step - loss: 0.0059 - sparse_categorical_accuracy: 0.9980 - val_loss: 0.0370 - val_sparse_categorical_accuracy: 0.9910\n",
            "Epoch 5/10\n",
            "469/469 [==============================] - 142s 302ms/step - loss: 0.0056 - sparse_categorical_accuracy: 0.9981 - val_loss: 0.0377 - val_sparse_categorical_accuracy: 0.9909\n",
            "Epoch 6/10\n",
            "469/469 [==============================] - 140s 299ms/step - loss: 0.0069 - sparse_categorical_accuracy: 0.9976 - val_loss: 0.0443 - val_sparse_categorical_accuracy: 0.9892\n",
            "Epoch 7/10\n",
            "469/469 [==============================] - 140s 299ms/step - loss: 0.0049 - sparse_categorical_accuracy: 0.9983 - val_loss: 0.0406 - val_sparse_categorical_accuracy: 0.9912\n",
            "Epoch 8/10\n",
            "469/469 [==============================] - 141s 300ms/step - loss: 0.0048 - sparse_categorical_accuracy: 0.9984 - val_loss: 0.0378 - val_sparse_categorical_accuracy: 0.9905\n",
            "Epoch 9/10\n",
            "469/469 [==============================] - 141s 301ms/step - loss: 0.0043 - sparse_categorical_accuracy: 0.9985 - val_loss: 0.0451 - val_sparse_categorical_accuracy: 0.9912\n",
            "Epoch 10/10\n",
            "469/469 [==============================] - 140s 300ms/step - loss: 0.0052 - sparse_categorical_accuracy: 0.9984 - val_loss: 0.0353 - val_sparse_categorical_accuracy: 0.9909\n"
          ],
          "name": "stdout"
        }
      ]
    },
    {
      "cell_type": "code",
      "metadata": {
        "id": "QsUEGqYPpnUb",
        "colab_type": "code",
        "colab": {}
      },
      "source": [
        "#model predictions\n",
        "y_pred = model.predict_classes(x_test)"
      ],
      "execution_count": 38,
      "outputs": []
    },
    {
      "cell_type": "code",
      "metadata": {
        "id": "e62V1yb4_Qi-",
        "colab_type": "code",
        "colab": {
          "base_uri": "https://localhost:8080/",
          "height": 34
        },
        "outputId": "436c4b18-059a-4583-fe37-3b771176a091"
      },
      "source": [
        "y_pred[9500], y_test[9500]"
      ],
      "execution_count": 39,
      "outputs": [
        {
          "output_type": "execute_result",
          "data": {
            "text/plain": [
              "(2, 2)"
            ]
          },
          "metadata": {
            "tags": []
          },
          "execution_count": 39
        }
      ]
    },
    {
      "cell_type": "code",
      "metadata": {
        "id": "nasHmiZAA_g8",
        "colab_type": "code",
        "colab": {}
      },
      "source": [
        "#confusion matrix\n",
        "from sklearn.metrics import confusion_matrix, accuracy_score\n"
      ],
      "execution_count": 40,
      "outputs": []
    },
    {
      "cell_type": "code",
      "metadata": {
        "id": "IJZGBTSyBTw9",
        "colab_type": "code",
        "colab": {}
      },
      "source": [
        "cm = confusion_matrix(y_test, y_pred)"
      ],
      "execution_count": 41,
      "outputs": []
    },
    {
      "cell_type": "code",
      "metadata": {
        "id": "avGj6bKGBX50",
        "colab_type": "code",
        "colab": {
          "base_uri": "https://localhost:8080/",
          "height": 187
        },
        "outputId": "669eb58d-1677-4c61-e6bd-595ec944eca0"
      },
      "source": [
        "cm"
      ],
      "execution_count": 42,
      "outputs": [
        {
          "output_type": "execute_result",
          "data": {
            "text/plain": [
              "array([[ 978,    0,    1,    0,    0,    0,    0,    0,    0,    1],\n",
              "       [   0, 1121,    0,    0,    0,    3,    3,    1,    7,    0],\n",
              "       [   1,    1, 1018,    1,    1,    0,    1,    7,    2,    0],\n",
              "       [   0,    0,    0, 1002,    0,    7,    0,    1,    0,    0],\n",
              "       [   0,    0,    0,    0,  977,    0,    2,    0,    0,    3],\n",
              "       [   1,    0,    0,    4,    0,  886,    1,    0,    0,    0],\n",
              "       [   4,    1,    0,    0,    1,    1,  947,    0,    4,    0],\n",
              "       [   0,    3,    4,    0,    0,    0,    0, 1019,    1,    1],\n",
              "       [   1,    0,    2,    1,    0,    0,    0,    1,  967,    2],\n",
              "       [   0,    0,    0,    0,    5,    3,    0,    5,    2,  994]])"
            ]
          },
          "metadata": {
            "tags": []
          },
          "execution_count": 42
        }
      ]
    },
    {
      "cell_type": "code",
      "metadata": {
        "id": "kLMEhFJ8BY9a",
        "colab_type": "code",
        "colab": {}
      },
      "source": [
        "acc_cm = accuracy_score(y_test, y_pred)"
      ],
      "execution_count": 43,
      "outputs": []
    },
    {
      "cell_type": "code",
      "metadata": {
        "id": "Rw-c3CIKBmUF",
        "colab_type": "code",
        "colab": {
          "base_uri": "https://localhost:8080/",
          "height": 34
        },
        "outputId": "3aa5f3bf-3bcc-4e11-98b2-b2d63cc3b027"
      },
      "source": [
        "acc_cm"
      ],
      "execution_count": 44,
      "outputs": [
        {
          "output_type": "execute_result",
          "data": {
            "text/plain": [
              "0.9909"
            ]
          },
          "metadata": {
            "tags": []
          },
          "execution_count": 44
        }
      ]
    },
    {
      "cell_type": "code",
      "metadata": {
        "id": "7DuyLChFBnpm",
        "colab_type": "code",
        "colab": {}
      },
      "source": [
        ""
      ],
      "execution_count": 36,
      "outputs": []
    },
    {
      "cell_type": "code",
      "metadata": {
        "id": "bun5Ku-rB3OB",
        "colab_type": "code",
        "colab": {}
      },
      "source": [
        "#Learning Curve\n",
        "\n",
        "def learning_curve(modelhist, epoch):\n",
        "  epoch_range = range(1, epoch+1)\n",
        "  plt.plot(epoch_range, modelhist.history['sparse_categorical_accuracy'])\n",
        "  plt.plot(epoch_range, modelhist.history['val_sparse_categorical_accuracy'])\n",
        "  plt.title('Accuracy of DIGIT RECOGNITION')\n",
        "  plt.xlabel('Epoch')\n",
        "  plt.ylabel('Accuracy')\n",
        "  plt.legend(['Train', 'val'], loc='upper left')\n",
        "  plt.show();\n",
        "\n",
        "  plt.plot(epoch_range, modelhist.history['loss'])\n",
        "  plt.plot(epoch_range, modelhist.history['val_loss'])\n",
        "  plt.title('model loss')\n",
        "  plt.xlabel('Epoch')\n",
        "  plt.ylabel('Accuracy')\n",
        "  plt.legend(['Train', 'val'], loc='upper left')\n",
        "  plt.show();"
      ],
      "execution_count": 54,
      "outputs": []
    },
    {
      "cell_type": "code",
      "metadata": {
        "id": "SVLQUGIkQ5cc",
        "colab_type": "code",
        "colab": {
          "base_uri": "https://localhost:8080/",
          "height": 573
        },
        "outputId": "04039fb0-e87d-47cb-c78b-347dcd037d53"
      },
      "source": [
        "learning_curve(modelhist, 10);"
      ],
      "execution_count": 55,
      "outputs": [
        {
          "output_type": "display_data",
          "data": {
            "image/png": "[encoded data removed]",
            "text/plain": [
              "<Figure size 432x288 with 1 Axes>"
            ]
          },
          "metadata": {
            "tags": [],
            "needs_background": "light"
          }
        },
        {
          "output_type": "display_data",
          "data": {
            "image/png": "[encoded data removed]",
            "text/plain": [
              "<Figure size 432x288 with 1 Axes>"
            ]
          },
          "metadata": {
            "tags": [],
            "needs_background": "light"
          }
        }
      ]
    },
    {
      "cell_type": "code",
      "metadata": {
        "id": "IPrd1lJbRGmK",
        "colab_type": "code",
        "colab": {
          "base_uri": "https://localhost:8080/",
          "height": 71
        },
        "outputId": "33332222-3773-4e6a-8021-5dad8b14fb71"
      },
      "source": [
        "model.evaluate(x_test, y_test)"
      ],
      "execution_count": 57,
      "outputs": [
        {
          "output_type": "stream",
          "text": [
            "313/313 [==============================] - 6s 21ms/step - loss: 0.0353 - sparse_categorical_accuracy: 0.9909\n"
          ],
          "name": "stdout"
        },
        {
          "output_type": "execute_result",
          "data": {
            "text/plain": [
              "[0.03532896935939789, 0.9908999800682068]"
            ]
          },
          "metadata": {
            "tags": []
          },
          "execution_count": 57
        }
      ]
    },
    {
      "cell_type": "code",
      "metadata": {
        "id": "fmYLmjFsTMuU",
        "colab_type": "code",
        "colab": {}
      },
      "source": [
        "#One has got to check for overfitting in this scenario"
      ],
      "execution_count": 58,
      "outputs": []
    },
    {
      "cell_type": "code",
      "metadata": {
        "id": "bZPaCSf0UMcI",
        "colab_type": "code",
        "colab": {}
      },
      "source": [
        ""
      ],
      "execution_count": null,
      "outputs": []
    }
  ]
}