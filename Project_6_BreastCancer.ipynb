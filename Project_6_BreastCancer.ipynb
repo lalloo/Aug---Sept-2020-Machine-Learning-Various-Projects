{
  "nbformat": 4,
  "nbformat_minor": 0,
  "metadata": {
    "colab": {
      "name": "Project 6 BreastCancer.ipynb",
      "provenance": [],
      "collapsed_sections": []
    },
    "kernelspec": {
      "name": "python3",
      "display_name": "Python 3"
    }
  },
  "cells": [
    {
      "cell_type": "code",
      "metadata": {
        "id": "OBlbn-gv0klK",
        "colab_type": "code",
        "colab": {}
      },
      "source": [
        "import tensorflow as tf"
      ],
      "execution_count": null,
      "outputs": []
    },
    {
      "cell_type": "code",
      "metadata": {
        "id": "HR6fTCe901DK",
        "colab_type": "code",
        "colab": {}
      },
      "source": [
        "import numpy as np\n",
        "import matplotlib.pyplot as plt\n",
        "import pandas as pd\n"
      ],
      "execution_count": null,
      "outputs": []
    },
    {
      "cell_type": "code",
      "metadata": {
        "id": "-Hf-eyih06vR",
        "colab_type": "code",
        "colab": {
          "base_uri": "https://localhost:8080/",
          "height": 34
        },
        "outputId": "62ea00d4-f2e7-4625-84a1-ac71c8a92955"
      },
      "source": [
        "print(tf.__version__)"
      ],
      "execution_count": null,
      "outputs": [
        {
          "output_type": "stream",
          "text": [
            "2.3.0\n"
          ],
          "name": "stdout"
        }
      ]
    },
    {
      "cell_type": "code",
      "metadata": {
        "id": "S1F8MBlG09M9",
        "colab_type": "code",
        "colab": {}
      },
      "source": [
        "#data preprocessing\n",
        "from sklearn import datasets, metrics"
      ],
      "execution_count": null,
      "outputs": []
    },
    {
      "cell_type": "code",
      "metadata": {
        "id": "4G5SQwLs1Q5F",
        "colab_type": "code",
        "colab": {}
      },
      "source": [
        "#import the data set\n",
        "cancer = datasets.load_breast_cancer()"
      ],
      "execution_count": null,
      "outputs": []
    },
    {
      "cell_type": "code",
      "metadata": {
        "id": "2YmxjoNk1W_v",
        "colab_type": "code",
        "colab": {
          "base_uri": "https://localhost:8080/",
          "height": 1000
        },
        "outputId": "a671e176-c614-4db6-d1ba-eeb081810aa6"
      },
      "source": [
        "print(cancer.DESCR)"
      ],
      "execution_count": null,
      "outputs": [
        {
          "output_type": "stream",
          "text": [
            ".. _breast_cancer_dataset:\n",
            "\n",
            "Breast cancer wisconsin (diagnostic) dataset\n",
            "--------------------------------------------\n",
            "\n",
            "**Data Set Characteristics:**\n",
            "\n",
            "    :Number of Instances: 569\n",
            "\n",
            "    :Number of Attributes: 30 numeric, predictive attributes and the class\n",
            "\n",
            "    :Attribute Information:\n",
            "        - radius (mean of distances from center to points on the perimeter)\n",
            "        - texture (standard deviation of gray-scale values)\n",
            "        - perimeter\n",
            "        - area\n",
            "        - smoothness (local variation in radius lengths)\n",
            "        - compactness (perimeter^2 / area - 1.0)\n",
            "        - concavity (severity of concave portions of the contour)\n",
            "        - concave points (number of concave portions of the contour)\n",
            "        - symmetry \n",
            "        - fractal dimension (\"coastline approximation\" - 1)\n",
            "\n",
            "        The mean, standard error, and \"worst\" or largest (mean of the three\n",
            "        largest values) of these features were computed for each image,\n",
            "        resulting in 30 features.  For instance, field 3 is Mean Radius, field\n",
            "        13 is Radius SE, field 23 is Worst Radius.\n",
            "\n",
            "        - class:\n",
            "                - WDBC-Malignant\n",
            "                - WDBC-Benign\n",
            "\n",
            "    :Summary Statistics:\n",
            "\n",
            "    ===================================== ====== ======\n",
            "                                           Min    Max\n",
            "    ===================================== ====== ======\n",
            "    radius (mean):                        6.981  28.11\n",
            "    texture (mean):                       9.71   39.28\n",
            "    perimeter (mean):                     43.79  188.5\n",
            "    area (mean):                          143.5  2501.0\n",
            "    smoothness (mean):                    0.053  0.163\n",
            "    compactness (mean):                   0.019  0.345\n",
            "    concavity (mean):                     0.0    0.427\n",
            "    concave points (mean):                0.0    0.201\n",
            "    symmetry (mean):                      0.106  0.304\n",
            "    fractal dimension (mean):             0.05   0.097\n",
            "    radius (standard error):              0.112  2.873\n",
            "    texture (standard error):             0.36   4.885\n",
            "    perimeter (standard error):           0.757  21.98\n",
            "    area (standard error):                6.802  542.2\n",
            "    smoothness (standard error):          0.002  0.031\n",
            "    compactness (standard error):         0.002  0.135\n",
            "    concavity (standard error):           0.0    0.396\n",
            "    concave points (standard error):      0.0    0.053\n",
            "    symmetry (standard error):            0.008  0.079\n",
            "    fractal dimension (standard error):   0.001  0.03\n",
            "    radius (worst):                       7.93   36.04\n",
            "    texture (worst):                      12.02  49.54\n",
            "    perimeter (worst):                    50.41  251.2\n",
            "    area (worst):                         185.2  4254.0\n",
            "    smoothness (worst):                   0.071  0.223\n",
            "    compactness (worst):                  0.027  1.058\n",
            "    concavity (worst):                    0.0    1.252\n",
            "    concave points (worst):               0.0    0.291\n",
            "    symmetry (worst):                     0.156  0.664\n",
            "    fractal dimension (worst):            0.055  0.208\n",
            "    ===================================== ====== ======\n",
            "\n",
            "    :Missing Attribute Values: None\n",
            "\n",
            "    :Class Distribution: 212 - Malignant, 357 - Benign\n",
            "\n",
            "    :Creator:  Dr. William H. Wolberg, W. Nick Street, Olvi L. Mangasarian\n",
            "\n",
            "    :Donor: Nick Street\n",
            "\n",
            "    :Date: November, 1995\n",
            "\n",
            "This is a copy of UCI ML Breast Cancer Wisconsin (Diagnostic) datasets.\n",
            "https://goo.gl/U2Uwz2\n",
            "\n",
            "Features are computed from a digitized image of a fine needle\n",
            "aspirate (FNA) of a breast mass.  They describe\n",
            "characteristics of the cell nuclei present in the image.\n",
            "\n",
            "Separating plane described above was obtained using\n",
            "Multisurface Method-Tree (MSM-T) [K. P. Bennett, \"Decision Tree\n",
            "Construction Via Linear Programming.\" Proceedings of the 4th\n",
            "Midwest Artificial Intelligence and Cognitive Science Society,\n",
            "pp. 97-101, 1992], a classification method which uses linear\n",
            "programming to construct a decision tree.  Relevant features\n",
            "were selected using an exhaustive search in the space of 1-4\n",
            "features and 1-3 separating planes.\n",
            "\n",
            "The actual linear program used to obtain the separating plane\n",
            "in the 3-dimensional space is that described in:\n",
            "[K. P. Bennett and O. L. Mangasarian: \"Robust Linear\n",
            "Programming Discrimination of Two Linearly Inseparable Sets\",\n",
            "Optimization Methods and Software 1, 1992, 23-34].\n",
            "\n",
            "This database is also available through the UW CS ftp server:\n",
            "\n",
            "ftp ftp.cs.wisc.edu\n",
            "cd math-prog/cpo-dataset/machine-learn/WDBC/\n",
            "\n",
            ".. topic:: References\n",
            "\n",
            "   - W.N. Street, W.H. Wolberg and O.L. Mangasarian. Nuclear feature extraction \n",
            "     for breast tumor diagnosis. IS&T/SPIE 1993 International Symposium on \n",
            "     Electronic Imaging: Science and Technology, volume 1905, pages 861-870,\n",
            "     San Jose, CA, 1993.\n",
            "   - O.L. Mangasarian, W.N. Street and W.H. Wolberg. Breast cancer diagnosis and \n",
            "     prognosis via linear programming. Operations Research, 43(4), pages 570-577, \n",
            "     July-August 1995.\n",
            "   - W.H. Wolberg, W.N. Street, and O.L. Mangasarian. Machine learning techniques\n",
            "     to diagnose breast cancer from fine-needle aspirates. Cancer Letters 77 (1994) \n",
            "     163-171.\n"
          ],
          "name": "stdout"
        }
      ]
    },
    {
      "cell_type": "code",
      "metadata": {
        "id": "JzvUC3mM1at7",
        "colab_type": "code",
        "colab": {}
      },
      "source": [
        "#matrix of features\n",
        "x = pd.DataFrame(data=cancer.data, columns=cancer.feature_names)"
      ],
      "execution_count": null,
      "outputs": []
    },
    {
      "cell_type": "code",
      "metadata": {
        "id": "BswAxM9f2Ros",
        "colab_type": "code",
        "colab": {
          "base_uri": "https://localhost:8080/",
          "height": 258
        },
        "outputId": "7b2b51b6-dda2-4a48-b55b-50b2a0f3acf3"
      },
      "source": [
        "x.head()"
      ],
      "execution_count": null,
      "outputs": [
        {
          "output_type": "execute_result",
          "data": {
            "text/html": [
              "<div>\n",
              "<style scoped>\n",
              "    .dataframe tbody tr th:only-of-type {\n",
              "        vertical-align: middle;\n",
              "    }\n",
              "\n",
              "    .dataframe tbody tr th {\n",
              "        vertical-align: top;\n",
              "    }\n",
              "\n",
              "    .dataframe thead th {\n",
              "        text-align: right;\n",
              "    }\n",
              "</style>\n",
              "<table border=\"1\" class=\"dataframe\">\n",
              "  <thead>\n",
              "    <tr style=\"text-align: right;\">\n",
              "      <th></th>\n",
              "      <th>mean radius</th>\n",
              "      <th>mean texture</th>\n",
              "      <th>mean perimeter</th>\n",
              "      <th>mean area</th>\n",
              "      <th>mean smoothness</th>\n",
              "      <th>mean compactness</th>\n",
              "      <th>mean concavity</th>\n",
              "      <th>mean concave points</th>\n",
              "      <th>mean symmetry</th>\n",
              "      <th>mean fractal dimension</th>\n",
              "      <th>radius error</th>\n",
              "      <th>texture error</th>\n",
              "      <th>perimeter error</th>\n",
              "      <th>area error</th>\n",
              "      <th>smoothness error</th>\n",
              "      <th>compactness error</th>\n",
              "      <th>concavity error</th>\n",
              "      <th>concave points error</th>\n",
              "      <th>symmetry error</th>\n",
              "      <th>fractal dimension error</th>\n",
              "      <th>worst radius</th>\n",
              "      <th>worst texture</th>\n",
              "      <th>worst perimeter</th>\n",
              "      <th>worst area</th>\n",
              "      <th>worst smoothness</th>\n",
              "      <th>worst compactness</th>\n",
              "      <th>worst concavity</th>\n",
              "      <th>worst concave points</th>\n",
              "      <th>worst symmetry</th>\n",
              "      <th>worst fractal dimension</th>\n",
              "    </tr>\n",
              "  </thead>\n",
              "  <tbody>\n",
              "    <tr>\n",
              "      <th>0</th>\n",
              "      <td>17.99</td>\n",
              "      <td>10.38</td>\n",
              "      <td>122.80</td>\n",
              "      <td>1001.0</td>\n",
              "      <td>0.11840</td>\n",
              "      <td>0.27760</td>\n",
              "      <td>0.3001</td>\n",
              "      <td>0.14710</td>\n",
              "      <td>0.2419</td>\n",
              "      <td>0.07871</td>\n",
              "      <td>1.0950</td>\n",
              "      <td>0.9053</td>\n",
              "      <td>8.589</td>\n",
              "      <td>153.40</td>\n",
              "      <td>0.006399</td>\n",
              "      <td>0.04904</td>\n",
              "      <td>0.05373</td>\n",
              "      <td>0.01587</td>\n",
              "      <td>0.03003</td>\n",
              "      <td>0.006193</td>\n",
              "      <td>25.38</td>\n",
              "      <td>17.33</td>\n",
              "      <td>184.60</td>\n",
              "      <td>2019.0</td>\n",
              "      <td>0.1622</td>\n",
              "      <td>0.6656</td>\n",
              "      <td>0.7119</td>\n",
              "      <td>0.2654</td>\n",
              "      <td>0.4601</td>\n",
              "      <td>0.11890</td>\n",
              "    </tr>\n",
              "    <tr>\n",
              "      <th>1</th>\n",
              "      <td>20.57</td>\n",
              "      <td>17.77</td>\n",
              "      <td>132.90</td>\n",
              "      <td>1326.0</td>\n",
              "      <td>0.08474</td>\n",
              "      <td>0.07864</td>\n",
              "      <td>0.0869</td>\n",
              "      <td>0.07017</td>\n",
              "      <td>0.1812</td>\n",
              "      <td>0.05667</td>\n",
              "      <td>0.5435</td>\n",
              "      <td>0.7339</td>\n",
              "      <td>3.398</td>\n",
              "      <td>74.08</td>\n",
              "      <td>0.005225</td>\n",
              "      <td>0.01308</td>\n",
              "      <td>0.01860</td>\n",
              "      <td>0.01340</td>\n",
              "      <td>0.01389</td>\n",
              "      <td>0.003532</td>\n",
              "      <td>24.99</td>\n",
              "      <td>23.41</td>\n",
              "      <td>158.80</td>\n",
              "      <td>1956.0</td>\n",
              "      <td>0.1238</td>\n",
              "      <td>0.1866</td>\n",
              "      <td>0.2416</td>\n",
              "      <td>0.1860</td>\n",
              "      <td>0.2750</td>\n",
              "      <td>0.08902</td>\n",
              "    </tr>\n",
              "    <tr>\n",
              "      <th>2</th>\n",
              "      <td>19.69</td>\n",
              "      <td>21.25</td>\n",
              "      <td>130.00</td>\n",
              "      <td>1203.0</td>\n",
              "      <td>0.10960</td>\n",
              "      <td>0.15990</td>\n",
              "      <td>0.1974</td>\n",
              "      <td>0.12790</td>\n",
              "      <td>0.2069</td>\n",
              "      <td>0.05999</td>\n",
              "      <td>0.7456</td>\n",
              "      <td>0.7869</td>\n",
              "      <td>4.585</td>\n",
              "      <td>94.03</td>\n",
              "      <td>0.006150</td>\n",
              "      <td>0.04006</td>\n",
              "      <td>0.03832</td>\n",
              "      <td>0.02058</td>\n",
              "      <td>0.02250</td>\n",
              "      <td>0.004571</td>\n",
              "      <td>23.57</td>\n",
              "      <td>25.53</td>\n",
              "      <td>152.50</td>\n",
              "      <td>1709.0</td>\n",
              "      <td>0.1444</td>\n",
              "      <td>0.4245</td>\n",
              "      <td>0.4504</td>\n",
              "      <td>0.2430</td>\n",
              "      <td>0.3613</td>\n",
              "      <td>0.08758</td>\n",
              "    </tr>\n",
              "    <tr>\n",
              "      <th>3</th>\n",
              "      <td>11.42</td>\n",
              "      <td>20.38</td>\n",
              "      <td>77.58</td>\n",
              "      <td>386.1</td>\n",
              "      <td>0.14250</td>\n",
              "      <td>0.28390</td>\n",
              "      <td>0.2414</td>\n",
              "      <td>0.10520</td>\n",
              "      <td>0.2597</td>\n",
              "      <td>0.09744</td>\n",
              "      <td>0.4956</td>\n",
              "      <td>1.1560</td>\n",
              "      <td>3.445</td>\n",
              "      <td>27.23</td>\n",
              "      <td>0.009110</td>\n",
              "      <td>0.07458</td>\n",
              "      <td>0.05661</td>\n",
              "      <td>0.01867</td>\n",
              "      <td>0.05963</td>\n",
              "      <td>0.009208</td>\n",
              "      <td>14.91</td>\n",
              "      <td>26.50</td>\n",
              "      <td>98.87</td>\n",
              "      <td>567.7</td>\n",
              "      <td>0.2098</td>\n",
              "      <td>0.8663</td>\n",
              "      <td>0.6869</td>\n",
              "      <td>0.2575</td>\n",
              "      <td>0.6638</td>\n",
              "      <td>0.17300</td>\n",
              "    </tr>\n",
              "    <tr>\n",
              "      <th>4</th>\n",
              "      <td>20.29</td>\n",
              "      <td>14.34</td>\n",
              "      <td>135.10</td>\n",
              "      <td>1297.0</td>\n",
              "      <td>0.10030</td>\n",
              "      <td>0.13280</td>\n",
              "      <td>0.1980</td>\n",
              "      <td>0.10430</td>\n",
              "      <td>0.1809</td>\n",
              "      <td>0.05883</td>\n",
              "      <td>0.7572</td>\n",
              "      <td>0.7813</td>\n",
              "      <td>5.438</td>\n",
              "      <td>94.44</td>\n",
              "      <td>0.011490</td>\n",
              "      <td>0.02461</td>\n",
              "      <td>0.05688</td>\n",
              "      <td>0.01885</td>\n",
              "      <td>0.01756</td>\n",
              "      <td>0.005115</td>\n",
              "      <td>22.54</td>\n",
              "      <td>16.67</td>\n",
              "      <td>152.20</td>\n",
              "      <td>1575.0</td>\n",
              "      <td>0.1374</td>\n",
              "      <td>0.2050</td>\n",
              "      <td>0.4000</td>\n",
              "      <td>0.1625</td>\n",
              "      <td>0.2364</td>\n",
              "      <td>0.07678</td>\n",
              "    </tr>\n",
              "  </tbody>\n",
              "</table>\n",
              "</div>"
            ],
            "text/plain": [
              "   mean radius  mean texture  ...  worst symmetry  worst fractal dimension\n",
              "0        17.99         10.38  ...          0.4601                  0.11890\n",
              "1        20.57         17.77  ...          0.2750                  0.08902\n",
              "2        19.69         21.25  ...          0.3613                  0.08758\n",
              "3        11.42         20.38  ...          0.6638                  0.17300\n",
              "4        20.29         14.34  ...          0.2364                  0.07678\n",
              "\n",
              "[5 rows x 30 columns]"
            ]
          },
          "metadata": {
            "tags": []
          },
          "execution_count": 8
        }
      ]
    },
    {
      "cell_type": "code",
      "metadata": {
        "id": "Z7aSJDy42TdP",
        "colab_type": "code",
        "colab": {}
      },
      "source": [
        "#dependent variable\n",
        "y = cancer['target']"
      ],
      "execution_count": null,
      "outputs": []
    },
    {
      "cell_type": "code",
      "metadata": {
        "id": "uYmNGUKB2hrR",
        "colab_type": "code",
        "colab": {
          "base_uri": "https://localhost:8080/",
          "height": 459
        },
        "outputId": "82f84875-9821-4bca-fee0-2ca8b3d31994"
      },
      "source": [
        "y"
      ],
      "execution_count": null,
      "outputs": [
        {
          "output_type": "execute_result",
          "data": {
            "text/plain": [
              "array([0, 0, 0, 0, 0, 0, 0, 0, 0, 0, 0, 0, 0, 0, 0, 0, 0, 0, 0, 1, 1, 1,\n",
              "       0, 0, 0, 0, 0, 0, 0, 0, 0, 0, 0, 0, 0, 0, 0, 1, 0, 0, 0, 0, 0, 0,\n",
              "       0, 0, 1, 0, 1, 1, 1, 1, 1, 0, 0, 1, 0, 0, 1, 1, 1, 1, 0, 1, 0, 0,\n",
              "       1, 1, 1, 1, 0, 1, 0, 0, 1, 0, 1, 0, 0, 1, 1, 1, 0, 0, 1, 0, 0, 0,\n",
              "       1, 1, 1, 0, 1, 1, 0, 0, 1, 1, 1, 0, 0, 1, 1, 1, 1, 0, 1, 1, 0, 1,\n",
              "       1, 1, 1, 1, 1, 1, 1, 0, 0, 0, 1, 0, 0, 1, 1, 1, 0, 0, 1, 0, 1, 0,\n",
              "       0, 1, 0, 0, 1, 1, 0, 1, 1, 0, 1, 1, 1, 1, 0, 1, 1, 1, 1, 1, 1, 1,\n",
              "       1, 1, 0, 1, 1, 1, 1, 0, 0, 1, 0, 1, 1, 0, 0, 1, 1, 0, 0, 1, 1, 1,\n",
              "       1, 0, 1, 1, 0, 0, 0, 1, 0, 1, 0, 1, 1, 1, 0, 1, 1, 0, 0, 1, 0, 0,\n",
              "       0, 0, 1, 0, 0, 0, 1, 0, 1, 0, 1, 1, 0, 1, 0, 0, 0, 0, 1, 1, 0, 0,\n",
              "       1, 1, 1, 0, 1, 1, 1, 1, 1, 0, 0, 1, 1, 0, 1, 1, 0, 0, 1, 0, 1, 1,\n",
              "       1, 1, 0, 1, 1, 1, 1, 1, 0, 1, 0, 0, 0, 0, 0, 0, 0, 0, 0, 0, 0, 0,\n",
              "       0, 0, 1, 1, 1, 1, 1, 1, 0, 1, 0, 1, 1, 0, 1, 1, 0, 1, 0, 0, 1, 1,\n",
              "       1, 1, 1, 1, 1, 1, 1, 1, 1, 1, 1, 0, 1, 1, 0, 1, 0, 1, 1, 1, 1, 1,\n",
              "       1, 1, 1, 1, 1, 1, 1, 1, 1, 0, 1, 1, 1, 0, 1, 0, 1, 1, 1, 1, 0, 0,\n",
              "       0, 1, 1, 1, 1, 0, 1, 0, 1, 0, 1, 1, 1, 0, 1, 1, 1, 1, 1, 1, 1, 0,\n",
              "       0, 0, 1, 1, 1, 1, 1, 1, 1, 1, 1, 1, 1, 0, 0, 1, 0, 0, 0, 1, 0, 0,\n",
              "       1, 1, 1, 1, 1, 0, 1, 1, 1, 1, 1, 0, 1, 1, 1, 0, 1, 1, 0, 0, 1, 1,\n",
              "       1, 1, 1, 1, 0, 1, 1, 1, 1, 1, 1, 1, 0, 1, 1, 1, 1, 1, 0, 1, 1, 0,\n",
              "       1, 1, 1, 1, 1, 1, 1, 1, 1, 1, 1, 1, 0, 1, 0, 0, 1, 0, 1, 1, 1, 1,\n",
              "       1, 0, 1, 1, 0, 1, 0, 1, 1, 0, 1, 0, 1, 1, 1, 1, 1, 1, 1, 1, 0, 0,\n",
              "       1, 1, 1, 1, 1, 1, 0, 1, 1, 1, 1, 1, 1, 1, 1, 1, 1, 0, 1, 1, 1, 1,\n",
              "       1, 1, 1, 0, 1, 0, 1, 1, 0, 1, 1, 1, 1, 1, 0, 0, 1, 0, 1, 0, 1, 1,\n",
              "       1, 1, 1, 0, 1, 1, 0, 1, 0, 1, 0, 0, 1, 1, 1, 0, 1, 1, 1, 1, 1, 1,\n",
              "       1, 1, 1, 1, 1, 0, 1, 0, 0, 1, 1, 1, 1, 1, 1, 1, 1, 1, 1, 1, 1, 1,\n",
              "       1, 1, 1, 1, 1, 1, 1, 1, 1, 1, 1, 1, 0, 0, 0, 0, 0, 0, 1])"
            ]
          },
          "metadata": {
            "tags": []
          },
          "execution_count": 10
        }
      ]
    },
    {
      "cell_type": "code",
      "metadata": {
        "id": "6rTgqPdl2jQz",
        "colab_type": "code",
        "colab": {
          "base_uri": "https://localhost:8080/",
          "height": 34
        },
        "outputId": "08ee7285-8125-4c31-e01a-f8d404c499e0"
      },
      "source": [
        "cancer.target_names"
      ],
      "execution_count": null,
      "outputs": [
        {
          "output_type": "execute_result",
          "data": {
            "text/plain": [
              "array(['malignant', 'benign'], dtype='<U9')"
            ]
          },
          "metadata": {
            "tags": []
          },
          "execution_count": 11
        }
      ]
    },
    {
      "cell_type": "code",
      "metadata": {
        "id": "V4ZUrcWQ2y1i",
        "colab_type": "code",
        "colab": {
          "base_uri": "https://localhost:8080/",
          "height": 34
        },
        "outputId": "d9cf79b4-7fe9-4636-b837-08cbc23a2aaf"
      },
      "source": [
        "cancer['target_names']"
      ],
      "execution_count": null,
      "outputs": [
        {
          "output_type": "execute_result",
          "data": {
            "text/plain": [
              "array(['malignant', 'benign'], dtype='<U9')"
            ]
          },
          "metadata": {
            "tags": []
          },
          "execution_count": 12
        }
      ]
    },
    {
      "cell_type": "code",
      "metadata": {
        "id": "APZDoiEy218A",
        "colab_type": "code",
        "colab": {
          "base_uri": "https://localhost:8080/",
          "height": 34
        },
        "outputId": "7f825932-5398-4db1-a810-dd586fc17732"
      },
      "source": [
        "x.shape, y.shape"
      ],
      "execution_count": null,
      "outputs": [
        {
          "output_type": "execute_result",
          "data": {
            "text/plain": [
              "((569, 30), (569,))"
            ]
          },
          "metadata": {
            "tags": []
          },
          "execution_count": 13
        }
      ]
    },
    {
      "cell_type": "code",
      "metadata": {
        "id": "_I1dF9_73Ahc",
        "colab_type": "code",
        "colab": {}
      },
      "source": [
        "#split train test split\n",
        "from sklearn.model_selection import train_test_split\n",
        "x_train , x_test , y_train , y_test = train_test_split(x,y, test_size=0.2, random_state=0)"
      ],
      "execution_count": null,
      "outputs": []
    },
    {
      "cell_type": "code",
      "metadata": {
        "id": "i1bAoaGT3YFV",
        "colab_type": "code",
        "colab": {
          "base_uri": "https://localhost:8080/",
          "height": 34
        },
        "outputId": "e3c7e1cf-0bcb-4eaf-97b3-db83e856ad97"
      },
      "source": [
        "x_train.shape"
      ],
      "execution_count": null,
      "outputs": [
        {
          "output_type": "execute_result",
          "data": {
            "text/plain": [
              "(455, 30)"
            ]
          },
          "metadata": {
            "tags": []
          },
          "execution_count": 15
        }
      ]
    },
    {
      "cell_type": "code",
      "metadata": {
        "id": "1MgFNgou3bpd",
        "colab_type": "code",
        "colab": {
          "base_uri": "https://localhost:8080/",
          "height": 34
        },
        "outputId": "d985d4a5-c7ca-4a90-9705-7efb465476bd"
      },
      "source": [
        "x_test.shape"
      ],
      "execution_count": null,
      "outputs": [
        {
          "output_type": "execute_result",
          "data": {
            "text/plain": [
              "(114, 30)"
            ]
          },
          "metadata": {
            "tags": []
          },
          "execution_count": 16
        }
      ]
    },
    {
      "cell_type": "code",
      "metadata": {
        "id": "e_rOV_Vm3dyq",
        "colab_type": "code",
        "colab": {}
      },
      "source": [
        "#features scaling\n",
        "from sklearn.preprocessing import StandardScaler"
      ],
      "execution_count": null,
      "outputs": []
    },
    {
      "cell_type": "code",
      "metadata": {
        "id": "vAz1RmV85UXA",
        "colab_type": "code",
        "colab": {}
      },
      "source": [
        "sc = StandardScaler()\n",
        "x_train = sc.fit_transform(x_train)\n",
        "x_test = sc.fit_transform(x_test)"
      ],
      "execution_count": null,
      "outputs": []
    },
    {
      "cell_type": "code",
      "metadata": {
        "id": "Ekz4pJ5Z5kfw",
        "colab_type": "code",
        "colab": {
          "base_uri": "https://localhost:8080/",
          "height": 238
        },
        "outputId": "5f651de0-ca00-43d5-de0a-0ce7e0f7cbe9"
      },
      "source": [
        "x_train"
      ],
      "execution_count": null,
      "outputs": [
        {
          "output_type": "execute_result",
          "data": {
            "text/plain": [
              "array([[-1.15036482, -0.39064196, -1.12855021, ..., -0.75798367,\n",
              "        -0.01614761, -0.38503402],\n",
              "       [-0.93798972,  0.68051405, -0.94820146, ..., -0.60687023,\n",
              "         0.09669004, -0.38615797],\n",
              "       [ 0.574121  , -1.03333557,  0.51394098, ..., -0.02371948,\n",
              "        -0.20050207, -0.75144254],\n",
              "       ...,\n",
              "       [-1.32422924, -0.20048168, -1.31754581, ..., -0.97974953,\n",
              "        -0.71542314, -0.11978123],\n",
              "       [-1.24380987, -0.2245526 , -1.28007609, ..., -1.75401433,\n",
              "        -1.58157125, -1.00601779],\n",
              "       [-0.73694129,  1.14989702, -0.71226578, ..., -0.27460457,\n",
              "        -1.25895095,  0.21515662]])"
            ]
          },
          "metadata": {
            "tags": []
          },
          "execution_count": 19
        }
      ]
    },
    {
      "cell_type": "code",
      "metadata": {
        "id": "S3yT9SEZ5sKN",
        "colab_type": "code",
        "colab": {
          "base_uri": "https://localhost:8080/",
          "height": 34
        },
        "outputId": "4f40c393-0409-4ef6-ef6b-e446ebab7620"
      },
      "source": [
        "x_train.shape , x_test.shape"
      ],
      "execution_count": null,
      "outputs": [
        {
          "output_type": "execute_result",
          "data": {
            "text/plain": [
              "((455, 30), (114, 30))"
            ]
          },
          "metadata": {
            "tags": []
          },
          "execution_count": 20
        }
      ]
    },
    {
      "cell_type": "code",
      "metadata": {
        "id": "LOvgXj0b5wOX",
        "colab_type": "code",
        "colab": {}
      },
      "source": [
        "x_train = x_train.reshape(455,30,1)\n",
        "x_test = x_test.reshape(114,30,1)"
      ],
      "execution_count": null,
      "outputs": []
    },
    {
      "cell_type": "code",
      "metadata": {
        "id": "isR8qmqn6Dyg",
        "colab_type": "code",
        "colab": {
          "base_uri": "https://localhost:8080/",
          "height": 34
        },
        "outputId": "d6fee0d7-f608-4fa7-c91e-9de31da21fcd"
      },
      "source": [
        "x_train.shape"
      ],
      "execution_count": null,
      "outputs": [
        {
          "output_type": "execute_result",
          "data": {
            "text/plain": [
              "(455, 30, 1)"
            ]
          },
          "metadata": {
            "tags": []
          },
          "execution_count": 22
        }
      ]
    },
    {
      "cell_type": "code",
      "metadata": {
        "id": "UYc2PjdE6OXF",
        "colab_type": "code",
        "colab": {
          "base_uri": "https://localhost:8080/",
          "height": 34
        },
        "outputId": "67235a1c-dfeb-46e6-a8d3-4bd9544a89fe"
      },
      "source": [
        "x_test.shape"
      ],
      "execution_count": null,
      "outputs": [
        {
          "output_type": "execute_result",
          "data": {
            "text/plain": [
              "(114, 30, 1)"
            ]
          },
          "metadata": {
            "tags": []
          },
          "execution_count": 23
        }
      ]
    },
    {
      "cell_type": "code",
      "metadata": {
        "id": "cXkyFJLi6Pz1",
        "colab_type": "code",
        "colab": {}
      },
      "source": [
        "#build the model\n",
        "model = tf.keras.models.Sequential()"
      ],
      "execution_count": null,
      "outputs": []
    },
    {
      "cell_type": "code",
      "metadata": {
        "id": "sUKxzSna8SAD",
        "colab_type": "code",
        "colab": {}
      },
      "source": [
        "#first layer CNN\n",
        "model.add(tf.keras.layers.Conv1D(filters=32, kernel_size=2, activation='relu', input_shape=(30,1)))"
      ],
      "execution_count": null,
      "outputs": []
    },
    {
      "cell_type": "code",
      "metadata": {
        "id": "H538WfhK8lX3",
        "colab_type": "code",
        "colab": {}
      },
      "source": [
        "#batch normalization\n",
        "model.add(tf.keras.layers.BatchNormalization())"
      ],
      "execution_count": null,
      "outputs": []
    },
    {
      "cell_type": "code",
      "metadata": {
        "id": "sMe-vnPA8zeK",
        "colab_type": "code",
        "colab": {}
      },
      "source": [
        "#dropout ( regularization technique)\n",
        "model.add(tf.keras.layers.Dropout(0.20))"
      ],
      "execution_count": null,
      "outputs": []
    },
    {
      "cell_type": "code",
      "metadata": {
        "id": "RaPXh4st9M7J",
        "colab_type": "code",
        "colab": {}
      },
      "source": [
        "#second layer CNN\n",
        "model.add(tf.keras.layers.Conv1D(filters=64, kernel_size=2, activation='relu', ))\n",
        "model.add(tf.keras.layers.BatchNormalization())\n",
        "model.add(tf.keras.layers.Dropout(0.40))"
      ],
      "execution_count": null,
      "outputs": []
    },
    {
      "cell_type": "code",
      "metadata": {
        "id": "8WWL-XSg9nHO",
        "colab_type": "code",
        "colab": {}
      },
      "source": [
        "#flatte\n",
        "model.add(tf.keras.layers.Flatten())"
      ],
      "execution_count": null,
      "outputs": []
    },
    {
      "cell_type": "code",
      "metadata": {
        "id": "6Djt-HR69wel",
        "colab_type": "code",
        "colab": {}
      },
      "source": [
        "#dense layer ( full connected layer)\n",
        "model.add(tf.keras.layers.Dense(units=64, activation='relu'))\n"
      ],
      "execution_count": null,
      "outputs": []
    },
    {
      "cell_type": "code",
      "metadata": {
        "id": "zVu6ziF5-FFd",
        "colab_type": "code",
        "colab": {}
      },
      "source": [
        "#output layer - binary output sigmoid\n",
        "model.add(tf.keras.layers.Dense(units=1, activation='sigmoid'))"
      ],
      "execution_count": null,
      "outputs": []
    },
    {
      "cell_type": "code",
      "metadata": {
        "id": "OC9bU90A-Yex",
        "colab_type": "code",
        "colab": {
          "base_uri": "https://localhost:8080/",
          "height": 459
        },
        "outputId": "583eeeb0-821d-496e-d90b-34c389ddfe29"
      },
      "source": [
        "model.summary()"
      ],
      "execution_count": null,
      "outputs": [
        {
          "output_type": "stream",
          "text": [
            "Model: \"sequential\"\n",
            "_________________________________________________________________\n",
            "Layer (type)                 Output Shape              Param #   \n",
            "=================================================================\n",
            "conv1d (Conv1D)              (None, 29, 32)            96        \n",
            "_________________________________________________________________\n",
            "batch_normalization (BatchNo (None, 29, 32)            128       \n",
            "_________________________________________________________________\n",
            "dropout (Dropout)            (None, 29, 32)            0         \n",
            "_________________________________________________________________\n",
            "conv1d_1 (Conv1D)            (None, 28, 64)            4160      \n",
            "_________________________________________________________________\n",
            "batch_normalization_1 (Batch (None, 28, 64)            256       \n",
            "_________________________________________________________________\n",
            "dropout_1 (Dropout)          (None, 28, 64)            0         \n",
            "_________________________________________________________________\n",
            "flatten (Flatten)            (None, 1792)              0         \n",
            "_________________________________________________________________\n",
            "dense (Dense)                (None, 64)                114752    \n",
            "_________________________________________________________________\n",
            "dense_1 (Dense)              (None, 1)                 65        \n",
            "=================================================================\n",
            "Total params: 119,457\n",
            "Trainable params: 119,265\n",
            "Non-trainable params: 192\n",
            "_________________________________________________________________\n"
          ],
          "name": "stdout"
        }
      ]
    },
    {
      "cell_type": "code",
      "metadata": {
        "id": "PQVs88r--edQ",
        "colab_type": "code",
        "colab": {}
      },
      "source": [
        "opt = tf.keras.optimizers.Adam(learning_rate=0.00005)\n",
        "model.compile(optimizer=opt, loss='binary_crossentropy', metrics='accuracy')"
      ],
      "execution_count": null,
      "outputs": []
    },
    {
      "cell_type": "code",
      "metadata": {
        "id": "yBampUUw_hF9",
        "colab_type": "code",
        "colab": {
          "base_uri": "https://localhost:8080/",
          "height": 1000
        },
        "outputId": "5aae3e97-fdc2-4bfd-e59a-45b4f46920e2"
      },
      "source": [
        "#training the model\n",
        "history1 = model.fit(x_train, y_train, epochs=50, validation_data=(x_test,y_test))"
      ],
      "execution_count": null,
      "outputs": [
        {
          "output_type": "stream",
          "text": [
            "Epoch 1/50\n",
            "15/15 [==============================] - 0s 21ms/step - loss: 0.7998 - accuracy: 0.5692 - val_loss: 0.6523 - val_accuracy: 0.8860\n",
            "Epoch 2/50\n",
            "15/15 [==============================] - 0s 9ms/step - loss: 0.3862 - accuracy: 0.8374 - val_loss: 0.5956 - val_accuracy: 0.9123\n",
            "Epoch 3/50\n",
            "15/15 [==============================] - 0s 9ms/step - loss: 0.2641 - accuracy: 0.8923 - val_loss: 0.5469 - val_accuracy: 0.9211\n",
            "Epoch 4/50\n",
            "15/15 [==============================] - 0s 9ms/step - loss: 0.2129 - accuracy: 0.9253 - val_loss: 0.5033 - val_accuracy: 0.9123\n",
            "Epoch 5/50\n",
            "15/15 [==============================] - 0s 9ms/step - loss: 0.1816 - accuracy: 0.9429 - val_loss: 0.4654 - val_accuracy: 0.9123\n",
            "Epoch 6/50\n",
            "15/15 [==============================] - 0s 9ms/step - loss: 0.1699 - accuracy: 0.9407 - val_loss: 0.4302 - val_accuracy: 0.9123\n",
            "Epoch 7/50\n",
            "15/15 [==============================] - 0s 9ms/step - loss: 0.1599 - accuracy: 0.9297 - val_loss: 0.3969 - val_accuracy: 0.9123\n",
            "Epoch 8/50\n",
            "15/15 [==============================] - 0s 9ms/step - loss: 0.1425 - accuracy: 0.9495 - val_loss: 0.3661 - val_accuracy: 0.9123\n",
            "Epoch 9/50\n",
            "15/15 [==============================] - 0s 9ms/step - loss: 0.1603 - accuracy: 0.9385 - val_loss: 0.3378 - val_accuracy: 0.9123\n",
            "Epoch 10/50\n",
            "15/15 [==============================] - 0s 9ms/step - loss: 0.1443 - accuracy: 0.9385 - val_loss: 0.3099 - val_accuracy: 0.9386\n",
            "Epoch 11/50\n",
            "15/15 [==============================] - 0s 9ms/step - loss: 0.1123 - accuracy: 0.9604 - val_loss: 0.2831 - val_accuracy: 0.9474\n",
            "Epoch 12/50\n",
            "15/15 [==============================] - 0s 9ms/step - loss: 0.1233 - accuracy: 0.9516 - val_loss: 0.2605 - val_accuracy: 0.9474\n",
            "Epoch 13/50\n",
            "15/15 [==============================] - 0s 9ms/step - loss: 0.1029 - accuracy: 0.9648 - val_loss: 0.2394 - val_accuracy: 0.9474\n",
            "Epoch 14/50\n",
            "15/15 [==============================] - 0s 9ms/step - loss: 0.1250 - accuracy: 0.9560 - val_loss: 0.2211 - val_accuracy: 0.9474\n",
            "Epoch 15/50\n",
            "15/15 [==============================] - 0s 9ms/step - loss: 0.1054 - accuracy: 0.9582 - val_loss: 0.2042 - val_accuracy: 0.9474\n",
            "Epoch 16/50\n",
            "15/15 [==============================] - 0s 9ms/step - loss: 0.1065 - accuracy: 0.9648 - val_loss: 0.1876 - val_accuracy: 0.9474\n",
            "Epoch 17/50\n",
            "15/15 [==============================] - 0s 9ms/step - loss: 0.1011 - accuracy: 0.9604 - val_loss: 0.1731 - val_accuracy: 0.9474\n",
            "Epoch 18/50\n",
            "15/15 [==============================] - 0s 9ms/step - loss: 0.1173 - accuracy: 0.9560 - val_loss: 0.1596 - val_accuracy: 0.9474\n",
            "Epoch 19/50\n",
            "15/15 [==============================] - 0s 9ms/step - loss: 0.0928 - accuracy: 0.9648 - val_loss: 0.1496 - val_accuracy: 0.9474\n",
            "Epoch 20/50\n",
            "15/15 [==============================] - 0s 9ms/step - loss: 0.1232 - accuracy: 0.9582 - val_loss: 0.1413 - val_accuracy: 0.9474\n",
            "Epoch 21/50\n",
            "15/15 [==============================] - 0s 9ms/step - loss: 0.0906 - accuracy: 0.9626 - val_loss: 0.1341 - val_accuracy: 0.9474\n",
            "Epoch 22/50\n",
            "15/15 [==============================] - 0s 9ms/step - loss: 0.0898 - accuracy: 0.9736 - val_loss: 0.1269 - val_accuracy: 0.9474\n",
            "Epoch 23/50\n",
            "15/15 [==============================] - 0s 9ms/step - loss: 0.0795 - accuracy: 0.9670 - val_loss: 0.1214 - val_accuracy: 0.9474\n",
            "Epoch 24/50\n",
            "15/15 [==============================] - 0s 9ms/step - loss: 0.0828 - accuracy: 0.9670 - val_loss: 0.1139 - val_accuracy: 0.9474\n",
            "Epoch 25/50\n",
            "15/15 [==============================] - 0s 10ms/step - loss: 0.0770 - accuracy: 0.9736 - val_loss: 0.1101 - val_accuracy: 0.9474\n",
            "Epoch 26/50\n",
            "15/15 [==============================] - 0s 10ms/step - loss: 0.0735 - accuracy: 0.9780 - val_loss: 0.1067 - val_accuracy: 0.9386\n",
            "Epoch 27/50\n",
            "15/15 [==============================] - 0s 9ms/step - loss: 0.0988 - accuracy: 0.9582 - val_loss: 0.1048 - val_accuracy: 0.9386\n",
            "Epoch 28/50\n",
            "15/15 [==============================] - 0s 9ms/step - loss: 0.0983 - accuracy: 0.9604 - val_loss: 0.1030 - val_accuracy: 0.9474\n",
            "Epoch 29/50\n",
            "15/15 [==============================] - 0s 8ms/step - loss: 0.0825 - accuracy: 0.9692 - val_loss: 0.1007 - val_accuracy: 0.9561\n",
            "Epoch 30/50\n",
            "15/15 [==============================] - 0s 9ms/step - loss: 0.0634 - accuracy: 0.9758 - val_loss: 0.0993 - val_accuracy: 0.9561\n",
            "Epoch 31/50\n",
            "15/15 [==============================] - 0s 8ms/step - loss: 0.0747 - accuracy: 0.9758 - val_loss: 0.0966 - val_accuracy: 0.9561\n",
            "Epoch 32/50\n",
            "15/15 [==============================] - 0s 10ms/step - loss: 0.0640 - accuracy: 0.9736 - val_loss: 0.0938 - val_accuracy: 0.9561\n",
            "Epoch 33/50\n",
            "15/15 [==============================] - 0s 9ms/step - loss: 0.0685 - accuracy: 0.9758 - val_loss: 0.0924 - val_accuracy: 0.9561\n",
            "Epoch 34/50\n",
            "15/15 [==============================] - 0s 8ms/step - loss: 0.0752 - accuracy: 0.9714 - val_loss: 0.0907 - val_accuracy: 0.9649\n",
            "Epoch 35/50\n",
            "15/15 [==============================] - 0s 9ms/step - loss: 0.0710 - accuracy: 0.9736 - val_loss: 0.0913 - val_accuracy: 0.9561\n",
            "Epoch 36/50\n",
            "15/15 [==============================] - 0s 9ms/step - loss: 0.0612 - accuracy: 0.9824 - val_loss: 0.0898 - val_accuracy: 0.9649\n",
            "Epoch 37/50\n",
            "15/15 [==============================] - 0s 10ms/step - loss: 0.0652 - accuracy: 0.9780 - val_loss: 0.0880 - val_accuracy: 0.9649\n",
            "Epoch 38/50\n",
            "15/15 [==============================] - 0s 9ms/step - loss: 0.0694 - accuracy: 0.9758 - val_loss: 0.0871 - val_accuracy: 0.9649\n",
            "Epoch 39/50\n",
            "15/15 [==============================] - 0s 10ms/step - loss: 0.0637 - accuracy: 0.9714 - val_loss: 0.0864 - val_accuracy: 0.9649\n",
            "Epoch 40/50\n",
            "15/15 [==============================] - 0s 9ms/step - loss: 0.0734 - accuracy: 0.9692 - val_loss: 0.0862 - val_accuracy: 0.9649\n",
            "Epoch 41/50\n",
            "15/15 [==============================] - 0s 9ms/step - loss: 0.0547 - accuracy: 0.9780 - val_loss: 0.0842 - val_accuracy: 0.9649\n",
            "Epoch 42/50\n",
            "15/15 [==============================] - 0s 9ms/step - loss: 0.0642 - accuracy: 0.9802 - val_loss: 0.0848 - val_accuracy: 0.9649\n",
            "Epoch 43/50\n",
            "15/15 [==============================] - 0s 9ms/step - loss: 0.0835 - accuracy: 0.9692 - val_loss: 0.0842 - val_accuracy: 0.9649\n",
            "Epoch 44/50\n",
            "15/15 [==============================] - 0s 9ms/step - loss: 0.0564 - accuracy: 0.9824 - val_loss: 0.0836 - val_accuracy: 0.9649\n",
            "Epoch 45/50\n",
            "15/15 [==============================] - 0s 9ms/step - loss: 0.0561 - accuracy: 0.9802 - val_loss: 0.0822 - val_accuracy: 0.9649\n",
            "Epoch 46/50\n",
            "15/15 [==============================] - 0s 9ms/step - loss: 0.0652 - accuracy: 0.9758 - val_loss: 0.0809 - val_accuracy: 0.9649\n",
            "Epoch 47/50\n",
            "15/15 [==============================] - 0s 9ms/step - loss: 0.0713 - accuracy: 0.9736 - val_loss: 0.0802 - val_accuracy: 0.9649\n",
            "Epoch 48/50\n",
            "15/15 [==============================] - 0s 9ms/step - loss: 0.0527 - accuracy: 0.9846 - val_loss: 0.0823 - val_accuracy: 0.9649\n",
            "Epoch 49/50\n",
            "15/15 [==============================] - 0s 9ms/step - loss: 0.0529 - accuracy: 0.9758 - val_loss: 0.0823 - val_accuracy: 0.9649\n",
            "Epoch 50/50\n",
            "15/15 [==============================] - 0s 9ms/step - loss: 0.0533 - accuracy: 0.9824 - val_loss: 0.0792 - val_accuracy: 0.9649\n"
          ],
          "name": "stdout"
        }
      ]
    },
    {
      "cell_type": "code",
      "metadata": {
        "id": "cySf3N2uDBah",
        "colab_type": "code",
        "colab": {
          "base_uri": "https://localhost:8080/",
          "height": 88
        },
        "outputId": "2c3a75c5-3c33-474b-c35f-40ebee577da6"
      },
      "source": [
        "y_pred = model.predict_classes(x_test)"
      ],
      "execution_count": null,
      "outputs": [
        {
          "output_type": "stream",
          "text": [
            "WARNING:tensorflow:From <ipython-input-36-bae1a118294d>:1: Sequential.predict_classes (from tensorflow.python.keras.engine.sequential) is deprecated and will be removed after 2021-01-01.\n",
            "Instructions for updating:\n",
            "Please use instead:* `np.argmax(model.predict(x), axis=-1)`,   if your model does multi-class classification   (e.g. if it uses a `softmax` last-layer activation).* `(model.predict(x) > 0.5).astype(\"int32\")`,   if your model does binary classification   (e.g. if it uses a `sigmoid` last-layer activation).\n"
          ],
          "name": "stdout"
        }
      ]
    },
    {
      "cell_type": "code",
      "metadata": {
        "id": "X1--ef4ZDcY6",
        "colab_type": "code",
        "colab": {
          "base_uri": "https://localhost:8080/",
          "height": 68
        },
        "outputId": "40523b01-df1a-408e-a188-abeccd70ea75"
      },
      "source": [
        "print(cancer['target_names'][int(y_pred[5])]), print(y_test[5])"
      ],
      "execution_count": null,
      "outputs": [
        {
          "output_type": "stream",
          "text": [
            "benign\n",
            "1\n"
          ],
          "name": "stdout"
        },
        {
          "output_type": "execute_result",
          "data": {
            "text/plain": [
              "(None, None)"
            ]
          },
          "metadata": {
            "tags": []
          },
          "execution_count": 41
        }
      ]
    },
    {
      "cell_type": "code",
      "metadata": {
        "id": "G5QVJfg4DgUA",
        "colab_type": "code",
        "colab": {
          "base_uri": "https://localhost:8080/",
          "height": 34
        },
        "outputId": "64c6f908-8a8f-4c4b-a3a6-6cd6916fd2f3"
      },
      "source": [
        "cancer['target_names']"
      ],
      "execution_count": null,
      "outputs": [
        {
          "output_type": "execute_result",
          "data": {
            "text/plain": [
              "array(['malignant', 'benign'], dtype='<U9')"
            ]
          },
          "metadata": {
            "tags": []
          },
          "execution_count": 40
        }
      ]
    },
    {
      "cell_type": "code",
      "metadata": {
        "id": "TyRTsDjKDyoW",
        "colab_type": "code",
        "colab": {}
      },
      "source": [
        "#confusion matrix\n",
        "from sklearn.metrics import confusion_matrix, accuracy_score"
      ],
      "execution_count": null,
      "outputs": []
    },
    {
      "cell_type": "code",
      "metadata": {
        "id": "-PRz0ILVEZ1u",
        "colab_type": "code",
        "colab": {}
      },
      "source": [
        "cm = confusion_matrix(y_pred, y_test)"
      ],
      "execution_count": null,
      "outputs": []
    },
    {
      "cell_type": "code",
      "metadata": {
        "id": "8uqABefOEdiy",
        "colab_type": "code",
        "colab": {
          "base_uri": "https://localhost:8080/",
          "height": 51
        },
        "outputId": "2b551c26-e381-4274-b845-2d2591efa6b1"
      },
      "source": [
        "cm"
      ],
      "execution_count": null,
      "outputs": [
        {
          "output_type": "execute_result",
          "data": {
            "text/plain": [
              "array([[44,  1],\n",
              "       [ 3, 66]])"
            ]
          },
          "metadata": {
            "tags": []
          },
          "execution_count": 44
        }
      ]
    },
    {
      "cell_type": "code",
      "metadata": {
        "id": "jr6F-NZPEeJB",
        "colab_type": "code",
        "colab": {
          "base_uri": "https://localhost:8080/",
          "height": 34
        },
        "outputId": "615b74dc-8d0e-4258-9c8a-8fa50fb3721e"
      },
      "source": [
        "acc_score = accuracy_score(y_pred, y_test)\n",
        "acc_score"
      ],
      "execution_count": null,
      "outputs": [
        {
          "output_type": "execute_result",
          "data": {
            "text/plain": [
              "0.9649122807017544"
            ]
          },
          "metadata": {
            "tags": []
          },
          "execution_count": 45
        }
      ]
    },
    {
      "cell_type": "code",
      "metadata": {
        "id": "VHRtD0RBEoxH",
        "colab_type": "code",
        "colab": {}
      },
      "source": [
        ""
      ],
      "execution_count": null,
      "outputs": []
    }
  ]
}