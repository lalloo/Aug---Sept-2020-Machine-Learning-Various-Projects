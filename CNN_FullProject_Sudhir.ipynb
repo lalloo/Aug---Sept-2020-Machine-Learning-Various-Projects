{
 "cells": [
  {
   "cell_type": "code",
   "execution_count": 1,
   "metadata": {},
   "outputs": [],
   "source": [
    "import tensorflow as tf\n",
    "import numpy as np\n",
    "import pandas as pd\n",
    "import matplotlib.pyplot as plt\n",
    "import matplotlib as mpl\n",
    "%matplotlib inline\n",
    "from tensorflow.keras.preprocessing.image import ImageDataGenerator"
   ]
  },
  {
   "cell_type": "code",
   "execution_count": 2,
   "metadata": {},
   "outputs": [],
   "source": [
    "train_dir = r'C:\\Users\\Sudir\\Desktop\\SDLLearn\\4.CNN for Computer Vision with Keras and TF in Python\\Others\\CNN Python Code\\train'\n",
    "validation_dir = r'C:\\Users\\Sudir\\Desktop\\SDLLearn\\4.CNN for Computer Vision with Keras and TF in Python\\Others\\CNN Python Code\\validation'\n",
    "test_dir = r'C:\\Users\\Sudir\\Desktop\\SDLLearn\\4.CNN for Computer Vision with Keras and TF in Python\\Others\\CNN Python Code\\test'"
   ]
  },
  {
   "cell_type": "code",
   "execution_count": 3,
   "metadata": {},
   "outputs": [
    {
     "name": "stdout",
     "output_type": "stream",
     "text": [
      "Found 2000 images belonging to 2 classes.\n",
      "Found 1000 images belonging to 2 classes.\n"
     ]
    }
   ],
   "source": [
    "#DATA PREPROCESSING\n",
    "train_datagen = ImageDataGenerator(\n",
    "        rescale=1./255)\n",
    "\n",
    "\n",
    "train_generator = train_datagen.flow_from_directory(\n",
    "        train_dir,\n",
    "        target_size=(150, 150),\n",
    "        batch_size=20,\n",
    "        class_mode='binary')\n",
    "\n",
    "test_datagen = ImageDataGenerator(rescale=1./255)\n",
    "\n",
    "validation_generator = test_datagen.flow_from_directory(\n",
    "        validation_dir,\n",
    "        target_size=(150, 150),\n",
    "        batch_size=20,\n",
    "        class_mode='binary')"
   ]
  },
  {
   "cell_type": "code",
   "execution_count": 4,
   "metadata": {},
   "outputs": [],
   "source": [
    "from tensorflow.keras import layers\n",
    "from tensorflow.keras import models"
   ]
  },
  {
   "cell_type": "code",
   "execution_count": 5,
   "metadata": {},
   "outputs": [],
   "source": [
    "model = models.Sequential()\n",
    "\n",
    "model.add(tf.keras.layers.Conv2D (32, (3,3), activation = 'relu', \n",
    "                                 input_shape=(150,150, 3)))\n",
    "model.add(tf.keras.layers.MaxPooling2D((2,2)))\n",
    "\n",
    "model.add(tf.keras.layers.Conv2D (64, (3,3), activation = 'relu'))\n",
    "model.add(tf.keras.layers.MaxPooling2D((2,2)))\n",
    "\n",
    "model.add(tf.keras.layers.Conv2D (128, (3,3), activation = 'relu'))\n",
    "model.add(tf.keras.layers.MaxPooling2D((2,2)))\n",
    "\n",
    "model.add(tf.keras.layers.Conv2D (128, (3,3), activation = 'relu'))\n",
    "model.add(tf.keras.layers.MaxPooling2D((2,2)))\n",
    "\n",
    "model.add(tf.keras.layers.Flatten())\n",
    "\n",
    "model.add(layers.Dense(512, activation='relu'))\n",
    "\n",
    "model.add(layers.Dense(1, activation='sigmoid'))"
   ]
  },
  {
   "cell_type": "code",
   "execution_count": 6,
   "metadata": {},
   "outputs": [
    {
     "name": "stdout",
     "output_type": "stream",
     "text": [
      "Model: \"sequential\"\n",
      "_________________________________________________________________\n",
      "Layer (type)                 Output Shape              Param #   \n",
      "=================================================================\n",
      "conv2d (Conv2D)              (None, 148, 148, 32)      896       \n",
      "_________________________________________________________________\n",
      "max_pooling2d (MaxPooling2D) (None, 74, 74, 32)        0         \n",
      "_________________________________________________________________\n",
      "conv2d_1 (Conv2D)            (None, 72, 72, 64)        18496     \n",
      "_________________________________________________________________\n",
      "max_pooling2d_1 (MaxPooling2 (None, 36, 36, 64)        0         \n",
      "_________________________________________________________________\n",
      "conv2d_2 (Conv2D)            (None, 34, 34, 128)       73856     \n",
      "_________________________________________________________________\n",
      "max_pooling2d_2 (MaxPooling2 (None, 17, 17, 128)       0         \n",
      "_________________________________________________________________\n",
      "conv2d_3 (Conv2D)            (None, 15, 15, 128)       147584    \n",
      "_________________________________________________________________\n",
      "max_pooling2d_3 (MaxPooling2 (None, 7, 7, 128)         0         \n",
      "_________________________________________________________________\n",
      "flatten (Flatten)            (None, 6272)              0         \n",
      "_________________________________________________________________\n",
      "dense (Dense)                (None, 512)               3211776   \n",
      "_________________________________________________________________\n",
      "dense_1 (Dense)              (None, 1)                 513       \n",
      "=================================================================\n",
      "Total params: 3,453,121\n",
      "Trainable params: 3,453,121\n",
      "Non-trainable params: 0\n",
      "_________________________________________________________________\n"
     ]
    }
   ],
   "source": [
    "model.summary()"
   ]
  },
  {
   "cell_type": "code",
   "execution_count": 7,
   "metadata": {},
   "outputs": [],
   "source": [
    "from tensorflow.keras import optimizers\n",
    "\n",
    "model.compile( optimizer= optimizers.RMSprop(lr=1e-4), \n",
    "              loss = 'binary_crossentropy', \n",
    "              metrics=['accuracy'])\n"
   ]
  },
  {
   "cell_type": "code",
   "execution_count": 8,
   "metadata": {},
   "outputs": [
    {
     "name": "stdout",
     "output_type": "stream",
     "text": [
      "Epoch 1/20\n",
      "100/100 [==============================] - 102s 1s/step - loss: 0.6909 - accuracy: 0.5375 - val_loss: 0.6898 - val_accuracy: 0.5000\n",
      "Epoch 2/20\n",
      "100/100 [==============================] - 64s 644ms/step - loss: 0.6657 - accuracy: 0.6005 - val_loss: 0.6606 - val_accuracy: 0.5870\n",
      "Epoch 3/20\n",
      "100/100 [==============================] - 68s 675ms/step - loss: 0.6231 - accuracy: 0.6645 - val_loss: 0.6194 - val_accuracy: 0.6800\n",
      "Epoch 4/20\n",
      "100/100 [==============================] - 191s 2s/step - loss: 0.5890 - accuracy: 0.6905 - val_loss: 0.6066 - val_accuracy: 0.6710\n",
      "Epoch 5/20\n",
      "100/100 [==============================] - 85s 854ms/step - loss: 0.5468 - accuracy: 0.7260 - val_loss: 0.5808 - val_accuracy: 0.6890\n",
      "Epoch 6/20\n",
      "100/100 [==============================] - 66s 659ms/step - loss: 0.5198 - accuracy: 0.7390 - val_loss: 0.5811 - val_accuracy: 0.6950\n",
      "Epoch 7/20\n",
      "100/100 [==============================] - 66s 659ms/step - loss: 0.4808 - accuracy: 0.7750 - val_loss: 0.5543 - val_accuracy: 0.7010\n",
      "Epoch 8/20\n",
      "100/100 [==============================] - 66s 660ms/step - loss: 0.4576 - accuracy: 0.7840 - val_loss: 0.5450 - val_accuracy: 0.7230\n",
      "Epoch 9/20\n",
      "100/100 [==============================] - 67s 667ms/step - loss: 0.4370 - accuracy: 0.7945 - val_loss: 0.5416 - val_accuracy: 0.7190\n",
      "Epoch 10/20\n",
      "100/100 [==============================] - 66s 657ms/step - loss: 0.4092 - accuracy: 0.8190 - val_loss: 0.5255 - val_accuracy: 0.7350\n",
      "Epoch 11/20\n",
      "100/100 [==============================] - 66s 662ms/step - loss: 0.3782 - accuracy: 0.8235 - val_loss: 0.6239 - val_accuracy: 0.7010\n",
      "Epoch 12/20\n",
      "100/100 [==============================] - 66s 658ms/step - loss: 0.3595 - accuracy: 0.8395 - val_loss: 0.5604 - val_accuracy: 0.7270\n",
      "Epoch 13/20\n",
      "100/100 [==============================] - 66s 656ms/step - loss: 0.3332 - accuracy: 0.8625 - val_loss: 0.7067 - val_accuracy: 0.6850\n",
      "Epoch 14/20\n",
      "100/100 [==============================] - 66s 659ms/step - loss: 0.3091 - accuracy: 0.8695 - val_loss: 0.5539 - val_accuracy: 0.7400\n",
      "Epoch 15/20\n",
      "100/100 [==============================] - 66s 656ms/step - loss: 0.2845 - accuracy: 0.8785 - val_loss: 0.5799 - val_accuracy: 0.7400\n",
      "Epoch 16/20\n",
      "100/100 [==============================] - 66s 656ms/step - loss: 0.2724 - accuracy: 0.8880 - val_loss: 0.5767 - val_accuracy: 0.7410\n",
      "Epoch 17/20\n",
      "100/100 [==============================] - 66s 655ms/step - loss: 0.2511 - accuracy: 0.8935 - val_loss: 0.5923 - val_accuracy: 0.7450\n",
      "Epoch 18/20\n",
      "100/100 [==============================] - 66s 656ms/step - loss: 0.2302 - accuracy: 0.9135 - val_loss: 0.7464 - val_accuracy: 0.7160\n",
      "Epoch 19/20\n",
      "100/100 [==============================] - 66s 659ms/step - loss: 0.2050 - accuracy: 0.9200 - val_loss: 0.6214 - val_accuracy: 0.7350\n",
      "Epoch 20/20\n",
      "100/100 [==============================] - 66s 657ms/step - loss: 0.1847 - accuracy: 0.9270 - val_loss: 0.6914 - val_accuracy: 0.7260\n"
     ]
    }
   ],
   "source": [
    "history = model.fit(\n",
    "    train_generator, \n",
    "    steps_per_epoch = 100, \n",
    "    epochs=20,\n",
    "    validation_data = validation_generator, \n",
    "    validation_steps= 50)"
   ]
  },
  {
   "cell_type": "code",
   "execution_count": 9,
   "metadata": {},
   "outputs": [
    {
     "data": {
      "image/png": "[encoded data removed]",
      "text/plain": [
       "<Figure size 576x360 with 1 Axes>"
      ]
     },
     "metadata": {
      "needs_background": "light"
     },
     "output_type": "display_data"
    }
   ],
   "source": [
    "pd.DataFrame(history.history).plot(figsize=(8,5))\n",
    "plt.grid(True)\n",
    "plt.gca().set_ylim(0,1)\n",
    "plt.show()"
   ]
  },
  {
   "cell_type": "code",
   "execution_count": 10,
   "metadata": {},
   "outputs": [],
   "source": [
    "model.save('model.h5')"
   ]
  },
  {
   "cell_type": "code",
   "execution_count": 11,
   "metadata": {},
   "outputs": [],
   "source": [
    "from tensorflow.keras import backend as K"
   ]
  },
  {
   "cell_type": "code",
   "execution_count": 12,
   "metadata": {},
   "outputs": [],
   "source": [
    "K.clear_session()\n",
    "del model"
   ]
  },
  {
   "cell_type": "code",
   "execution_count": null,
   "metadata": {},
   "outputs": [],
   "source": []
  }
 ],
 "metadata": {
  "kernelspec": {
   "display_name": "Python 3",
   "language": "python",
   "name": "python3"
  },
  "language_info": {
   "codemirror_mode": {
    "name": "ipython",
    "version": 3
   },
   "file_extension": ".py",
   "mimetype": "text/x-python",
   "name": "python",
   "nbconvert_exporter": "python",
   "pygments_lexer": "ipython3",
   "version": "3.8.3"
  }
 },
 "nbformat": 4,
 "nbformat_minor": 4
}
