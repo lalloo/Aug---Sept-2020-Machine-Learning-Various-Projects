{
  "nbformat": 4,
  "nbformat_minor": 0,
  "metadata": {
    "colab": {
      "name": "Sudhir_ANN_P1.ipynb",
      "provenance": [],
      "collapsed_sections": []
    },
    "kernelspec": {
      "name": "python3",
      "display_name": "Python 3"
    },
    "accelerator": "GPU"
  },
  "cells": [
    {
      "cell_type": "code",
      "metadata": {
        "id": "T3zF-KlcHfAg"
      },
      "source": [
        "import tensorflow as tf\n",
        "from tensorflow import keras\n",
        "import numpy as np\n",
        "import pandas as pd\n",
        "%matplotlib inline\n",
        "import matplotlib as mpl\n",
        "import matplotlib.pyplot as plt"
      ],
      "execution_count": 1,
      "outputs": []
    },
    {
      "cell_type": "code",
      "metadata": {
        "id": "z9kS9PtWHwQR",
        "outputId": "7605304a-9a3b-4ab4-c9d0-8508369a99ae",
        "colab": {
          "base_uri": "https://localhost:8080/",
          "height": 35
        }
      },
      "source": [
        "tf.__version__"
      ],
      "execution_count": 2,
      "outputs": [
        {
          "output_type": "execute_result",
          "data": {
            "application/vnd.google.colaboratory.intrinsic+json": {
              "type": "string"
            },
            "text/plain": [
              "'2.3.0'"
            ]
          },
          "metadata": {
            "tags": []
          },
          "execution_count": 2
        }
      ]
    },
    {
      "cell_type": "code",
      "metadata": {
        "id": "EMG0xmoYH4I8",
        "outputId": "8914268b-b625-4cb3-9bc6-fbc05aa32140",
        "colab": {
          "base_uri": "https://localhost:8080/",
          "height": 35
        }
      },
      "source": [
        "keras.__version__"
      ],
      "execution_count": 3,
      "outputs": [
        {
          "output_type": "execute_result",
          "data": {
            "application/vnd.google.colaboratory.intrinsic+json": {
              "type": "string"
            },
            "text/plain": [
              "'2.4.0'"
            ]
          },
          "metadata": {
            "tags": []
          },
          "execution_count": 3
        }
      ]
    },
    {
      "cell_type": "code",
      "metadata": {
        "id": "h2Os5HYpH73l",
        "outputId": "fff1bcfc-a3c0-40b5-ae33-4c8ca48ced65",
        "colab": {
          "base_uri": "https://localhost:8080/"
        }
      },
      "source": [
        "fashion_mnist = keras.datasets.fashion_mnist\n",
        "(X_train_full, y_train_full), (X_test, y_test) = fashion_mnist.load_data()"
      ],
      "execution_count": 4,
      "outputs": [
        {
          "output_type": "stream",
          "text": [
            "Downloading data from https://storage.googleapis.com/tensorflow/tf-keras-datasets/train-labels-idx1-ubyte.gz\n",
            "32768/29515 [=================================] - 0s 0us/step\n",
            "Downloading data from https://storage.googleapis.com/tensorflow/tf-keras-datasets/train-images-idx3-ubyte.gz\n",
            "26427392/26421880 [==============================] - 0s 0us/step\n",
            "Downloading data from https://storage.googleapis.com/tensorflow/tf-keras-datasets/t10k-labels-idx1-ubyte.gz\n",
            "8192/5148 [===============================================] - 0s 0us/step\n",
            "Downloading data from https://storage.googleapis.com/tensorflow/tf-keras-datasets/t10k-images-idx3-ubyte.gz\n",
            "4423680/4422102 [==============================] - 0s 0us/step\n"
          ],
          "name": "stdout"
        }
      ]
    },
    {
      "cell_type": "code",
      "metadata": {
        "id": "H3teCPVoIhow",
        "outputId": "360f7cbe-fa3e-413b-f269-e79717fcf245",
        "colab": {
          "base_uri": "https://localhost:8080/",
          "height": 281
        }
      },
      "source": [
        "plt.imshow(X_train_full[10])"
      ],
      "execution_count": 5,
      "outputs": [
        {
          "output_type": "execute_result",
          "data": {
            "text/plain": [
              "<matplotlib.image.AxesImage at 0x7f1e3476ac50>"
            ]
          },
          "metadata": {
            "tags": []
          },
          "execution_count": 5
        },
        {
          "output_type": "display_data",
          "data": {
            "image/png": "[encoded data removed]",
            "text/plain": [
              "<Figure size 432x288 with 1 Axes>"
            ]
          },
          "metadata": {
            "tags": [],
            "needs_background": "light"
          }
        }
      ]
    },
    {
      "cell_type": "code",
      "metadata": {
        "id": "RL76UJDjPG07",
        "outputId": "71c9843b-338b-4387-b894-b54e11223799",
        "colab": {
          "base_uri": "https://localhost:8080/"
        }
      },
      "source": [
        "y_train_full[10]"
      ],
      "execution_count": 6,
      "outputs": [
        {
          "output_type": "execute_result",
          "data": {
            "text/plain": [
              "0"
            ]
          },
          "metadata": {
            "tags": []
          },
          "execution_count": 6
        }
      ]
    },
    {
      "cell_type": "code",
      "metadata": {
        "id": "gtVY5nt9Ptys"
      },
      "source": [
        "class_names = [\"T-shirt/top\", \"Trouser\", \"Pullover\", \"Dress\", \"Coat\",\n",
        "               \"Sandal\", \"Shirt\", \"Sneaker\", \"Bag\", \"Ankle boot\"]"
      ],
      "execution_count": 7,
      "outputs": []
    },
    {
      "cell_type": "code",
      "metadata": {
        "id": "G-YINggLPxIb"
      },
      "source": [
        "X_train_n = X_train_full/255.\n",
        "X_test_n = X_test/255."
      ],
      "execution_count": 9,
      "outputs": []
    },
    {
      "cell_type": "code",
      "metadata": {
        "id": "CDZzfftU2lI1"
      },
      "source": [
        "X_valid, X_train = X_train_n[:5000], X_train_n[5000:]\n",
        "y_valid, y_train = y_train_full[:5000], y_train_full[5000:]\n",
        "X_test = X_test_n"
      ],
      "execution_count": 10,
      "outputs": []
    },
    {
      "cell_type": "code",
      "metadata": {
        "id": "-rITnYNuQw6-"
      },
      "source": [
        "np.random.seed(42)\n",
        "tf.random.set_seed(42)"
      ],
      "execution_count": 11,
      "outputs": []
    },
    {
      "cell_type": "code",
      "metadata": {
        "id": "rF1RQRPIQ8tQ"
      },
      "source": [
        "model = tf.keras.models.Sequential()\n",
        "model.add(tf.keras.layers.Flatten(input_shape=[28,28]))\n",
        "model.add(tf.keras.layers.Dense(300, activation='relu'))\n",
        "model.add(tf.keras.layers.Dense(100, activation='relu'))\n",
        "model.add(tf.keras.layers.Dense(10,activation='softmax'))"
      ],
      "execution_count": 12,
      "outputs": []
    },
    {
      "cell_type": "code",
      "metadata": {
        "id": "KnuZyO5DSSK_",
        "outputId": "d4edb76e-6586-4020-e8b8-558d260a6fa1",
        "colab": {
          "base_uri": "https://localhost:8080/"
        }
      },
      "source": [
        "model.summary()"
      ],
      "execution_count": 13,
      "outputs": [
        {
          "output_type": "stream",
          "text": [
            "Model: \"sequential\"\n",
            "_________________________________________________________________\n",
            "Layer (type)                 Output Shape              Param #   \n",
            "=================================================================\n",
            "flatten (Flatten)            (None, 784)               0         \n",
            "_________________________________________________________________\n",
            "dense (Dense)                (None, 300)               235500    \n",
            "_________________________________________________________________\n",
            "dense_1 (Dense)              (None, 100)               30100     \n",
            "_________________________________________________________________\n",
            "dense_2 (Dense)              (None, 10)                1010      \n",
            "=================================================================\n",
            "Total params: 266,610\n",
            "Trainable params: 266,610\n",
            "Non-trainable params: 0\n",
            "_________________________________________________________________\n"
          ],
          "name": "stdout"
        }
      ]
    },
    {
      "cell_type": "code",
      "metadata": {
        "id": "BcDDcSiPSWwb",
        "outputId": "a9d6d566-c7a6-48ac-8904-c4ae2e26c65c",
        "colab": {
          "base_uri": "https://localhost:8080/",
          "height": 466
        }
      },
      "source": [
        "import pydot\n",
        "keras.utils.plot_model(model)"
      ],
      "execution_count": 14,
      "outputs": [
        {
          "output_type": "execute_result",
          "data": {
            "image/png": "[encoded data removed]",
            "text/plain": [
              "<IPython.core.display.Image object>"
            ]
          },
          "metadata": {
            "tags": []
          },
          "execution_count": 14
        }
      ]
    },
    {
      "cell_type": "code",
      "metadata": {
        "id": "Tde_3Qn4SapM"
      },
      "source": [
        "weights, biases = model.layers[1].get_weights()"
      ],
      "execution_count": 15,
      "outputs": []
    },
    {
      "cell_type": "code",
      "metadata": {
        "id": "UcdZweloSuwo",
        "outputId": "b88c0abc-2c24-4553-e73c-ede7774ffefd",
        "colab": {
          "base_uri": "https://localhost:8080/"
        }
      },
      "source": [
        "weights"
      ],
      "execution_count": 16,
      "outputs": [
        {
          "output_type": "execute_result",
          "data": {
            "text/plain": [
              "array([[ 0.02448617, -0.00877795, -0.02189048, ..., -0.02766046,\n",
              "         0.03859074, -0.06889391],\n",
              "       [ 0.00476504, -0.03105379, -0.0586676 , ...,  0.00602964,\n",
              "        -0.02763776, -0.04165364],\n",
              "       [-0.06189284, -0.06901957,  0.07102345, ..., -0.04238207,\n",
              "         0.07121518, -0.07331658],\n",
              "       ...,\n",
              "       [-0.03048757,  0.02155137, -0.05400612, ..., -0.00113463,\n",
              "         0.00228987,  0.05581069],\n",
              "       [ 0.07061854, -0.06960931,  0.07038955, ..., -0.00384101,\n",
              "         0.00034875,  0.02878492],\n",
              "       [-0.06022581,  0.01577859, -0.02585464, ..., -0.00527829,\n",
              "         0.00272203, -0.06793761]], dtype=float32)"
            ]
          },
          "metadata": {
            "tags": []
          },
          "execution_count": 16
        }
      ]
    },
    {
      "cell_type": "code",
      "metadata": {
        "id": "8Yc4rrjPS4ev",
        "outputId": "f410e302-886c-484f-ca89-e3eed13cf9d4",
        "colab": {
          "base_uri": "https://localhost:8080/"
        }
      },
      "source": [
        "biases"
      ],
      "execution_count": 17,
      "outputs": [
        {
          "output_type": "execute_result",
          "data": {
            "text/plain": [
              "array([0., 0., 0., 0., 0., 0., 0., 0., 0., 0., 0., 0., 0., 0., 0., 0., 0.,\n",
              "       0., 0., 0., 0., 0., 0., 0., 0., 0., 0., 0., 0., 0., 0., 0., 0., 0.,\n",
              "       0., 0., 0., 0., 0., 0., 0., 0., 0., 0., 0., 0., 0., 0., 0., 0., 0.,\n",
              "       0., 0., 0., 0., 0., 0., 0., 0., 0., 0., 0., 0., 0., 0., 0., 0., 0.,\n",
              "       0., 0., 0., 0., 0., 0., 0., 0., 0., 0., 0., 0., 0., 0., 0., 0., 0.,\n",
              "       0., 0., 0., 0., 0., 0., 0., 0., 0., 0., 0., 0., 0., 0., 0., 0., 0.,\n",
              "       0., 0., 0., 0., 0., 0., 0., 0., 0., 0., 0., 0., 0., 0., 0., 0., 0.,\n",
              "       0., 0., 0., 0., 0., 0., 0., 0., 0., 0., 0., 0., 0., 0., 0., 0., 0.,\n",
              "       0., 0., 0., 0., 0., 0., 0., 0., 0., 0., 0., 0., 0., 0., 0., 0., 0.,\n",
              "       0., 0., 0., 0., 0., 0., 0., 0., 0., 0., 0., 0., 0., 0., 0., 0., 0.,\n",
              "       0., 0., 0., 0., 0., 0., 0., 0., 0., 0., 0., 0., 0., 0., 0., 0., 0.,\n",
              "       0., 0., 0., 0., 0., 0., 0., 0., 0., 0., 0., 0., 0., 0., 0., 0., 0.,\n",
              "       0., 0., 0., 0., 0., 0., 0., 0., 0., 0., 0., 0., 0., 0., 0., 0., 0.,\n",
              "       0., 0., 0., 0., 0., 0., 0., 0., 0., 0., 0., 0., 0., 0., 0., 0., 0.,\n",
              "       0., 0., 0., 0., 0., 0., 0., 0., 0., 0., 0., 0., 0., 0., 0., 0., 0.,\n",
              "       0., 0., 0., 0., 0., 0., 0., 0., 0., 0., 0., 0., 0., 0., 0., 0., 0.,\n",
              "       0., 0., 0., 0., 0., 0., 0., 0., 0., 0., 0., 0., 0., 0., 0., 0., 0.,\n",
              "       0., 0., 0., 0., 0., 0., 0., 0., 0., 0., 0.], dtype=float32)"
            ]
          },
          "metadata": {
            "tags": []
          },
          "execution_count": 17
        }
      ]
    },
    {
      "cell_type": "code",
      "metadata": {
        "id": "kLCzrphaS8B3"
      },
      "source": [
        "model.compile(loss=\"sparse_categorical_crossentropy\",\n",
        "              optimizer=\"sgd\",\n",
        "              metrics=[\"accuracy\"])"
      ],
      "execution_count": 18,
      "outputs": []
    },
    {
      "cell_type": "code",
      "metadata": {
        "id": "ONNLxD5o2Cbv",
        "outputId": "8dd82f4d-71a5-42ee-c1aa-a2c34437081c",
        "colab": {
          "base_uri": "https://localhost:8080/"
        }
      },
      "source": [
        "model_history = model.fit(X_train, y_train, epochs=30, validation_data=(X_valid, y_valid))"
      ],
      "execution_count": 19,
      "outputs": [
        {
          "output_type": "stream",
          "text": [
            "Epoch 1/30\n",
            "1719/1719 [==============================] - 5s 3ms/step - loss: 0.7237 - accuracy: 0.7644 - val_loss: 0.5207 - val_accuracy: 0.8234\n",
            "Epoch 2/30\n",
            "1719/1719 [==============================] - 5s 3ms/step - loss: 0.4843 - accuracy: 0.8318 - val_loss: 0.4345 - val_accuracy: 0.8538\n",
            "Epoch 3/30\n",
            "1719/1719 [==============================] - 4s 3ms/step - loss: 0.4393 - accuracy: 0.8454 - val_loss: 0.5332 - val_accuracy: 0.7980\n",
            "Epoch 4/30\n",
            "1719/1719 [==============================] - 5s 3ms/step - loss: 0.4125 - accuracy: 0.8565 - val_loss: 0.3918 - val_accuracy: 0.8646\n",
            "Epoch 5/30\n",
            "1719/1719 [==============================] - 5s 3ms/step - loss: 0.3941 - accuracy: 0.8618 - val_loss: 0.3749 - val_accuracy: 0.8686\n",
            "Epoch 6/30\n",
            "1719/1719 [==============================] - 5s 3ms/step - loss: 0.3754 - accuracy: 0.8677 - val_loss: 0.3707 - val_accuracy: 0.8732\n",
            "Epoch 7/30\n",
            "1719/1719 [==============================] - 5s 3ms/step - loss: 0.3635 - accuracy: 0.8712 - val_loss: 0.3621 - val_accuracy: 0.8720\n",
            "Epoch 8/30\n",
            "1719/1719 [==============================] - 5s 3ms/step - loss: 0.3520 - accuracy: 0.8748 - val_loss: 0.3861 - val_accuracy: 0.8628\n",
            "Epoch 9/30\n",
            "1719/1719 [==============================] - 5s 3ms/step - loss: 0.3418 - accuracy: 0.8789 - val_loss: 0.3594 - val_accuracy: 0.8700\n",
            "Epoch 10/30\n",
            "1719/1719 [==============================] - 5s 3ms/step - loss: 0.3325 - accuracy: 0.8825 - val_loss: 0.3423 - val_accuracy: 0.8774\n",
            "Epoch 11/30\n",
            "1719/1719 [==============================] - 5s 3ms/step - loss: 0.3244 - accuracy: 0.8834 - val_loss: 0.3438 - val_accuracy: 0.8768\n",
            "Epoch 12/30\n",
            "1719/1719 [==============================] - 5s 3ms/step - loss: 0.3151 - accuracy: 0.8864 - val_loss: 0.3305 - val_accuracy: 0.8822\n",
            "Epoch 13/30\n",
            "1719/1719 [==============================] - 5s 3ms/step - loss: 0.3083 - accuracy: 0.8894 - val_loss: 0.3266 - val_accuracy: 0.8880\n",
            "Epoch 14/30\n",
            "1719/1719 [==============================] - 5s 3ms/step - loss: 0.3023 - accuracy: 0.8913 - val_loss: 0.3387 - val_accuracy: 0.8788\n",
            "Epoch 15/30\n",
            "1719/1719 [==============================] - 5s 3ms/step - loss: 0.2949 - accuracy: 0.8941 - val_loss: 0.3217 - val_accuracy: 0.8848\n",
            "Epoch 16/30\n",
            "1719/1719 [==============================] - 5s 3ms/step - loss: 0.2893 - accuracy: 0.8971 - val_loss: 0.3094 - val_accuracy: 0.8890\n",
            "Epoch 17/30\n",
            "1719/1719 [==============================] - 5s 3ms/step - loss: 0.2840 - accuracy: 0.8979 - val_loss: 0.3548 - val_accuracy: 0.8738\n",
            "Epoch 18/30\n",
            "1719/1719 [==============================] - 5s 3ms/step - loss: 0.2779 - accuracy: 0.8998 - val_loss: 0.3137 - val_accuracy: 0.8910\n",
            "Epoch 19/30\n",
            "1719/1719 [==============================] - 5s 3ms/step - loss: 0.2730 - accuracy: 0.9019 - val_loss: 0.3127 - val_accuracy: 0.8908\n",
            "Epoch 20/30\n",
            "1719/1719 [==============================] - 5s 3ms/step - loss: 0.2675 - accuracy: 0.9038 - val_loss: 0.3283 - val_accuracy: 0.8814\n",
            "Epoch 21/30\n",
            "1719/1719 [==============================] - 5s 3ms/step - loss: 0.2625 - accuracy: 0.9056 - val_loss: 0.3076 - val_accuracy: 0.8920\n",
            "Epoch 22/30\n",
            "1719/1719 [==============================] - 4s 3ms/step - loss: 0.2576 - accuracy: 0.9075 - val_loss: 0.2976 - val_accuracy: 0.8964\n",
            "Epoch 23/30\n",
            "1719/1719 [==============================] - 4s 3ms/step - loss: 0.2534 - accuracy: 0.9084 - val_loss: 0.2998 - val_accuracy: 0.8924\n",
            "Epoch 24/30\n",
            "1719/1719 [==============================] - 4s 3ms/step - loss: 0.2487 - accuracy: 0.9099 - val_loss: 0.3081 - val_accuracy: 0.8888\n",
            "Epoch 25/30\n",
            "1719/1719 [==============================] - 5s 3ms/step - loss: 0.2445 - accuracy: 0.9121 - val_loss: 0.2968 - val_accuracy: 0.8968\n",
            "Epoch 26/30\n",
            "1719/1719 [==============================] - 5s 3ms/step - loss: 0.2405 - accuracy: 0.9135 - val_loss: 0.3076 - val_accuracy: 0.8882\n",
            "Epoch 27/30\n",
            "1719/1719 [==============================] - 4s 3ms/step - loss: 0.2361 - accuracy: 0.9154 - val_loss: 0.3010 - val_accuracy: 0.8946\n",
            "Epoch 28/30\n",
            "1719/1719 [==============================] - 5s 3ms/step - loss: 0.2328 - accuracy: 0.9158 - val_loss: 0.2994 - val_accuracy: 0.8930\n",
            "Epoch 29/30\n",
            "1719/1719 [==============================] - 5s 3ms/step - loss: 0.2286 - accuracy: 0.9185 - val_loss: 0.3042 - val_accuracy: 0.8922\n",
            "Epoch 30/30\n",
            "1719/1719 [==============================] - 5s 3ms/step - loss: 0.2252 - accuracy: 0.9187 - val_loss: 0.3020 - val_accuracy: 0.8926\n"
          ],
          "name": "stdout"
        }
      ]
    },
    {
      "cell_type": "code",
      "metadata": {
        "id": "pFwgUhMw4rM6",
        "outputId": "0d53d1d5-49a9-4d14-daa3-5be334c490e4",
        "colab": {
          "base_uri": "https://localhost:8080/"
        }
      },
      "source": [
        "model_history.params\n"
      ],
      "execution_count": 22,
      "outputs": [
        {
          "output_type": "execute_result",
          "data": {
            "text/plain": [
              "{'epochs': 30, 'steps': 1719, 'verbose': 1}"
            ]
          },
          "metadata": {
            "tags": []
          },
          "execution_count": 22
        }
      ]
    },
    {
      "cell_type": "code",
      "metadata": {
        "id": "qcfIP0ap9Gt2",
        "outputId": "5502baa9-d616-4e5f-b49e-8b9f40fa293b",
        "colab": {
          "base_uri": "https://localhost:8080/"
        }
      },
      "source": [
        "model_history.history"
      ],
      "execution_count": 23,
      "outputs": [
        {
          "output_type": "execute_result",
          "data": {
            "text/plain": [
              "{'accuracy': [0.7644181847572327,\n",
              "  0.8317636251449585,\n",
              "  0.8453999757766724,\n",
              "  0.8564545512199402,\n",
              "  0.8618181943893433,\n",
              "  0.867690920829773,\n",
              "  0.8712000250816345,\n",
              "  0.8747636079788208,\n",
              "  0.8788727521896362,\n",
              "  0.8825272917747498,\n",
              "  0.8834182024002075,\n",
              "  0.8863636255264282,\n",
              "  0.8894000053405762,\n",
              "  0.8913090825080872,\n",
              "  0.8941090703010559,\n",
              "  0.8971090912818909,\n",
              "  0.8978727459907532,\n",
              "  0.8997818231582642,\n",
              "  0.9018545746803284,\n",
              "  0.9037818312644958,\n",
              "  0.9056181907653809,\n",
              "  0.9075090885162354,\n",
              "  0.9083818197250366,\n",
              "  0.90989089012146,\n",
              "  0.9120727181434631,\n",
              "  0.913454532623291,\n",
              "  0.915363609790802,\n",
              "  0.9157817959785461,\n",
              "  0.9185090661048889,\n",
              "  0.9187090992927551],\n",
              " 'loss': [0.7236781120300293,\n",
              "  0.4843233525753021,\n",
              "  0.43926575779914856,\n",
              "  0.41252589225769043,\n",
              "  0.3941323161125183,\n",
              "  0.37538430094718933,\n",
              "  0.363508939743042,\n",
              "  0.35204508900642395,\n",
              "  0.34177666902542114,\n",
              "  0.33245787024497986,\n",
              "  0.3243776857852936,\n",
              "  0.31508147716522217,\n",
              "  0.30827346444129944,\n",
              "  0.30234867334365845,\n",
              "  0.29494062066078186,\n",
              "  0.2892504334449768,\n",
              "  0.2839865982532501,\n",
              "  0.27790412306785583,\n",
              "  0.2729617655277252,\n",
              "  0.26753541827201843,\n",
              "  0.26249080896377563,\n",
              "  0.2576333284378052,\n",
              "  0.25344905257225037,\n",
              "  0.24865981936454773,\n",
              "  0.2444847822189331,\n",
              "  0.24050121009349823,\n",
              "  0.23612256348133087,\n",
              "  0.23281940817832947,\n",
              "  0.22860081493854523,\n",
              "  0.2252173125743866],\n",
              " 'val_accuracy': [0.8234000205993652,\n",
              "  0.8537999987602234,\n",
              "  0.7979999780654907,\n",
              "  0.8646000027656555,\n",
              "  0.8686000108718872,\n",
              "  0.873199999332428,\n",
              "  0.871999979019165,\n",
              "  0.8628000020980835,\n",
              "  0.8700000047683716,\n",
              "  0.8773999810218811,\n",
              "  0.876800000667572,\n",
              "  0.8822000026702881,\n",
              "  0.8880000114440918,\n",
              "  0.8787999749183655,\n",
              "  0.8848000168800354,\n",
              "  0.8889999985694885,\n",
              "  0.8737999796867371,\n",
              "  0.890999972820282,\n",
              "  0.8907999992370605,\n",
              "  0.8813999891281128,\n",
              "  0.8920000195503235,\n",
              "  0.896399974822998,\n",
              "  0.8924000263214111,\n",
              "  0.8888000249862671,\n",
              "  0.8967999815940857,\n",
              "  0.8881999850273132,\n",
              "  0.894599974155426,\n",
              "  0.8930000066757202,\n",
              "  0.8921999931335449,\n",
              "  0.8925999999046326],\n",
              " 'val_loss': [0.5206755995750427,\n",
              "  0.4345036745071411,\n",
              "  0.5331909656524658,\n",
              "  0.39175036549568176,\n",
              "  0.37491530179977417,\n",
              "  0.3706667125225067,\n",
              "  0.36208710074424744,\n",
              "  0.38613075017929077,\n",
              "  0.3593842089176178,\n",
              "  0.3423417806625366,\n",
              "  0.34375128149986267,\n",
              "  0.33052921295166016,\n",
              "  0.3266392946243286,\n",
              "  0.3387313187122345,\n",
              "  0.3216586709022522,\n",
              "  0.3094448745250702,\n",
              "  0.35479235649108887,\n",
              "  0.31368425488471985,\n",
              "  0.31267663836479187,\n",
              "  0.3283265233039856,\n",
              "  0.30764952301979065,\n",
              "  0.2975614666938782,\n",
              "  0.29982906579971313,\n",
              "  0.30806344747543335,\n",
              "  0.29680997133255005,\n",
              "  0.3076065480709076,\n",
              "  0.30095359683036804,\n",
              "  0.2993800640106201,\n",
              "  0.30424049496650696,\n",
              "  0.3019767701625824]}"
            ]
          },
          "metadata": {
            "tags": []
          },
          "execution_count": 23
        }
      ]
    },
    {
      "cell_type": "code",
      "metadata": {
        "id": "5xggWsue9hh8"
      },
      "source": [
        "accuracy = model_history.history['accuracy']\n",
        "loss = model_history.history['loss']\n",
        "val_acc = model_history.history['val_accuracy']\n",
        "val_loss = model_history.history['val_loss']\n",
        "epochs = range(1, len(accuracy) + 1)"
      ],
      "execution_count": 25,
      "outputs": []
    },
    {
      "cell_type": "code",
      "metadata": {
        "id": "WCjfzeoi-WzK",
        "outputId": "012c1daa-611c-4db6-b0b9-e6fbdc986dcb",
        "colab": {
          "base_uri": "https://localhost:8080/",
          "height": 295
        }
      },
      "source": [
        "plt.plot(epochs, accuracy, 'r--',label = 'Training Accuracy')\n",
        "plt.plot(epochs, loss, 'go' , label = 'Loss')\n",
        "plt.plot(epochs, val_acc, 'r-', label = 'Val Accuracy')\n",
        "plt.plot(epochs, val_loss, 'g*', label = 'Val Loss')\n",
        "plt.title('Training and validation accuracy')\n",
        "plt.xlabel('Epochs')\n",
        "plt.ylabel('Accuracy')\n",
        "plt.legend()\n",
        "plt.show()\n"
      ],
      "execution_count": 40,
      "outputs": [
        {
          "output_type": "display_data",
          "data": {
            "image/png": "[encoded data removed]",
            "text/plain": [
              "<Figure size 432x288 with 1 Axes>"
            ]
          },
          "metadata": {
            "tags": [],
            "needs_background": "light"
          }
        }
      ]
    },
    {
      "cell_type": "code",
      "metadata": {
        "id": "SfJmyrDt_cGl"
      },
      "source": [
        "X_new = X_test[:3]"
      ],
      "execution_count": 42,
      "outputs": []
    },
    {
      "cell_type": "code",
      "metadata": {
        "id": "-9S7a-yiCEXZ"
      },
      "source": [
        "y_pred = model.predict(X_new)"
      ],
      "execution_count": 43,
      "outputs": []
    },
    {
      "cell_type": "code",
      "metadata": {
        "id": "EpGmnlmgCSoI",
        "outputId": "ce292c64-98f5-47b6-8f3b-48577a43b6a2",
        "colab": {
          "base_uri": "https://localhost:8080/"
        }
      },
      "source": [
        "y_pred.round(2)"
      ],
      "execution_count": 45,
      "outputs": [
        {
          "output_type": "execute_result",
          "data": {
            "text/plain": [
              "array([[0.  , 0.  , 0.  , 0.  , 0.  , 0.01, 0.  , 0.03, 0.  , 0.96],\n",
              "       [0.  , 0.  , 0.99, 0.  , 0.01, 0.  , 0.  , 0.  , 0.  , 0.  ],\n",
              "       [0.  , 1.  , 0.  , 0.  , 0.  , 0.  , 0.  , 0.  , 0.  , 0.  ]],\n",
              "      dtype=float32)"
            ]
          },
          "metadata": {
            "tags": []
          },
          "execution_count": 45
        }
      ]
    },
    {
      "cell_type": "code",
      "metadata": {
        "id": "or93C9cLCUPm",
        "outputId": "40ccd514-e5cf-41dc-be55-eeae1fc3e915",
        "colab": {
          "base_uri": "https://localhost:8080/"
        }
      },
      "source": [
        "y_pred[2]"
      ],
      "execution_count": 46,
      "outputs": [
        {
          "output_type": "execute_result",
          "data": {
            "text/plain": [
              "array([1.70320754e-06, 9.99997854e-01, 1.46915431e-08, 3.57611384e-07,\n",
              "       1.01273955e-07, 1.23489028e-13, 3.54276775e-10, 1.79011862e-13,\n",
              "       8.14468226e-09, 1.12665237e-12], dtype=float32)"
            ]
          },
          "metadata": {
            "tags": []
          },
          "execution_count": 46
        }
      ]
    },
    {
      "cell_type": "code",
      "metadata": {
        "id": "dRssowvDCeAF",
        "outputId": "b09e4bf0-e83b-4c5d-a1bf-4db852d8bed4",
        "colab": {
          "base_uri": "https://localhost:8080/"
        }
      },
      "source": [
        "y_pred = model.predict_classes(X_new)\n",
        "y_pred"
      ],
      "execution_count": 47,
      "outputs": [
        {
          "output_type": "stream",
          "text": [
            "WARNING:tensorflow:From <ipython-input-47-81ace37e545f>:1: Sequential.predict_classes (from tensorflow.python.keras.engine.sequential) is deprecated and will be removed after 2021-01-01.\n",
            "Instructions for updating:\n",
            "Please use instead:* `np.argmax(model.predict(x), axis=-1)`,   if your model does multi-class classification   (e.g. if it uses a `softmax` last-layer activation).* `(model.predict(x) > 0.5).astype(\"int32\")`,   if your model does binary classification   (e.g. if it uses a `sigmoid` last-layer activation).\n"
          ],
          "name": "stdout"
        },
        {
          "output_type": "execute_result",
          "data": {
            "text/plain": [
              "array([9, 2, 1])"
            ]
          },
          "metadata": {
            "tags": []
          },
          "execution_count": 47
        }
      ]
    },
    {
      "cell_type": "code",
      "metadata": {
        "id": "-NCD0RY6CpbG"
      },
      "source": [
        "name_pred = np.array(class_names)"
      ],
      "execution_count": 49,
      "outputs": []
    },
    {
      "cell_type": "code",
      "metadata": {
        "id": "zqBu5x2xC8VY",
        "outputId": "aa56e377-1db8-452c-cb01-8280bd91ebed",
        "colab": {
          "base_uri": "https://localhost:8080/"
        }
      },
      "source": [
        "name_pred[y_pred]"
      ],
      "execution_count": 50,
      "outputs": [
        {
          "output_type": "execute_result",
          "data": {
            "text/plain": [
              "array(['Ankle boot', 'Pullover', 'Trouser'], dtype='<U11')"
            ]
          },
          "metadata": {
            "tags": []
          },
          "execution_count": 50
        }
      ]
    },
    {
      "cell_type": "code",
      "metadata": {
        "id": "B3gfGiIUDaQH",
        "outputId": "4219d141-f94e-484e-db37-ec7162ea65c2",
        "colab": {
          "base_uri": "https://localhost:8080/"
        }
      },
      "source": [
        "y_pred.dtype"
      ],
      "execution_count": 51,
      "outputs": [
        {
          "output_type": "execute_result",
          "data": {
            "text/plain": [
              "dtype('int64')"
            ]
          },
          "metadata": {
            "tags": []
          },
          "execution_count": 51
        }
      ]
    },
    {
      "cell_type": "code",
      "metadata": {
        "id": "is8IINStDkWK",
        "outputId": "9a6d1794-a1bc-45ab-edf1-59b2d769eae3",
        "colab": {
          "base_uri": "https://localhost:8080/",
          "height": 297
        }
      },
      "source": [
        "print(plt.imshow(X_test[0]))\n",
        "print(name_pred[y_pred[0]])"
      ],
      "execution_count": 55,
      "outputs": [
        {
          "output_type": "stream",
          "text": [
            "AxesImage(54,36;334.8x217.44)\n",
            "Ankle boot\n"
          ],
          "name": "stdout"
        },
        {
          "output_type": "display_data",
          "data": {
            "image/png": "[encoded data removed]",
            "text/plain": [
              "<Figure size 432x288 with 1 Axes>"
            ]
          },
          "metadata": {
            "tags": [],
            "needs_background": "light"
          }
        }
      ]
    },
    {
      "cell_type": "code",
      "metadata": {
        "id": "bJtWFae0Drtk",
        "outputId": "731a0d3b-4c99-4e4c-ab1a-0a40358b3fbe",
        "colab": {
          "base_uri": "https://localhost:8080/",
          "height": 297
        }
      },
      "source": [
        "print(plt.imshow(X_test[1]))\n",
        "print(name_pred[y_pred[1]])"
      ],
      "execution_count": 56,
      "outputs": [
        {
          "output_type": "stream",
          "text": [
            "AxesImage(54,36;334.8x217.44)\n",
            "Pullover\n"
          ],
          "name": "stdout"
        },
        {
          "output_type": "display_data",
          "data": {
            "image/png": "[encoded data removed]",
            "text/plain": [
              "<Figure size 432x288 with 1 Axes>"
            ]
          },
          "metadata": {
            "tags": [],
            "needs_background": "light"
          }
        }
      ]
    },
    {
      "cell_type": "code",
      "metadata": {
        "id": "L67tplJbEHLW",
        "outputId": "e893df12-b247-48fa-d6e6-5f6d870054c1",
        "colab": {
          "base_uri": "https://localhost:8080/",
          "height": 297
        }
      },
      "source": [
        "print(plt.imshow(X_test[2]))\n",
        "print(name_pred[y_pred[2]])"
      ],
      "execution_count": 57,
      "outputs": [
        {
          "output_type": "stream",
          "text": [
            "AxesImage(54,36;334.8x217.44)\n",
            "Trouser\n"
          ],
          "name": "stdout"
        },
        {
          "output_type": "display_data",
          "data": {
            "image/png": "[encoded data removed]",
            "text/plain": [
              "<Figure size 432x288 with 1 Axes>"
            ]
          },
          "metadata": {
            "tags": [],
            "needs_background": "light"
          }
        }
      ]
    },
    {
      "cell_type": "code",
      "metadata": {
        "id": "DtJmo3K_EJ2c"
      },
      "source": [
        ""
      ],
      "execution_count": null,
      "outputs": []
    }
  ]
}