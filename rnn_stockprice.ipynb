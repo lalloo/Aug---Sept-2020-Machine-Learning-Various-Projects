{
  "nbformat": 4,
  "nbformat_minor": 0,
  "metadata": {
    "colab": {
      "name": "rnn_stockprice.ipynb",
      "provenance": [],
      "collapsed_sections": []
    },
    "kernelspec": {
      "name": "python3",
      "display_name": "Python 3"
    }
  },
  "cells": [
    {
      "cell_type": "code",
      "metadata": {
        "id": "Zf_CmAmqrg8i"
      },
      "source": [
        "import tensorflow as tf\n",
        "import numpy as np\n",
        "import pandas as pd\n",
        "import matplotlib.pyplot as plt\n"
      ],
      "execution_count": 1,
      "outputs": []
    },
    {
      "cell_type": "code",
      "metadata": {
        "id": "yFr8WwYHuea0"
      },
      "source": [
        "dataset_train = pd.read_csv('/content/Google_Stock_Price_Train.csv')"
      ],
      "execution_count": 2,
      "outputs": []
    },
    {
      "cell_type": "code",
      "metadata": {
        "id": "2Wwf0PskelfB",
        "outputId": "3fe6012f-c10e-49e9-d8ae-79718e8870fa",
        "colab": {
          "base_uri": "https://localhost:8080/",
          "height": 191
        }
      },
      "source": [
        "dataset_train.head()"
      ],
      "execution_count": 3,
      "outputs": [
        {
          "output_type": "execute_result",
          "data": {
            "text/html": [
              "<div>\n",
              "<style scoped>\n",
              "    .dataframe tbody tr th:only-of-type {\n",
              "        vertical-align: middle;\n",
              "    }\n",
              "\n",
              "    .dataframe tbody tr th {\n",
              "        vertical-align: top;\n",
              "    }\n",
              "\n",
              "    .dataframe thead th {\n",
              "        text-align: right;\n",
              "    }\n",
              "</style>\n",
              "<table border=\"1\" class=\"dataframe\">\n",
              "  <thead>\n",
              "    <tr style=\"text-align: right;\">\n",
              "      <th></th>\n",
              "      <th>Date</th>\n",
              "      <th>Open</th>\n",
              "      <th>High</th>\n",
              "      <th>Low</th>\n",
              "      <th>Close</th>\n",
              "      <th>Volume</th>\n",
              "    </tr>\n",
              "  </thead>\n",
              "  <tbody>\n",
              "    <tr>\n",
              "      <th>0</th>\n",
              "      <td>1/3/2012</td>\n",
              "      <td>325.25</td>\n",
              "      <td>332.83</td>\n",
              "      <td>324.97</td>\n",
              "      <td>663.59</td>\n",
              "      <td>7,380,500</td>\n",
              "    </tr>\n",
              "    <tr>\n",
              "      <th>1</th>\n",
              "      <td>1/4/2012</td>\n",
              "      <td>331.27</td>\n",
              "      <td>333.87</td>\n",
              "      <td>329.08</td>\n",
              "      <td>666.45</td>\n",
              "      <td>5,749,400</td>\n",
              "    </tr>\n",
              "    <tr>\n",
              "      <th>2</th>\n",
              "      <td>1/5/2012</td>\n",
              "      <td>329.83</td>\n",
              "      <td>330.75</td>\n",
              "      <td>326.89</td>\n",
              "      <td>657.21</td>\n",
              "      <td>6,590,300</td>\n",
              "    </tr>\n",
              "    <tr>\n",
              "      <th>3</th>\n",
              "      <td>1/6/2012</td>\n",
              "      <td>328.34</td>\n",
              "      <td>328.77</td>\n",
              "      <td>323.68</td>\n",
              "      <td>648.24</td>\n",
              "      <td>5,405,900</td>\n",
              "    </tr>\n",
              "    <tr>\n",
              "      <th>4</th>\n",
              "      <td>1/9/2012</td>\n",
              "      <td>322.04</td>\n",
              "      <td>322.29</td>\n",
              "      <td>309.46</td>\n",
              "      <td>620.76</td>\n",
              "      <td>11,688,800</td>\n",
              "    </tr>\n",
              "  </tbody>\n",
              "</table>\n",
              "</div>"
            ],
            "text/plain": [
              "       Date    Open    High     Low   Close      Volume\n",
              "0  1/3/2012  325.25  332.83  324.97  663.59   7,380,500\n",
              "1  1/4/2012  331.27  333.87  329.08  666.45   5,749,400\n",
              "2  1/5/2012  329.83  330.75  326.89  657.21   6,590,300\n",
              "3  1/6/2012  328.34  328.77  323.68  648.24   5,405,900\n",
              "4  1/9/2012  322.04  322.29  309.46  620.76  11,688,800"
            ]
          },
          "metadata": {
            "tags": []
          },
          "execution_count": 3
        }
      ]
    },
    {
      "cell_type": "code",
      "metadata": {
        "id": "n7uGMm21fB_u",
        "outputId": "778b60b7-962a-4396-a25b-17dabd053d88",
        "colab": {
          "base_uri": "https://localhost:8080/",
          "height": 33
        }
      },
      "source": [
        "len(dataset_train)"
      ],
      "execution_count": 4,
      "outputs": [
        {
          "output_type": "execute_result",
          "data": {
            "text/plain": [
              "1258"
            ]
          },
          "metadata": {
            "tags": []
          },
          "execution_count": 4
        }
      ]
    },
    {
      "cell_type": "code",
      "metadata": {
        "id": "CoF-Iq0mulUa"
      },
      "source": [
        "training_set = dataset_train.iloc[:,1:2].values"
      ],
      "execution_count": 5,
      "outputs": []
    },
    {
      "cell_type": "code",
      "metadata": {
        "id": "m0h4p71Museg",
        "outputId": "df03b873-8638-4171-84c5-47f94a2c72ce",
        "colab": {
          "base_uri": "https://localhost:8080/",
          "height": 131
        }
      },
      "source": [
        "training_set"
      ],
      "execution_count": 6,
      "outputs": [
        {
          "output_type": "execute_result",
          "data": {
            "text/plain": [
              "array([[325.25],\n",
              "       [331.27],\n",
              "       [329.83],\n",
              "       ...,\n",
              "       [793.7 ],\n",
              "       [783.33],\n",
              "       [782.75]])"
            ]
          },
          "metadata": {
            "tags": []
          },
          "execution_count": 6
        }
      ]
    },
    {
      "cell_type": "code",
      "metadata": {
        "id": "jp5WANUauuAD"
      },
      "source": [
        "from sklearn.preprocessing import MinMaxScaler"
      ],
      "execution_count": 7,
      "outputs": []
    },
    {
      "cell_type": "code",
      "metadata": {
        "id": "kxdFn4f7vCAj"
      },
      "source": [
        "#normalised between 0 and 1\n",
        "sc = MinMaxScaler(feature_range=(0,1))\n",
        "training_set_scaled = sc.fit_transform(training_set)"
      ],
      "execution_count": 8,
      "outputs": []
    },
    {
      "cell_type": "code",
      "metadata": {
        "id": "iPQ_jamsxt4m",
        "outputId": "a5e80be4-3c2c-4e78-e0ae-cc6f2435ba5b",
        "colab": {
          "base_uri": "https://localhost:8080/",
          "height": 131
        }
      },
      "source": [
        "training_set_scaled"
      ],
      "execution_count": 9,
      "outputs": [
        {
          "output_type": "execute_result",
          "data": {
            "text/plain": [
              "array([[0.08581368],\n",
              "       [0.09701243],\n",
              "       [0.09433366],\n",
              "       ...,\n",
              "       [0.95725128],\n",
              "       [0.93796041],\n",
              "       [0.93688146]])"
            ]
          },
          "metadata": {
            "tags": []
          },
          "execution_count": 9
        }
      ]
    },
    {
      "cell_type": "code",
      "metadata": {
        "id": "dutiUp5nvSEj"
      },
      "source": [
        "X_train = []\n",
        "y_train = []\n",
        "for i in range(60,1258):\n",
        "  X_train.append(training_set_scaled[i-60:i,0])\n",
        "  y_train.append(training_set_scaled[i,0])\n",
        "X_train, y_train = np.array(X_train), np.array(y_train)"
      ],
      "execution_count": 10,
      "outputs": []
    },
    {
      "cell_type": "code",
      "metadata": {
        "id": "iLVqiaV3wDJX"
      },
      "source": [
        "X_train = np.reshape(X_train,(X_train.shape[0], X_train.shape[1],1))"
      ],
      "execution_count": 11,
      "outputs": []
    },
    {
      "cell_type": "markdown",
      "metadata": {
        "id": "ZwgehNR1xTC_"
      },
      "source": [
        "Building and Training RNN"
      ]
    },
    {
      "cell_type": "code",
      "metadata": {
        "id": "0uBxeK-4xVDX"
      },
      "source": [
        "from keras.models import Sequential\n",
        "from keras.layers import Dense\n",
        "from keras.layers import LSTM\n",
        "from keras.layers import Dropout"
      ],
      "execution_count": 14,
      "outputs": []
    },
    {
      "cell_type": "code",
      "metadata": {
        "id": "geAPE8gXzHkl"
      },
      "source": [
        "regressor = Sequential()"
      ],
      "execution_count": 15,
      "outputs": []
    },
    {
      "cell_type": "code",
      "metadata": {
        "id": "Rk7sMRsZzoAp"
      },
      "source": [
        "regressor.add(LSTM(units=50, return_sequences=True, input_shape= (X_train.shape[1],1)))\n",
        "regressor.add(Dropout(0.2))"
      ],
      "execution_count": 16,
      "outputs": []
    },
    {
      "cell_type": "code",
      "metadata": {
        "id": "A2ZxIbRQnBDI"
      },
      "source": [
        "regressor.add(LSTM(units=50, return_sequences=True))\n",
        "regressor.add(Dropout(0.2))"
      ],
      "execution_count": 17,
      "outputs": []
    },
    {
      "cell_type": "code",
      "metadata": {
        "id": "rCoJt-RbtCUZ"
      },
      "source": [
        "regressor.add(LSTM(units=50, return_sequences=True))\n",
        "regressor.add(Dropout(0.2))"
      ],
      "execution_count": 18,
      "outputs": []
    },
    {
      "cell_type": "code",
      "metadata": {
        "id": "2OAizfrzu1bC"
      },
      "source": [
        "regressor.add(LSTM(units=50))\n",
        "regressor.add(Dropout(0.2))"
      ],
      "execution_count": 19,
      "outputs": []
    },
    {
      "cell_type": "code",
      "metadata": {
        "id": "zrz3wcZzu6l-"
      },
      "source": [
        "regressor.add(Dense(units=1))"
      ],
      "execution_count": 20,
      "outputs": []
    },
    {
      "cell_type": "code",
      "metadata": {
        "id": "FZ6GY2IBv8p7"
      },
      "source": [
        "regressor.compile(optimizer='adam', loss='mean_squared_error')"
      ],
      "execution_count": 21,
      "outputs": []
    },
    {
      "cell_type": "code",
      "metadata": {
        "id": "ddzj7hwsxVs2",
        "outputId": "23703189-6304-43af-ca0e-d5e9dc5ea4a0",
        "colab": {
          "base_uri": "https://localhost:8080/",
          "height": 1000
        }
      },
      "source": [
        "regressor.fit(X_train, y_train, epochs=100, batch_size= 32)"
      ],
      "execution_count": 22,
      "outputs": [
        {
          "output_type": "stream",
          "text": [
            "Epoch 1/100\n",
            "38/38 [==============================] - 4s 112ms/step - loss: 0.0361\n",
            "Epoch 2/100\n",
            "38/38 [==============================] - 4s 117ms/step - loss: 0.0055\n",
            "Epoch 3/100\n",
            "38/38 [==============================] - 4s 114ms/step - loss: 0.0050\n",
            "Epoch 4/100\n",
            "38/38 [==============================] - 4s 113ms/step - loss: 0.0049\n",
            "Epoch 5/100\n",
            "38/38 [==============================] - 4s 114ms/step - loss: 0.0047\n",
            "Epoch 6/100\n",
            "38/38 [==============================] - 4s 112ms/step - loss: 0.0047\n",
            "Epoch 7/100\n",
            "38/38 [==============================] - 4s 113ms/step - loss: 0.0048\n",
            "Epoch 8/100\n",
            "38/38 [==============================] - 4s 116ms/step - loss: 0.0045\n",
            "Epoch 9/100\n",
            "38/38 [==============================] - 4s 117ms/step - loss: 0.0048\n",
            "Epoch 10/100\n",
            "38/38 [==============================] - 4s 113ms/step - loss: 0.0041\n",
            "Epoch 11/100\n",
            "38/38 [==============================] - 4s 113ms/step - loss: 0.0042\n",
            "Epoch 12/100\n",
            "38/38 [==============================] - 4s 114ms/step - loss: 0.0037\n",
            "Epoch 13/100\n",
            "38/38 [==============================] - 4s 115ms/step - loss: 0.0040\n",
            "Epoch 14/100\n",
            "38/38 [==============================] - 4s 113ms/step - loss: 0.0037\n",
            "Epoch 15/100\n",
            "38/38 [==============================] - 4s 116ms/step - loss: 0.0036\n",
            "Epoch 16/100\n",
            "38/38 [==============================] - 4s 113ms/step - loss: 0.0038\n",
            "Epoch 17/100\n",
            "38/38 [==============================] - 4s 116ms/step - loss: 0.0037\n",
            "Epoch 18/100\n",
            "38/38 [==============================] - 4s 114ms/step - loss: 0.0038\n",
            "Epoch 19/100\n",
            "38/38 [==============================] - 4s 116ms/step - loss: 0.0034\n",
            "Epoch 20/100\n",
            "38/38 [==============================] - 5s 126ms/step - loss: 0.0033\n",
            "Epoch 21/100\n",
            "38/38 [==============================] - 5s 125ms/step - loss: 0.0033\n",
            "Epoch 22/100\n",
            "38/38 [==============================] - 4s 113ms/step - loss: 0.0040\n",
            "Epoch 23/100\n",
            "38/38 [==============================] - 4s 118ms/step - loss: 0.0030\n",
            "Epoch 24/100\n",
            "38/38 [==============================] - 4s 116ms/step - loss: 0.0034\n",
            "Epoch 25/100\n",
            "38/38 [==============================] - 4s 118ms/step - loss: 0.0031\n",
            "Epoch 26/100\n",
            "38/38 [==============================] - 5s 124ms/step - loss: 0.0037\n",
            "Epoch 27/100\n",
            "38/38 [==============================] - 5s 128ms/step - loss: 0.0035\n",
            "Epoch 28/100\n",
            "38/38 [==============================] - 5s 125ms/step - loss: 0.0031\n",
            "Epoch 29/100\n",
            "38/38 [==============================] - 5s 129ms/step - loss: 0.0030\n",
            "Epoch 30/100\n",
            "38/38 [==============================] - 5s 127ms/step - loss: 0.0028\n",
            "Epoch 31/100\n",
            "38/38 [==============================] - 4s 113ms/step - loss: 0.0029\n",
            "Epoch 32/100\n",
            "38/38 [==============================] - 4s 116ms/step - loss: 0.0032\n",
            "Epoch 33/100\n",
            "38/38 [==============================] - 4s 116ms/step - loss: 0.0030\n",
            "Epoch 34/100\n",
            "38/38 [==============================] - 4s 116ms/step - loss: 0.0031\n",
            "Epoch 35/100\n",
            "38/38 [==============================] - 4s 114ms/step - loss: 0.0029\n",
            "Epoch 36/100\n",
            "38/38 [==============================] - 4s 117ms/step - loss: 0.0025\n",
            "Epoch 37/100\n",
            "38/38 [==============================] - 4s 116ms/step - loss: 0.0029\n",
            "Epoch 38/100\n",
            "38/38 [==============================] - 4s 115ms/step - loss: 0.0027\n",
            "Epoch 39/100\n",
            "38/38 [==============================] - 5s 121ms/step - loss: 0.0028\n",
            "Epoch 40/100\n",
            "38/38 [==============================] - 4s 113ms/step - loss: 0.0030\n",
            "Epoch 41/100\n",
            "38/38 [==============================] - 4s 117ms/step - loss: 0.0027\n",
            "Epoch 42/100\n",
            "38/38 [==============================] - 4s 113ms/step - loss: 0.0028\n",
            "Epoch 43/100\n",
            "38/38 [==============================] - 4s 118ms/step - loss: 0.0029\n",
            "Epoch 44/100\n",
            "38/38 [==============================] - 4s 113ms/step - loss: 0.0024\n",
            "Epoch 45/100\n",
            "38/38 [==============================] - 4s 114ms/step - loss: 0.0022\n",
            "Epoch 46/100\n",
            "38/38 [==============================] - 4s 118ms/step - loss: 0.0026\n",
            "Epoch 47/100\n",
            "38/38 [==============================] - 4s 117ms/step - loss: 0.0024\n",
            "Epoch 48/100\n",
            "38/38 [==============================] - 5s 119ms/step - loss: 0.0024\n",
            "Epoch 49/100\n",
            "38/38 [==============================] - 4s 117ms/step - loss: 0.0024\n",
            "Epoch 50/100\n",
            "38/38 [==============================] - 4s 118ms/step - loss: 0.0023\n",
            "Epoch 51/100\n",
            "38/38 [==============================] - 4s 115ms/step - loss: 0.0022\n",
            "Epoch 52/100\n",
            "38/38 [==============================] - 4s 115ms/step - loss: 0.0023\n",
            "Epoch 53/100\n",
            "38/38 [==============================] - 4s 116ms/step - loss: 0.0021\n",
            "Epoch 54/100\n",
            "38/38 [==============================] - 4s 118ms/step - loss: 0.0024\n",
            "Epoch 55/100\n",
            "38/38 [==============================] - 5s 119ms/step - loss: 0.0023\n",
            "Epoch 56/100\n",
            "38/38 [==============================] - 4s 117ms/step - loss: 0.0021\n",
            "Epoch 57/100\n",
            "38/38 [==============================] - 4s 116ms/step - loss: 0.0019\n",
            "Epoch 58/100\n",
            "38/38 [==============================] - 4s 117ms/step - loss: 0.0019\n",
            "Epoch 59/100\n",
            "38/38 [==============================] - 4s 115ms/step - loss: 0.0022\n",
            "Epoch 60/100\n",
            "38/38 [==============================] - 4s 113ms/step - loss: 0.0021\n",
            "Epoch 61/100\n",
            "38/38 [==============================] - 4s 117ms/step - loss: 0.0021\n",
            "Epoch 62/100\n",
            "38/38 [==============================] - 4s 117ms/step - loss: 0.0021\n",
            "Epoch 63/100\n",
            "38/38 [==============================] - 4s 113ms/step - loss: 0.0018\n",
            "Epoch 64/100\n",
            "38/38 [==============================] - 5s 120ms/step - loss: 0.0020\n",
            "Epoch 65/100\n",
            "38/38 [==============================] - 4s 114ms/step - loss: 0.0024\n",
            "Epoch 66/100\n",
            "38/38 [==============================] - 4s 115ms/step - loss: 0.0018\n",
            "Epoch 67/100\n",
            "38/38 [==============================] - 4s 117ms/step - loss: 0.0018\n",
            "Epoch 68/100\n",
            "38/38 [==============================] - 4s 114ms/step - loss: 0.0018\n",
            "Epoch 69/100\n",
            "38/38 [==============================] - 4s 117ms/step - loss: 0.0019\n",
            "Epoch 70/100\n",
            "38/38 [==============================] - 4s 115ms/step - loss: 0.0018\n",
            "Epoch 71/100\n",
            "38/38 [==============================] - 4s 114ms/step - loss: 0.0020\n",
            "Epoch 72/100\n",
            "38/38 [==============================] - 4s 116ms/step - loss: 0.0019\n",
            "Epoch 73/100\n",
            "38/38 [==============================] - 4s 116ms/step - loss: 0.0017\n",
            "Epoch 74/100\n",
            "38/38 [==============================] - 4s 118ms/step - loss: 0.0016\n",
            "Epoch 75/100\n",
            "38/38 [==============================] - 4s 115ms/step - loss: 0.0019\n",
            "Epoch 76/100\n",
            "38/38 [==============================] - 4s 118ms/step - loss: 0.0019\n",
            "Epoch 77/100\n",
            "38/38 [==============================] - 4s 114ms/step - loss: 0.0018\n",
            "Epoch 78/100\n",
            "38/38 [==============================] - 4s 114ms/step - loss: 0.0017\n",
            "Epoch 79/100\n",
            "38/38 [==============================] - 4s 117ms/step - loss: 0.0018\n",
            "Epoch 80/100\n",
            "38/38 [==============================] - 5s 144ms/step - loss: 0.0018\n",
            "Epoch 81/100\n",
            "38/38 [==============================] - 6s 169ms/step - loss: 0.0016\n",
            "Epoch 82/100\n",
            "38/38 [==============================] - 6s 155ms/step - loss: 0.0017\n",
            "Epoch 83/100\n",
            "38/38 [==============================] - 5s 119ms/step - loss: 0.0017\n",
            "Epoch 84/100\n",
            "38/38 [==============================] - 4s 117ms/step - loss: 0.0014\n",
            "Epoch 85/100\n",
            "38/38 [==============================] - 4s 115ms/step - loss: 0.0015\n",
            "Epoch 86/100\n",
            "38/38 [==============================] - 5s 120ms/step - loss: 0.0015\n",
            "Epoch 87/100\n",
            "38/38 [==============================] - 5s 125ms/step - loss: 0.0015\n",
            "Epoch 88/100\n",
            "38/38 [==============================] - 5s 120ms/step - loss: 0.0016\n",
            "Epoch 89/100\n",
            "38/38 [==============================] - 4s 118ms/step - loss: 0.0014\n",
            "Epoch 90/100\n",
            "38/38 [==============================] - 4s 117ms/step - loss: 0.0014\n",
            "Epoch 91/100\n",
            "38/38 [==============================] - 4s 116ms/step - loss: 0.0016\n",
            "Epoch 92/100\n",
            "38/38 [==============================] - 4s 115ms/step - loss: 0.0016\n",
            "Epoch 93/100\n",
            "38/38 [==============================] - 4s 114ms/step - loss: 0.0013\n",
            "Epoch 94/100\n",
            "38/38 [==============================] - 4s 115ms/step - loss: 0.0013\n",
            "Epoch 95/100\n",
            "38/38 [==============================] - 5s 119ms/step - loss: 0.0015\n",
            "Epoch 96/100\n",
            "38/38 [==============================] - 5s 130ms/step - loss: 0.0014\n",
            "Epoch 97/100\n",
            "38/38 [==============================] - 5s 127ms/step - loss: 0.0015\n",
            "Epoch 98/100\n",
            "38/38 [==============================] - 5s 127ms/step - loss: 0.0014\n",
            "Epoch 99/100\n",
            "38/38 [==============================] - 5s 130ms/step - loss: 0.0015\n",
            "Epoch 100/100\n",
            "38/38 [==============================] - 5s 123ms/step - loss: 0.0016\n"
          ],
          "name": "stdout"
        },
        {
          "output_type": "execute_result",
          "data": {
            "text/plain": [
              "<tensorflow.python.keras.callbacks.History at 0x7f1e3893aeb8>"
            ]
          },
          "metadata": {
            "tags": []
          },
          "execution_count": 22
        }
      ]
    },
    {
      "cell_type": "code",
      "metadata": {
        "id": "yDtcN_cv0-7F"
      },
      "source": [
        "dataset_test = pd.read_csv('/content/Google_Stock_Price_Test.csv')\n",
        "real_stock_price = dataset_test.iloc[:,1:2].values"
      ],
      "execution_count": 23,
      "outputs": []
    },
    {
      "cell_type": "code",
      "metadata": {
        "id": "rASyV6Z5slf-"
      },
      "source": [
        "dataset_total = pd.concat((dataset_train['Open'], dataset_test['Open']),axis=0)\n",
        "inputs = dataset_total[len(dataset_total)- len(dataset_test)-60:].values\n",
        "inputs = inputs.reshape(-1,1)\n",
        "inputs = sc.transform(inputs)\n",
        "X_test = []\n",
        "for i in range(60,80):\n",
        "  X_test.append(inputs[i-60:i,0])\n",
        "\n",
        "X_test = np.array(X_test)\n",
        "X_test = np.reshape(X_test, (X_test.shape[0], X_test.shape[1],1))\n",
        "predicted_stock_price = regressor.predict(X_test)\n",
        "predicted_stock_price = sc.inverse_transform(predicted_stock_price)"
      ],
      "execution_count": 25,
      "outputs": []
    },
    {
      "cell_type": "code",
      "metadata": {
        "id": "EYFZGdHAuIVA",
        "outputId": "07958aec-b3f0-4b77-bed7-b76799f63f86",
        "colab": {
          "base_uri": "https://localhost:8080/",
          "height": 295
        }
      },
      "source": [
        "plt.plot(real_stock_price, color='red', label = 'Real Google Stock Price')\n",
        "plt.plot(predicted_stock_price, color='blue', label = 'Predicted Stock Price')\n",
        "plt.title('Google Stock Price Prediction')\n",
        "plt.xlabel('Time')\n",
        "plt.ylabel('Google Stock Price')\n",
        "plt.legend()\n",
        "plt.show()"
      ],
      "execution_count": 26,
      "outputs": [
        {
          "output_type": "display_data",
          "data": {
            "image/png": "[encoded data removed]",
            "text/plain": [
              "<Figure size 432x288 with 1 Axes>"
            ]
          },
          "metadata": {
            "tags": [],
            "needs_background": "light"
          }
        }
      ]
    },
    {
      "cell_type": "code",
      "metadata": {
        "id": "poTD_pChukkn"
      },
      "source": [
        ""
      ],
      "execution_count": null,
      "outputs": []
    }
  ]
}