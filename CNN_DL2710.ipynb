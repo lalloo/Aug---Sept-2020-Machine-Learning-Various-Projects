{
 "cells": [
  {
   "cell_type": "markdown",
   "metadata": {
    "id": "w3NTD1r0NUR3"
   },
   "source": [
    "# Import the Libraries"
   ]
  },
  {
   "cell_type": "code",
   "execution_count": 1,
   "metadata": {
    "id": "euHdzRM5NbrK"
   },
   "outputs": [],
   "source": [
    "import tensorflow as tf\n",
    "from keras.preprocessing.image import ImageDataGenerator"
   ]
  },
  {
   "cell_type": "code",
   "execution_count": 2,
   "metadata": {
    "colab": {
     "base_uri": "https://localhost:8080/",
     "height": 33
    },
    "id": "MxfiTKQwNeHM",
    "outputId": "8e24472d-7cd2-4504-910f-6aedb458a8ab"
   },
   "outputs": [
    {
     "name": "stdout",
     "output_type": "stream",
     "text": [
      "Version 2.3.1\n"
     ]
    }
   ],
   "source": [
    "print(\"Version\", tf.__version__)"
   ]
  },
  {
   "cell_type": "markdown",
   "metadata": {
    "id": "5jBdnqjRNlaj"
   },
   "source": [
    "# Preprocessing"
   ]
  },
  {
   "cell_type": "code",
   "execution_count": 3,
   "metadata": {
    "id": "fq1Go1adMT7P"
   },
   "outputs": [],
   "source": [
    "train_datagen = ImageDataGenerator(\n",
    "        rescale=1./255,\n",
    "        shear_range=0.2,\n",
    "        zoom_range=0.2,\n",
    "        horizontal_flip=True)"
   ]
  },
  {
   "cell_type": "code",
   "execution_count": 4,
   "metadata": {
    "id": "QKQ-r8FyMbdb"
   },
   "outputs": [
    {
     "name": "stdout",
     "output_type": "stream",
     "text": [
      "Found 8000 images belonging to 2 classes.\n"
     ]
    }
   ],
   "source": [
    "train_generator = train_datagen.flow_from_directory(\n",
    "        'dataset/training_set',\n",
    "        target_size=(64, 64),\n",
    "        batch_size=32,\n",
    "        class_mode='binary')"
   ]
  },
  {
   "cell_type": "code",
   "execution_count": 5,
   "metadata": {
    "id": "NrS9e4HHM74m"
   },
   "outputs": [],
   "source": [
    "test_datagen = ImageDataGenerator(rescale=1./255)"
   ]
  },
  {
   "cell_type": "code",
   "execution_count": 6,
   "metadata": {
    "id": "RdA_S1_6NBEi"
   },
   "outputs": [
    {
     "name": "stdout",
     "output_type": "stream",
     "text": [
      "Found 2000 images belonging to 2 classes.\n"
     ]
    }
   ],
   "source": [
    "test_set = test_datagen.flow_from_directory(\n",
    "        'dataset/test_set',\n",
    "        target_size=(64, 64),\n",
    "        batch_size=32,\n",
    "        class_mode='binary')"
   ]
  },
  {
   "cell_type": "markdown",
   "metadata": {
    "id": "IKWQd6jCNsji"
   },
   "source": [
    "# Building the CNN"
   ]
  },
  {
   "cell_type": "markdown",
   "metadata": {
    "id": "jsJ4JVP-QdaB"
   },
   "source": [
    "Install the CNN"
   ]
  },
  {
   "cell_type": "code",
   "execution_count": 7,
   "metadata": {
    "id": "6GCU_tUwQQa6"
   },
   "outputs": [],
   "source": [
    "cnn = tf.keras.models.Sequential()"
   ]
  },
  {
   "cell_type": "markdown",
   "metadata": {
    "id": "4xtMAjMCRYMG"
   },
   "source": [
    "Step 1 Convolution"
   ]
  },
  {
   "cell_type": "code",
   "execution_count": 8,
   "metadata": {
    "id": "6zGW4tsWRiS6"
   },
   "outputs": [],
   "source": [
    "cnn.add(tf.keras.layers.Conv2D(filters=32, kernel_size=3, activation='relu', input_shape=(64,64,3)))"
   ]
  },
  {
   "cell_type": "markdown",
   "metadata": {
    "id": "vCOXKeFmS_cc"
   },
   "source": [
    "Step 2 Pooling"
   ]
  },
  {
   "cell_type": "code",
   "execution_count": 9,
   "metadata": {
    "id": "g6Gc9rMRSQ9Y"
   },
   "outputs": [],
   "source": [
    "cnn.add(tf.keras.layers.MaxPool2D(pool_size=2, strides=2))"
   ]
  },
  {
   "cell_type": "markdown",
   "metadata": {
    "id": "ll9ECNftYxxs"
   },
   "source": [
    "Adding a second Convolutional Layer"
   ]
  },
  {
   "cell_type": "code",
   "execution_count": 10,
   "metadata": {
    "id": "QJaGrB1HY1TM"
   },
   "outputs": [],
   "source": [
    "cnn.add(tf.keras.layers.Conv2D(filters=32, kernel_size=3, activation='relu'))\n",
    "cnn.add(tf.keras.layers.MaxPool2D(pool_size=2, strides=2))"
   ]
  },
  {
   "cell_type": "markdown",
   "metadata": {
    "id": "BgKBclXuaCbM"
   },
   "source": [
    "Flattening"
   ]
  },
  {
   "cell_type": "code",
   "execution_count": 11,
   "metadata": {
    "id": "mQjI4uYJZhxr"
   },
   "outputs": [],
   "source": [
    "cnn.add(tf.keras.layers.Flatten())"
   ]
  },
  {
   "cell_type": "markdown",
   "metadata": {
    "id": "BdBxtZtHaGxW"
   },
   "source": [
    "Fully Connected Layer"
   ]
  },
  {
   "cell_type": "code",
   "execution_count": 12,
   "metadata": {
    "id": "KyS0mTllaI-L"
   },
   "outputs": [],
   "source": [
    "cnn.add(tf.keras.layers.Dense(units=128, activation='relu'))"
   ]
  },
  {
   "cell_type": "markdown",
   "metadata": {
    "id": "HZtWnBJka2yE"
   },
   "source": [
    "Output Layer"
   ]
  },
  {
   "cell_type": "code",
   "execution_count": 13,
   "metadata": {
    "id": "3v3UOPlwa3-U"
   },
   "outputs": [],
   "source": [
    "cnn.add(tf.keras.layers.Dense(units=1, activation='sigmoid'))"
   ]
  },
  {
   "cell_type": "markdown",
   "metadata": {
    "id": "ZDqJAzh8eaWN"
   },
   "source": [
    "#Training CNN"
   ]
  },
  {
   "cell_type": "markdown",
   "metadata": {
    "id": "bz4OR7EugBfS"
   },
   "source": [
    "Compile the CNN "
   ]
  },
  {
   "cell_type": "code",
   "execution_count": 14,
   "metadata": {
    "id": "9Qa5q7sTfIJp"
   },
   "outputs": [],
   "source": [
    "cnn.compile(optimizer='adam', loss='binary_crossentropy', metrics=['accuracy'])"
   ]
  },
  {
   "cell_type": "markdown",
   "metadata": {
    "id": "omJzqXc_gIyb"
   },
   "source": [
    "Training the CNN on training set and evaluate the test set"
   ]
  },
  {
   "cell_type": "code",
   "execution_count": 15,
   "metadata": {
    "id": "7i2OkpangAyg"
   },
   "outputs": [
    {
     "name": "stdout",
     "output_type": "stream",
     "text": [
      "Epoch 1/25\n",
      "250/250 [==============================] - 320s 1s/step - loss: 0.6545 - accuracy: 0.6139 - val_loss: 0.6066 - val_accuracy: 0.6675\n",
      "Epoch 2/25\n",
      "250/250 [==============================] - 271s 1s/step - loss: 0.6038 - accuracy: 0.6747 - val_loss: 0.5957 - val_accuracy: 0.6890\n",
      "Epoch 3/25\n",
      "250/250 [==============================] - 190s 761ms/step - loss: 0.5585 - accuracy: 0.7080 - val_loss: 0.5368 - val_accuracy: 0.7370\n",
      "Epoch 4/25\n",
      "250/250 [==============================] - 174s 698ms/step - loss: 0.5352 - accuracy: 0.7293 - val_loss: 0.5118 - val_accuracy: 0.7590\n",
      "Epoch 5/25\n",
      "250/250 [==============================] - 181s 724ms/step - loss: 0.5097 - accuracy: 0.7499 - val_loss: 0.4825 - val_accuracy: 0.7675\n",
      "Epoch 6/25\n",
      "250/250 [==============================] - 112s 447ms/step - loss: 0.4901 - accuracy: 0.7536 - val_loss: 0.4868 - val_accuracy: 0.7725\n",
      "Epoch 7/25\n",
      "250/250 [==============================] - 65s 258ms/step - loss: 0.4750 - accuracy: 0.7679 - val_loss: 0.4693 - val_accuracy: 0.7850\n",
      "Epoch 8/25\n",
      "250/250 [==============================] - 105s 418ms/step - loss: 0.4629 - accuracy: 0.7759 - val_loss: 0.4659 - val_accuracy: 0.7735\n",
      "Epoch 9/25\n",
      "250/250 [==============================] - 65s 261ms/step - loss: 0.4369 - accuracy: 0.7962 - val_loss: 0.4524 - val_accuracy: 0.7905\n",
      "Epoch 10/25\n",
      "250/250 [==============================] - 67s 269ms/step - loss: 0.4153 - accuracy: 0.8062 - val_loss: 0.4640 - val_accuracy: 0.7835\n",
      "Epoch 11/25\n",
      "250/250 [==============================] - 65s 259ms/step - loss: 0.4072 - accuracy: 0.8108 - val_loss: 0.4653 - val_accuracy: 0.7850\n",
      "Epoch 12/25\n",
      "250/250 [==============================] - 67s 266ms/step - loss: 0.4014 - accuracy: 0.8160 - val_loss: 0.4701 - val_accuracy: 0.7815\n",
      "Epoch 13/25\n",
      "250/250 [==============================] - 66s 264ms/step - loss: 0.3856 - accuracy: 0.8186 - val_loss: 0.4629 - val_accuracy: 0.7885\n",
      "Epoch 14/25\n",
      "250/250 [==============================] - 65s 262ms/step - loss: 0.3748 - accuracy: 0.8284 - val_loss: 0.4632 - val_accuracy: 0.7975\n",
      "Epoch 15/25\n",
      "250/250 [==============================] - 164s 656ms/step - loss: 0.3601 - accuracy: 0.8406 - val_loss: 0.4774 - val_accuracy: 0.7835\n",
      "Epoch 16/25\n",
      "250/250 [==============================] - 84s 336ms/step - loss: 0.3513 - accuracy: 0.8400 - val_loss: 0.4695 - val_accuracy: 0.7905\n",
      "Epoch 17/25\n",
      "250/250 [==============================] - 63s 253ms/step - loss: 0.3303 - accuracy: 0.8549 - val_loss: 0.4672 - val_accuracy: 0.7990\n",
      "Epoch 18/25\n",
      "250/250 [==============================] - 63s 254ms/step - loss: 0.3193 - accuracy: 0.8597 - val_loss: 0.4673 - val_accuracy: 0.8065\n",
      "Epoch 19/25\n",
      "250/250 [==============================] - 64s 256ms/step - loss: 0.3053 - accuracy: 0.8614 - val_loss: 0.4842 - val_accuracy: 0.7870\n",
      "Epoch 20/25\n",
      "250/250 [==============================] - 63s 253ms/step - loss: 0.2860 - accuracy: 0.8779 - val_loss: 0.5132 - val_accuracy: 0.7895\n",
      "Epoch 21/25\n",
      "250/250 [==============================] - 65s 261ms/step - loss: 0.2715 - accuracy: 0.8849 - val_loss: 0.5381 - val_accuracy: 0.7790\n",
      "Epoch 22/25\n",
      "250/250 [==============================] - 65s 259ms/step - loss: 0.2655 - accuracy: 0.8854 - val_loss: 0.5128 - val_accuracy: 0.7960\n",
      "Epoch 23/25\n",
      "250/250 [==============================] - 64s 258ms/step - loss: 0.2588 - accuracy: 0.8899 - val_loss: 0.4836 - val_accuracy: 0.8100\n",
      "Epoch 24/25\n",
      "250/250 [==============================] - 65s 258ms/step - loss: 0.2452 - accuracy: 0.9006 - val_loss: 0.5022 - val_accuracy: 0.8005\n",
      "Epoch 25/25\n",
      "250/250 [==============================] - 64s 257ms/step - loss: 0.2252 - accuracy: 0.9089 - val_loss: 0.5242 - val_accuracy: 0.8070\n"
     ]
    },
    {
     "data": {
      "text/plain": [
       "<tensorflow.python.keras.callbacks.History at 0x1af418c0760>"
      ]
     },
     "execution_count": 15,
     "metadata": {},
     "output_type": "execute_result"
    }
   ],
   "source": [
    "cnn.fit(train_generator, validation_data= test_set, epochs=25)"
   ]
  },
  {
   "cell_type": "code",
   "execution_count": null,
   "metadata": {
    "id": "SLODkvrRe2jy"
   },
   "outputs": [],
   "source": []
  },
  {
   "cell_type": "markdown",
   "metadata": {
    "id": "481-QlS_gzbG"
   },
   "source": [
    "# MAKE SINGLE PREDICTION"
   ]
  },
  {
   "cell_type": "code",
   "execution_count": 16,
   "metadata": {
    "id": "jqa3-gNHg1wW"
   },
   "outputs": [],
   "source": [
    "import numpy as np\n",
    "from keras.preprocessing import image"
   ]
  },
  {
   "cell_type": "code",
   "execution_count": 31,
   "metadata": {
    "id": "NjjnlTnNhLob"
   },
   "outputs": [
    {
     "name": "stdout",
     "output_type": "stream",
     "text": [
      "Dog\n"
     ]
    }
   ],
   "source": [
    "test_image = image.load_img('dataset/single_prediction/cat_or_dog_1.jpg',target_size=(64,64))\n",
    "test_image = image.img_to_array(test_image)\n",
    "test_image = np.expand_dims(test_image, axis=0)\n",
    "result = cnn.predict(test_image)\n",
    "\n",
    "if result[0][0] ==1 :\n",
    "  print('Dog')\n",
    "else :\n",
    "  print('Cat')"
   ]
  },
  {
   "cell_type": "code",
   "execution_count": 24,
   "metadata": {},
   "outputs": [
    {
     "data": {
      "text/plain": [
       "array([[1.]], dtype=float32)"
      ]
     },
     "execution_count": 24,
     "metadata": {},
     "output_type": "execute_result"
    }
   ],
   "source": [
    "result"
   ]
  },
  {
   "cell_type": "code",
   "execution_count": 25,
   "metadata": {},
   "outputs": [
    {
     "data": {
      "text/plain": [
       "1.0"
      ]
     },
     "execution_count": 25,
     "metadata": {},
     "output_type": "execute_result"
    }
   ],
   "source": [
    "result[0,0]"
   ]
  },
  {
   "cell_type": "code",
   "execution_count": 26,
   "metadata": {},
   "outputs": [
    {
     "data": {
      "text/plain": [
       "1.0"
      ]
     },
     "execution_count": 26,
     "metadata": {},
     "output_type": "execute_result"
    }
   ],
   "source": [
    "result[0][0]"
   ]
  },
  {
   "cell_type": "code",
   "execution_count": 28,
   "metadata": {},
   "outputs": [
    {
     "name": "stdout",
     "output_type": "stream",
     "text": [
      "dog\n"
     ]
    }
   ],
   "source": [
    "if result ==1 :\n",
    "    print(\"dog\")\n",
    "else :\n",
    "    print('cat')"
   ]
  },
  {
   "cell_type": "code",
   "execution_count": null,
   "metadata": {},
   "outputs": [],
   "source": []
  }
 ],
 "metadata": {
  "colab": {
   "collapsed_sections": [
    "5jBdnqjRNlaj"
   ],
   "name": "CNN_DL2710.ipynb",
   "provenance": []
  },
  "kernelspec": {
   "display_name": "Python 3",
   "language": "python",
   "name": "python3"
  },
  "language_info": {
   "codemirror_mode": {
    "name": "ipython",
    "version": 3
   },
   "file_extension": ".py",
   "mimetype": "text/x-python",
   "name": "python",
   "nbconvert_exporter": "python",
   "pygments_lexer": "ipython3",
   "version": "3.8.3"
  }
 },
 "nbformat": 4,
 "nbformat_minor": 1
}
